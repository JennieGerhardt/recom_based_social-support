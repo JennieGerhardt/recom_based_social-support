{
 "cells": [
  {
   "cell_type": "code",
   "execution_count": 2,
   "metadata": {
    "collapsed": true
   },
   "outputs": [],
   "source": [
    "# Title     : Data preprocessing\n",
    "# Objective : 预处理\n",
    "# Created by: Little Jennie Fairy\n",
    "# Created on: 2020/9/10\n",
    "\n",
    "import pandas as pd\n",
    "from string import punctuation\n",
    "import re\n",
    "from snownlp import  SnowNLP\n",
    "import jieba\n",
    "import json"
   ]
  },
  {
   "cell_type": "code",
   "execution_count": 3,
   "outputs": [
    {
     "data": {
      "text/plain": "                               portrait             time  \\\n0  tb.1.12244748.C2coF4zPDRtP4ePwmytXNg   2020/3/4 18:41   \n1  tb.1.12244748.C2coF4zPDRtP4ePwmytXNg   2020/2/1 20:14   \n2  tb.1.13466a7b.T9RLqIEQCSX4378-XesPRA  2020/8/23 19:23   \n3  tb.1.145baad2.K0WyjAgZglqXKB9K13OjqQ   2020/9/3 16:40   \n4  tb.1.145baad2.K0WyjAgZglqXKB9K13OjqQ  2020/10/9 13:59   \n5   tb.1.1480533.hJD3JEH6cBD3Xdijtsc-Sg  2020/10/10 0:24   \n6  tb.1.1615750f.SoKVLvFp12BviM9gNLm5mQ   2020/7/18 1:18   \n7  tb.1.1615750f.SoKVLvFp12BviM9gNLm5mQ  2020/10/15 0:07   \n8  tb.1.16e95fde.J5uagtS6rZUWG0lnh1JhBg   2020/4/7 17:13   \n9  tb.1.16e95fde.J5uagtS6rZUWG0lnh1JhBg  2020/9/22 11:39   \n\n                                replied                         content_new  \\\n0  tb.1.12244748.C2coF4zPDRtP4ePwmytXNg                       吧友互动画了个四叶草QwQ   \n1  tb.1.12244748.C2coF4zPDRtP4ePwmytXNg                           emmm说点什么呢   \n2  tb.1.13466a7b.T9RLqIEQCSX4378-XesPRA                            倾诉我想Ta回来   \n3  tb.1.145baad2.K0WyjAgZglqXKB9K13OjqQ                      倾诉开个摘抄贴属于修心类的吧   \n4  tb.1.145baad2.K0WyjAgZglqXKB9K13OjqQ                            倾诉我想坦白一切   \n5   tb.1.1480533.hJD3JEH6cBD3Xdijtsc-Sg                            倾诉你可以爱我吗   \n6  tb.1.1615750f.SoKVLvFp12BviM9gNLm5mQ  求助请问各位服用过盐酸曲舍林医生建议什么时候服用早上中午晚上还是睡前   \n7  tb.1.1615750f.SoKVLvFp12BviM9gNLm5mQ                  求助如何让自己早睡呢如何改掉拖延症呢   \n8  tb.1.16e95fde.J5uagtS6rZUWG0lnh1JhBg                     倾诉抑郁症最痛苦的就是社交废了   \n9  tb.1.16e95fde.J5uagtS6rZUWG0lnh1JhBg           倾诉社交丧失被社会边缘化才是压倒骆驼的最后一根稻草   \n\n   score  polarity  \n0    0.0         0  \n1    0.0         0  \n2    0.0         0  \n3    0.0         0  \n4    0.0         0  \n5    0.0         0  \n6    0.0         0  \n7    0.0         0  \n8    0.0         0  \n9    0.0         0  ",
      "text/html": "<div>\n<style scoped>\n    .dataframe tbody tr th:only-of-type {\n        vertical-align: middle;\n    }\n\n    .dataframe tbody tr th {\n        vertical-align: top;\n    }\n\n    .dataframe thead th {\n        text-align: right;\n    }\n</style>\n<table border=\"1\" class=\"dataframe\">\n  <thead>\n    <tr style=\"text-align: right;\">\n      <th></th>\n      <th>portrait</th>\n      <th>time</th>\n      <th>replied</th>\n      <th>content_new</th>\n      <th>score</th>\n      <th>polarity</th>\n    </tr>\n  </thead>\n  <tbody>\n    <tr>\n      <th>0</th>\n      <td>tb.1.12244748.C2coF4zPDRtP4ePwmytXNg</td>\n      <td>2020/3/4 18:41</td>\n      <td>tb.1.12244748.C2coF4zPDRtP4ePwmytXNg</td>\n      <td>吧友互动画了个四叶草QwQ</td>\n      <td>0.0</td>\n      <td>0</td>\n    </tr>\n    <tr>\n      <th>1</th>\n      <td>tb.1.12244748.C2coF4zPDRtP4ePwmytXNg</td>\n      <td>2020/2/1 20:14</td>\n      <td>tb.1.12244748.C2coF4zPDRtP4ePwmytXNg</td>\n      <td>emmm说点什么呢</td>\n      <td>0.0</td>\n      <td>0</td>\n    </tr>\n    <tr>\n      <th>2</th>\n      <td>tb.1.13466a7b.T9RLqIEQCSX4378-XesPRA</td>\n      <td>2020/8/23 19:23</td>\n      <td>tb.1.13466a7b.T9RLqIEQCSX4378-XesPRA</td>\n      <td>倾诉我想Ta回来</td>\n      <td>0.0</td>\n      <td>0</td>\n    </tr>\n    <tr>\n      <th>3</th>\n      <td>tb.1.145baad2.K0WyjAgZglqXKB9K13OjqQ</td>\n      <td>2020/9/3 16:40</td>\n      <td>tb.1.145baad2.K0WyjAgZglqXKB9K13OjqQ</td>\n      <td>倾诉开个摘抄贴属于修心类的吧</td>\n      <td>0.0</td>\n      <td>0</td>\n    </tr>\n    <tr>\n      <th>4</th>\n      <td>tb.1.145baad2.K0WyjAgZglqXKB9K13OjqQ</td>\n      <td>2020/10/9 13:59</td>\n      <td>tb.1.145baad2.K0WyjAgZglqXKB9K13OjqQ</td>\n      <td>倾诉我想坦白一切</td>\n      <td>0.0</td>\n      <td>0</td>\n    </tr>\n    <tr>\n      <th>5</th>\n      <td>tb.1.1480533.hJD3JEH6cBD3Xdijtsc-Sg</td>\n      <td>2020/10/10 0:24</td>\n      <td>tb.1.1480533.hJD3JEH6cBD3Xdijtsc-Sg</td>\n      <td>倾诉你可以爱我吗</td>\n      <td>0.0</td>\n      <td>0</td>\n    </tr>\n    <tr>\n      <th>6</th>\n      <td>tb.1.1615750f.SoKVLvFp12BviM9gNLm5mQ</td>\n      <td>2020/7/18 1:18</td>\n      <td>tb.1.1615750f.SoKVLvFp12BviM9gNLm5mQ</td>\n      <td>求助请问各位服用过盐酸曲舍林医生建议什么时候服用早上中午晚上还是睡前</td>\n      <td>0.0</td>\n      <td>0</td>\n    </tr>\n    <tr>\n      <th>7</th>\n      <td>tb.1.1615750f.SoKVLvFp12BviM9gNLm5mQ</td>\n      <td>2020/10/15 0:07</td>\n      <td>tb.1.1615750f.SoKVLvFp12BviM9gNLm5mQ</td>\n      <td>求助如何让自己早睡呢如何改掉拖延症呢</td>\n      <td>0.0</td>\n      <td>0</td>\n    </tr>\n    <tr>\n      <th>8</th>\n      <td>tb.1.16e95fde.J5uagtS6rZUWG0lnh1JhBg</td>\n      <td>2020/4/7 17:13</td>\n      <td>tb.1.16e95fde.J5uagtS6rZUWG0lnh1JhBg</td>\n      <td>倾诉抑郁症最痛苦的就是社交废了</td>\n      <td>0.0</td>\n      <td>0</td>\n    </tr>\n    <tr>\n      <th>9</th>\n      <td>tb.1.16e95fde.J5uagtS6rZUWG0lnh1JhBg</td>\n      <td>2020/9/22 11:39</td>\n      <td>tb.1.16e95fde.J5uagtS6rZUWG0lnh1JhBg</td>\n      <td>倾诉社交丧失被社会边缘化才是压倒骆驼的最后一根稻草</td>\n      <td>0.0</td>\n      <td>0</td>\n    </tr>\n  </tbody>\n</table>\n</div>"
     },
     "execution_count": 3,
     "metadata": {},
     "output_type": "execute_result"
    }
   ],
   "source": [
    "#read data\n",
    "data=pd.read_csv('../data/user_content.csv',encoding='utf-8')\n",
    "data[:10]"
   ],
   "metadata": {
    "collapsed": false,
    "pycharm": {
     "name": "#%%\n"
    }
   }
  },
  {
   "cell_type": "code",
   "execution_count": 4,
   "outputs": [
    {
     "data": {
      "text/plain": "                               portrait  \\\n0  tb.1.11d47497.H8aMxZ6FsrlkOBMWwVF8dw   \n1  tb.1.11df1787.ddkbunl2dtBRH6gEdBcSMg   \n2  tb.1.12244748.C2coF4zPDRtP4ePwmytXNg   \n3  tb.1.12266d97.auIzGB4Ecq1umlhepYWI6w   \n4  tb.1.123cecce.rOVxpFtfJ-UHkdXdn13xMA   \n5  tb.1.13466a7b.T9RLqIEQCSX4378-XesPRA   \n6  tb.1.14080752.7owAlaPAxY-ffnuk_Xokcg   \n7  tb.1.145baad2.K0WyjAgZglqXKB9K13OjqQ   \n8   tb.1.1480533.hJD3JEH6cBD3Xdijtsc-Sg   \n9  tb.1.1615750f.SoKVLvFp12BviM9gNLm5mQ   \n\n                                         content_new  \n0  新目标瘦成杆那种瘦弱病态无力的骨感毫无保留的把人类原有的美展出来 倾诉何为人欲望满身 倾诉我...  \n1  倾诉快要复学了希望我可以做一个无欲无求的人吧 倾诉该换树洞了微博已经被熟悉的人攻占了 倾诉第...  \n2  吧友互动画了个四叶草QwQ emmm说点什么呢 上次的帖子感觉太混乱了重新开一个可能就是打字...  \n3  我二十年来没有喜欢过一个男生但当我看到穿汉服的男生我终于明白了什么叫喜欢 每天都在浪费时间每...  \n4  吧友互动有人吃疏肝解郁胶囊吗这个药有效吗 吧友互动男人有焦虑抑郁症还适合结婚吗 吧友互动治愈...  \n5  倾诉我想Ta回来 倾诉我来人间凑数那些年 倾诉情愿我从未出生 倾诉有过对自己很重要很重要的东...  \n6  倾诉对活着充满了恐惧很焦虑太煎熬了 倾诉送外卖这个工作怎么样啊女的送外卖怎么样我想锻炼身体挣...  \n7  倾诉开个摘抄贴属于修心类的吧 倾诉我想坦白一切 倾诉网恋会产生爱情咩 倾诉有一个换位思考的问...  \n8  倾诉你可以爱我吗 倾诉找到的答案是过去是无论如何也决计接受不了的无法接受他们发生过亦无法遗忘...  \n9  求助请问各位服用过盐酸曲舍林医生建议什么时候服用早上中午晚上还是睡前 求助如何让自己早睡呢如...  ",
      "text/html": "<div>\n<style scoped>\n    .dataframe tbody tr th:only-of-type {\n        vertical-align: middle;\n    }\n\n    .dataframe tbody tr th {\n        vertical-align: top;\n    }\n\n    .dataframe thead th {\n        text-align: right;\n    }\n</style>\n<table border=\"1\" class=\"dataframe\">\n  <thead>\n    <tr style=\"text-align: right;\">\n      <th></th>\n      <th>portrait</th>\n      <th>content_new</th>\n    </tr>\n  </thead>\n  <tbody>\n    <tr>\n      <th>0</th>\n      <td>tb.1.11d47497.H8aMxZ6FsrlkOBMWwVF8dw</td>\n      <td>新目标瘦成杆那种瘦弱病态无力的骨感毫无保留的把人类原有的美展出来 倾诉何为人欲望满身 倾诉我...</td>\n    </tr>\n    <tr>\n      <th>1</th>\n      <td>tb.1.11df1787.ddkbunl2dtBRH6gEdBcSMg</td>\n      <td>倾诉快要复学了希望我可以做一个无欲无求的人吧 倾诉该换树洞了微博已经被熟悉的人攻占了 倾诉第...</td>\n    </tr>\n    <tr>\n      <th>2</th>\n      <td>tb.1.12244748.C2coF4zPDRtP4ePwmytXNg</td>\n      <td>吧友互动画了个四叶草QwQ emmm说点什么呢 上次的帖子感觉太混乱了重新开一个可能就是打字...</td>\n    </tr>\n    <tr>\n      <th>3</th>\n      <td>tb.1.12266d97.auIzGB4Ecq1umlhepYWI6w</td>\n      <td>我二十年来没有喜欢过一个男生但当我看到穿汉服的男生我终于明白了什么叫喜欢 每天都在浪费时间每...</td>\n    </tr>\n    <tr>\n      <th>4</th>\n      <td>tb.1.123cecce.rOVxpFtfJ-UHkdXdn13xMA</td>\n      <td>吧友互动有人吃疏肝解郁胶囊吗这个药有效吗 吧友互动男人有焦虑抑郁症还适合结婚吗 吧友互动治愈...</td>\n    </tr>\n    <tr>\n      <th>5</th>\n      <td>tb.1.13466a7b.T9RLqIEQCSX4378-XesPRA</td>\n      <td>倾诉我想Ta回来 倾诉我来人间凑数那些年 倾诉情愿我从未出生 倾诉有过对自己很重要很重要的东...</td>\n    </tr>\n    <tr>\n      <th>6</th>\n      <td>tb.1.14080752.7owAlaPAxY-ffnuk_Xokcg</td>\n      <td>倾诉对活着充满了恐惧很焦虑太煎熬了 倾诉送外卖这个工作怎么样啊女的送外卖怎么样我想锻炼身体挣...</td>\n    </tr>\n    <tr>\n      <th>7</th>\n      <td>tb.1.145baad2.K0WyjAgZglqXKB9K13OjqQ</td>\n      <td>倾诉开个摘抄贴属于修心类的吧 倾诉我想坦白一切 倾诉网恋会产生爱情咩 倾诉有一个换位思考的问...</td>\n    </tr>\n    <tr>\n      <th>8</th>\n      <td>tb.1.1480533.hJD3JEH6cBD3Xdijtsc-Sg</td>\n      <td>倾诉你可以爱我吗 倾诉找到的答案是过去是无论如何也决计接受不了的无法接受他们发生过亦无法遗忘...</td>\n    </tr>\n    <tr>\n      <th>9</th>\n      <td>tb.1.1615750f.SoKVLvFp12BviM9gNLm5mQ</td>\n      <td>求助请问各位服用过盐酸曲舍林医生建议什么时候服用早上中午晚上还是睡前 求助如何让自己早睡呢如...</td>\n    </tr>\n  </tbody>\n</table>\n</div>"
     },
     "execution_count": 4,
     "metadata": {},
     "output_type": "execute_result"
    }
   ],
   "source": [
    "content = data.groupby('portrait')['content_new'].apply(lambda x:x.str.cat(sep=' ')).reset_index()\n",
    "content[:10]"
   ],
   "metadata": {
    "collapsed": false,
    "pycharm": {
     "name": "#%%\n"
    }
   }
  },
  {
   "cell_type": "code",
   "execution_count": 5,
   "outputs": [
    {
     "name": "stderr",
     "output_type": "stream",
     "text": [
      "Building prefix dict from the default dictionary ...\n",
      "Loading model from cache C:\\Users\\XG\\AppData\\Local\\Temp\\jieba.cache\n",
      "Loading model cost 0.484 seconds.\n",
      "Prefix dict has been built successfully.\n"
     ]
    },
    {
     "name": "stdout",
     "output_type": "stream",
     "text": [
      "100 21.50537634408602\n",
      "200 43.01075268817204\n",
      "300 64.51612903225806\n",
      "400 86.02150537634408\n"
     ]
    }
   ],
   "source": [
    "#分词\n",
    "fenci_list=[]\n",
    "i=0\n",
    "#加载自定义字典，可以不加载，注销即可\n",
    "# jieba.load_userdict(\"../data/keywords.txt\")\n",
    "\n",
    "for line in content['content_new']:\n",
    "    list_a=jieba.cut(line)\n",
    "    fenci_list.append(list(list_a))\n",
    "    i+=1\n",
    "    #标注进度\n",
    "    if i%100==0:\n",
    "        print(i,(i/len(content['content_new']))*100)"
   ],
   "metadata": {
    "collapsed": false,
    "pycharm": {
     "name": "#%%\n"
    }
   }
  },
  {
   "cell_type": "code",
   "execution_count": 6,
   "outputs": [],
   "source": [
    "def stopwordslist():\n",
    "    stopwords = [line.strip() for line in open('哈工大停用词表.txt',encoding='UTF-8').readlines()]\n",
    "    return stopwords\n",
    "\n",
    "def is_number(s):\n",
    "    try:\n",
    "        float(s)\n",
    "        return True\n",
    "    except ValueError:\n",
    "        pass\n",
    "    try:\n",
    "        import unicodedata\n",
    "        unicodedata.numeric(s)\n",
    "        return True\n",
    "    except (TypeError, ValueError):\n",
    "        pass\n",
    "    return False"
   ],
   "metadata": {
    "collapsed": false,
    "pycharm": {
     "name": "#%%\n"
    }
   }
  },
  {
   "cell_type": "code",
   "execution_count": 7,
   "outputs": [],
   "source": [
    "def move_stopwords(sentence, stopwords_list):\n",
    "    # 去停用词\n",
    "    out_list = []\n",
    "    for word in sentence:\n",
    "        if word not in stopwords_list:\n",
    "            if is_number(word):\n",
    "                continue\n",
    "            if word != '\\t' and (10 > len(word) > 1):\n",
    "                out_list.append(word)\n",
    "    return out_list"
   ],
   "metadata": {
    "collapsed": false,
    "pycharm": {
     "name": "#%%\n"
    }
   }
  },
  {
   "cell_type": "code",
   "execution_count": 8,
   "outputs": [],
   "source": [
    "stopwords = stopwordslist()"
   ],
   "metadata": {
    "collapsed": false,
    "pycharm": {
     "name": "#%%\n"
    }
   }
  },
  {
   "cell_type": "code",
   "execution_count": 9,
   "outputs": [],
   "source": [
    "#调用上面的函数，去停用词\n",
    "move_sw=[]\n",
    "space_sw=[]\n",
    "i=0\n",
    "for sentence in fenci_list:\n",
    "    s = move_stopwords(sentence,stopwords)\n",
    "    move_sw.append(s)\n",
    "    space_sw.append(' '.join(s))\n",
    "    i+=1\n",
    "    if i%1000==0:\n",
    "        print(i,(i/len(fenci_list))*100)\n"
   ],
   "metadata": {
    "collapsed": false,
    "pycharm": {
     "name": "#%%\n"
    }
   }
  },
  {
   "cell_type": "code",
   "execution_count": 10,
   "outputs": [
    {
     "data": {
      "text/plain": "                               portrait  \\\n0  tb.1.11d47497.H8aMxZ6FsrlkOBMWwVF8dw   \n1  tb.1.11df1787.ddkbunl2dtBRH6gEdBcSMg   \n2  tb.1.12244748.C2coF4zPDRtP4ePwmytXNg   \n3  tb.1.12266d97.auIzGB4Ecq1umlhepYWI6w   \n4  tb.1.123cecce.rOVxpFtfJ-UHkdXdn13xMA   \n5  tb.1.13466a7b.T9RLqIEQCSX4378-XesPRA   \n6  tb.1.14080752.7owAlaPAxY-ffnuk_Xokcg   \n7  tb.1.145baad2.K0WyjAgZglqXKB9K13OjqQ   \n8   tb.1.1480533.hJD3JEH6cBD3Xdijtsc-Sg   \n9  tb.1.1615750f.SoKVLvFp12BviM9gNLm5mQ   \n\n                                         content_new  \\\n0  新目标瘦成杆那种瘦弱病态无力的骨感毫无保留的把人类原有的美展出来 倾诉何为人欲望满身 倾诉我...   \n1  倾诉快要复学了希望我可以做一个无欲无求的人吧 倾诉该换树洞了微博已经被熟悉的人攻占了 倾诉第...   \n2  吧友互动画了个四叶草QwQ emmm说点什么呢 上次的帖子感觉太混乱了重新开一个可能就是打字...   \n3  我二十年来没有喜欢过一个男生但当我看到穿汉服的男生我终于明白了什么叫喜欢 每天都在浪费时间每...   \n4  吧友互动有人吃疏肝解郁胶囊吗这个药有效吗 吧友互动男人有焦虑抑郁症还适合结婚吗 吧友互动治愈...   \n5  倾诉我想Ta回来 倾诉我来人间凑数那些年 倾诉情愿我从未出生 倾诉有过对自己很重要很重要的东...   \n6  倾诉对活着充满了恐惧很焦虑太煎熬了 倾诉送外卖这个工作怎么样啊女的送外卖怎么样我想锻炼身体挣...   \n7  倾诉开个摘抄贴属于修心类的吧 倾诉我想坦白一切 倾诉网恋会产生爱情咩 倾诉有一个换位思考的问...   \n8  倾诉你可以爱我吗 倾诉找到的答案是过去是无论如何也决计接受不了的无法接受他们发生过亦无法遗忘...   \n9  求助请问各位服用过盐酸曲舍林医生建议什么时候服用早上中午晚上还是睡前 求助如何让自己早睡呢如...   \n\n                                            space_sw  \n0  目标 瘦成 瘦弱 病态 无力 骨感 毫无保留 人类 原有 美展 倾诉 何为 欲望 满身 倾诉...  \n1  倾诉 快要 复学 希望 无欲无求 倾诉 树洞 微博 熟悉 攻占 倾诉 第一次 做梦 惊醒 再...  \n2  互动 四叶草 QwQ emmm 说点 上次 帖子 感觉 混乱 重新 打字 介绍 有时候 彩蛋...  \n3  二十年 喜欢 男生 看到 汉服 男生 终于 明白 喜欢 每天 浪费时间 每天 颓废 活着 死...  \n4  互动 疏肝解郁 胶囊 有效 互动 男人 焦虑 抑郁症 适合 结婚 互动 治愈 朋友 推荐 抑...  \n5  倾诉 Ta 回来 倾诉 我来 人间 凑数 倾诉 情愿 从未 出生 倾诉 有过 重要 重要 东...  \n6  倾诉 活着 充满 恐惧 焦虑 煎熬 倾诉 外卖 工作 外卖 锻炼身体 挣钱 大家 意见 倾诉...  \n7  倾诉 开个 摘抄 属于 修心类 倾诉 坦白 倾诉 网恋 产生 爱情 倾诉 换位 思考 问题 ...  \n8  倾诉 爱我吗 倾诉 答案 无论如何 决计 接受 无法 接受 发生 无法 遗忘 故事 道听途说...  \n9  求助 服用 盐酸 曲舍林 医生 建议 服用 早上 中午 晚上 睡前 求助 早睡 改掉 拖延 ...  ",
      "text/html": "<div>\n<style scoped>\n    .dataframe tbody tr th:only-of-type {\n        vertical-align: middle;\n    }\n\n    .dataframe tbody tr th {\n        vertical-align: top;\n    }\n\n    .dataframe thead th {\n        text-align: right;\n    }\n</style>\n<table border=\"1\" class=\"dataframe\">\n  <thead>\n    <tr style=\"text-align: right;\">\n      <th></th>\n      <th>portrait</th>\n      <th>content_new</th>\n      <th>space_sw</th>\n    </tr>\n  </thead>\n  <tbody>\n    <tr>\n      <th>0</th>\n      <td>tb.1.11d47497.H8aMxZ6FsrlkOBMWwVF8dw</td>\n      <td>新目标瘦成杆那种瘦弱病态无力的骨感毫无保留的把人类原有的美展出来 倾诉何为人欲望满身 倾诉我...</td>\n      <td>目标 瘦成 瘦弱 病态 无力 骨感 毫无保留 人类 原有 美展 倾诉 何为 欲望 满身 倾诉...</td>\n    </tr>\n    <tr>\n      <th>1</th>\n      <td>tb.1.11df1787.ddkbunl2dtBRH6gEdBcSMg</td>\n      <td>倾诉快要复学了希望我可以做一个无欲无求的人吧 倾诉该换树洞了微博已经被熟悉的人攻占了 倾诉第...</td>\n      <td>倾诉 快要 复学 希望 无欲无求 倾诉 树洞 微博 熟悉 攻占 倾诉 第一次 做梦 惊醒 再...</td>\n    </tr>\n    <tr>\n      <th>2</th>\n      <td>tb.1.12244748.C2coF4zPDRtP4ePwmytXNg</td>\n      <td>吧友互动画了个四叶草QwQ emmm说点什么呢 上次的帖子感觉太混乱了重新开一个可能就是打字...</td>\n      <td>互动 四叶草 QwQ emmm 说点 上次 帖子 感觉 混乱 重新 打字 介绍 有时候 彩蛋...</td>\n    </tr>\n    <tr>\n      <th>3</th>\n      <td>tb.1.12266d97.auIzGB4Ecq1umlhepYWI6w</td>\n      <td>我二十年来没有喜欢过一个男生但当我看到穿汉服的男生我终于明白了什么叫喜欢 每天都在浪费时间每...</td>\n      <td>二十年 喜欢 男生 看到 汉服 男生 终于 明白 喜欢 每天 浪费时间 每天 颓废 活着 死...</td>\n    </tr>\n    <tr>\n      <th>4</th>\n      <td>tb.1.123cecce.rOVxpFtfJ-UHkdXdn13xMA</td>\n      <td>吧友互动有人吃疏肝解郁胶囊吗这个药有效吗 吧友互动男人有焦虑抑郁症还适合结婚吗 吧友互动治愈...</td>\n      <td>互动 疏肝解郁 胶囊 有效 互动 男人 焦虑 抑郁症 适合 结婚 互动 治愈 朋友 推荐 抑...</td>\n    </tr>\n    <tr>\n      <th>5</th>\n      <td>tb.1.13466a7b.T9RLqIEQCSX4378-XesPRA</td>\n      <td>倾诉我想Ta回来 倾诉我来人间凑数那些年 倾诉情愿我从未出生 倾诉有过对自己很重要很重要的东...</td>\n      <td>倾诉 Ta 回来 倾诉 我来 人间 凑数 倾诉 情愿 从未 出生 倾诉 有过 重要 重要 东...</td>\n    </tr>\n    <tr>\n      <th>6</th>\n      <td>tb.1.14080752.7owAlaPAxY-ffnuk_Xokcg</td>\n      <td>倾诉对活着充满了恐惧很焦虑太煎熬了 倾诉送外卖这个工作怎么样啊女的送外卖怎么样我想锻炼身体挣...</td>\n      <td>倾诉 活着 充满 恐惧 焦虑 煎熬 倾诉 外卖 工作 外卖 锻炼身体 挣钱 大家 意见 倾诉...</td>\n    </tr>\n    <tr>\n      <th>7</th>\n      <td>tb.1.145baad2.K0WyjAgZglqXKB9K13OjqQ</td>\n      <td>倾诉开个摘抄贴属于修心类的吧 倾诉我想坦白一切 倾诉网恋会产生爱情咩 倾诉有一个换位思考的问...</td>\n      <td>倾诉 开个 摘抄 属于 修心类 倾诉 坦白 倾诉 网恋 产生 爱情 倾诉 换位 思考 问题 ...</td>\n    </tr>\n    <tr>\n      <th>8</th>\n      <td>tb.1.1480533.hJD3JEH6cBD3Xdijtsc-Sg</td>\n      <td>倾诉你可以爱我吗 倾诉找到的答案是过去是无论如何也决计接受不了的无法接受他们发生过亦无法遗忘...</td>\n      <td>倾诉 爱我吗 倾诉 答案 无论如何 决计 接受 无法 接受 发生 无法 遗忘 故事 道听途说...</td>\n    </tr>\n    <tr>\n      <th>9</th>\n      <td>tb.1.1615750f.SoKVLvFp12BviM9gNLm5mQ</td>\n      <td>求助请问各位服用过盐酸曲舍林医生建议什么时候服用早上中午晚上还是睡前 求助如何让自己早睡呢如...</td>\n      <td>求助 服用 盐酸 曲舍林 医生 建议 服用 早上 中午 晚上 睡前 求助 早睡 改掉 拖延 ...</td>\n    </tr>\n  </tbody>\n</table>\n</div>"
     },
     "execution_count": 10,
     "metadata": {},
     "output_type": "execute_result"
    }
   ],
   "source": [
    "content['space_sw'] = space_sw\n",
    "content[:10]"
   ],
   "metadata": {
    "collapsed": false,
    "pycharm": {
     "name": "#%%\n"
    }
   }
  },
  {
   "cell_type": "code",
   "execution_count": 11,
   "outputs": [],
   "source": [
    "content.to_csv('../data/user_content.csv',encoding=\"utf_8_sig\",index=False)\n"
   ],
   "metadata": {
    "collapsed": false,
    "pycharm": {
     "name": "#%%\n"
    }
   }
  },
  {
   "cell_type": "code",
   "execution_count": null,
   "outputs": [],
   "source": [],
   "metadata": {
    "collapsed": false,
    "pycharm": {
     "name": "#%%\n"
    }
   }
  }
 ],
 "metadata": {
  "kernelspec": {
   "display_name": "Python 3",
   "language": "python",
   "name": "python3"
  },
  "language_info": {
   "codemirror_mode": {
    "name": "ipython",
    "version": 2
   },
   "file_extension": ".py",
   "mimetype": "text/x-python",
   "name": "python",
   "nbconvert_exporter": "python",
   "pygments_lexer": "ipython2",
   "version": "2.7.6"
  }
 },
 "nbformat": 4,
 "nbformat_minor": 0
}