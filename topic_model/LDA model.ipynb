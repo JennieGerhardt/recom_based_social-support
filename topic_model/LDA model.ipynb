{
 "cells": [
  {
   "cell_type": "code",
   "execution_count": 1,
   "metadata": {
    "collapsed": true
   },
   "outputs": [
    {
     "name": "stderr",
     "output_type": "stream",
     "text": [
      "f:\\program files\\python39\\lib\\site-packages\\IPython\\core\\interactiveshell.py:3146: DtypeWarning: Columns (8) have mixed types.Specify dtype option on import or set low_memory=False.\n",
      "  has_raised = await self.run_ast_nodes(code_ast.body, cell_name,\n"
     ]
    },
    {
     "data": {
      "text/plain": "            id floor   author                              portrait  \\\n0    746907993   3.0    天堂白无常  tb.1.7c94352b.Ob-0wPepdR8ZRNYXaNwwLw   \n1    747483623   4.0   禄儿vs何彬  tb.1.ce88ae38.Im75Uw5QVEPjZiSyv8-KHw   \n2    747882049   5.0  爱要没你才完美  tb.1.bc9accf6.dsapYz8KQsA-nru6pV1bfA   \n3   1116175661  12.0     无心无述  tb.1.1f9cd488.1Y1dxwREErfQXBuuTnd6sA   \n4   1175818531  14.0     资深66  tb.1.3cb7966f.G_JLsm4-cWfdqhSlWHB84A   \n5   1176488192  15.0     无心无述  tb.1.1f9cd488.1Y1dxwREErfQXBuuTnd6sA   \n6   1176689623  16.0   抑郁症狂想曲  tb.1.cfe285d3.3GD5H4nMQi2hV5EujPGx_g   \n7   1474589213  22.0     也看星雨  tb.1.7bb460ca.afHEiF3-e-13KKKADSgc3Q   \n8   1692469999  25.0   ltr859  tb.1.e93230da.qRM7kVo7fhDbj0JHav_5lw   \n9   1693167591  26.0     连理哥哥  tb.1.edcd4a4f.BgVkWRk4SqydlDHlkeAZQw   \n10  1694707908  27.0    薄冰的足迹  tb.1.712e03ec.WMST1QII_vr-tMKRmLzwGA   \n11  3110904051  38.0     抑郁宅男  tb.1.4aa50d6d.35Dbfy1DBRp6-f_IYPWA-Q   \n12  3111330288  39.0  我只看看不出声  tb.1.835ef8a4.tJi90u4R1zJMdEFbQ-f-nQ   \n13  3177010177  43.0      血宝贝  tb.1.e5391e28.tqPLcd9Ap7dsLpzww7XKgg   \n14  4306910554  44.0     我只爱迪  tb.1.c51e5872.sVy94_RI1UkeND66ajv71g   \n\n                                              content                time  \\\n0                 怡诺思是最新型的抗抑郁药，长期副作用还未显现，估计有这种经验的人特少�  22/4/2006 23:27:00   \n1   我就没什么事啊\\n\\n你说这药是管什么的呢？\\n\\n会不会是什么兴奋剂啊\\n\\n我每天总是不...  23/4/2006 11:22:00   \n2   我用过，还算不错，就是价钱太贵了，开药的时候医生还问我家庭经济怎么样？？我害怕丢面子就随口说...  23/4/2006 14:25:00   \n3   确实对眼不好，我感到眼空的厉害。我把它与瑞美隆合用，对我有效，别的朋友别乱试，副作用大。我现...   5/9/2006 17:06:00   \n4        我正在服怡诺思已5个月,感觉还可以,但还没达到最佳状态,不知是否药量不足,现服150mg  30/9/2006 00:55:00   \n5   和瑞美隆比各有各和作用。药物作用机理不一，我曾想到那个“鸡尾酒”疗法，当然行不通，因为有些药...  30/9/2006 10:13:00   \n6                 一次吃10片可爽了，一整天里只想睡觉。\\n\\n是吧里有个坏蛋告诉我的�  30/9/2006 11:53:00   \n7      我又被医生换了怡诺思，之前吃过百优解，喜普妙，每素玉，黛力新，都没用，我的抑郁是顽固的重性的  13/1/2007 16:48:00   \n8                                  怡诺思的治疗效果很好，就副作用大一�  17/3/2007 21:48:00   \n9   呵呵，效果可能有一些差异，但是我要澄清的是它是一种安全的药物。副作用总体上来说是微乎其微的。...  18/3/2007 00:54:00   \n10                                         没用过。\\n\\n:)  18/3/2007 15:33:00   \n11                                                 上去   8/1/2008 23:58:00   \n12    这药好吗?\\n\\n我之前都吃的乐友~然后看了广告又吃那啥解郁丸~都觉得没用~干脆就吧药给停了~   9/1/2008 06:11:00   \n13         我觉得怡诺思前10天的效果特好\\n\\n但是11天开始我又想着死了\\n\\n不知道为什�  23/1/2008 10:28:00   \n14     我是用来治疗焦虑症的,刚服了两天,怎么中午不能睡,晚上也不能睡,会持续多少时间,现在用量75   4/7/2008 19:16:00   \n\n   comment_num   thread_id replied post_id  \\\n0          1.0  95018307.0     nan     nan   \n1          0.0  95018307.0     nan     nan   \n2          0.0  95018307.0     nan     nan   \n3          1.0  95018307.0     nan     nan   \n4          2.0  95018307.0     nan     nan   \n5          0.0  95018307.0     nan     nan   \n6          0.0  95018307.0     nan     nan   \n7          1.0  95018307.0     nan     nan   \n8          0.0  95018307.0     nan     nan   \n9          0.0  95018307.0     nan     nan   \n10         0.0  95018307.0     nan     nan   \n11         0.0  95018307.0     nan     nan   \n12         0.0  95018307.0     nan     nan   \n13         0.0  95018307.0     nan     nan   \n14         0.0  95018307.0     nan     nan   \n\n                                          content_new  \\\n0                    怡诺思是最新型的抗抑郁药长期副作用还未显现估计有这种经验的人特少   \n1            我就没什么事啊你说这药是管什么的呢会不会是什么兴奋剂啊我每天总是不停的乐呵呵真痛   \n2   我用过还算不错就是价钱太贵了开药的时候医生还问我家庭经济怎么样我害怕丢面子就随口说了一声可以...   \n3   确实对眼不好我感到眼空的厉害我把它与瑞美隆合用对我有效别的朋友别乱试副作用大我现在急需几粒怡...   \n4                我正在服怡诺思已个月感觉还可以但还没达到最佳状态不知是否药量不足现服mg   \n5   和瑞美隆比各有各和作用药物作用机理不一我曾想到那个鸡尾酒疗法当然行不通因为有些药合用作用好象...   \n6                          一次吃片可爽了一整天里只想睡觉是吧里有个坏蛋告诉我的   \n7            我又被医生换了怡诺思之前吃过百优解喜普妙每素玉黛力新都没用我的抑郁是顽固的重性的   \n8                                    怡诺思的治疗效果很好就副作用大一   \n9   呵呵效果可能有一些差异但是我要澄清的是它是一种安全的药物副作用总体上来说是微乎其微的至于楼的...   \n10                                                没用过   \n11                                                 上去   \n12             这药好吗我之前都吃的乐友然后看了广告又吃那啥解郁丸都觉得没用干脆就吧药给停了   \n13                      我觉得怡诺思前天的效果特好但是天开始我又想着死了不知道为什   \n14            我是用来治疗焦虑症的刚服了两天怎么中午不能睡晚上也不能睡会持续多少时间现在用量   \n\n                                             space_sw  \n0                       诺思 最新型 抗抑郁 长期 副作用 显现 估计 经验 特少  \n1                             没什么 这药 兴奋剂 每天 总是 乐呵呵 真痛  \n2   我用 不错 价钱 太贵 开药 医生 家庭 经济 害怕 丢面子 随口 一声 典型 死要面子 活...  \n3   确实 对眼 不好 感到 眼空 厉害 瑞美隆 合用 有效 朋友 乱试 副作用 急需 几粒 诺思...  \n4               正在 服怡 诺思 已个 感觉 达到最佳 状态 不知 药量 不足 现服 mg  \n5   瑞美隆 作用 药物 作用 机理 不一 想到 鸡尾酒 疗法 行不通 合用 作用 好象 抵肖 药...  \n6                                  吃片 可爽 一整天 睡觉 坏蛋 告诉  \n7                    医生 诺思 百优解 喜普妙 每素 玉黛力 没用 抑郁 顽固 重性  \n8                                     诺思 治疗 效果 副作用 大一  \n9   呵呵 效果 差异 我要 澄清 安全 药物 副作用 总体 微乎其微 情况 觉得 药物 未免 适...  \n10                                                没用过  \n11                                                 上去  \n12                               这药 乐友 广告 解郁 觉得 没用 干脆  \n13                                  觉得 诺思 前天 效果 想着 为什  \n14                     用来 治疗 焦虑症 刚服 中午 晚上 睡会 持续 时间 用量  ",
      "text/html": "<div>\n<style scoped>\n    .dataframe tbody tr th:only-of-type {\n        vertical-align: middle;\n    }\n\n    .dataframe tbody tr th {\n        vertical-align: top;\n    }\n\n    .dataframe thead th {\n        text-align: right;\n    }\n</style>\n<table border=\"1\" class=\"dataframe\">\n  <thead>\n    <tr style=\"text-align: right;\">\n      <th></th>\n      <th>id</th>\n      <th>floor</th>\n      <th>author</th>\n      <th>portrait</th>\n      <th>content</th>\n      <th>time</th>\n      <th>comment_num</th>\n      <th>thread_id</th>\n      <th>replied</th>\n      <th>post_id</th>\n      <th>content_new</th>\n      <th>space_sw</th>\n    </tr>\n  </thead>\n  <tbody>\n    <tr>\n      <th>0</th>\n      <td>746907993</td>\n      <td>3.0</td>\n      <td>天堂白无常</td>\n      <td>tb.1.7c94352b.Ob-0wPepdR8ZRNYXaNwwLw</td>\n      <td>怡诺思是最新型的抗抑郁药，长期副作用还未显现，估计有这种经验的人特少�</td>\n      <td>22/4/2006 23:27:00</td>\n      <td>1.0</td>\n      <td>95018307.0</td>\n      <td>nan</td>\n      <td>nan</td>\n      <td>怡诺思是最新型的抗抑郁药长期副作用还未显现估计有这种经验的人特少</td>\n      <td>诺思 最新型 抗抑郁 长期 副作用 显现 估计 经验 特少</td>\n    </tr>\n    <tr>\n      <th>1</th>\n      <td>747483623</td>\n      <td>4.0</td>\n      <td>禄儿vs何彬</td>\n      <td>tb.1.ce88ae38.Im75Uw5QVEPjZiSyv8-KHw</td>\n      <td>我就没什么事啊\\n\\n你说这药是管什么的呢？\\n\\n会不会是什么兴奋剂啊\\n\\n我每天总是不...</td>\n      <td>23/4/2006 11:22:00</td>\n      <td>0.0</td>\n      <td>95018307.0</td>\n      <td>nan</td>\n      <td>nan</td>\n      <td>我就没什么事啊你说这药是管什么的呢会不会是什么兴奋剂啊我每天总是不停的乐呵呵真痛</td>\n      <td>没什么 这药 兴奋剂 每天 总是 乐呵呵 真痛</td>\n    </tr>\n    <tr>\n      <th>2</th>\n      <td>747882049</td>\n      <td>5.0</td>\n      <td>爱要没你才完美</td>\n      <td>tb.1.bc9accf6.dsapYz8KQsA-nru6pV1bfA</td>\n      <td>我用过，还算不错，就是价钱太贵了，开药的时候医生还问我家庭经济怎么样？？我害怕丢面子就随口说...</td>\n      <td>23/4/2006 14:25:00</td>\n      <td>0.0</td>\n      <td>95018307.0</td>\n      <td>nan</td>\n      <td>nan</td>\n      <td>我用过还算不错就是价钱太贵了开药的时候医生还问我家庭经济怎么样我害怕丢面子就随口说了一声可以...</td>\n      <td>我用 不错 价钱 太贵 开药 医生 家庭 经济 害怕 丢面子 随口 一声 典型 死要面子 活...</td>\n    </tr>\n    <tr>\n      <th>3</th>\n      <td>1116175661</td>\n      <td>12.0</td>\n      <td>无心无述</td>\n      <td>tb.1.1f9cd488.1Y1dxwREErfQXBuuTnd6sA</td>\n      <td>确实对眼不好，我感到眼空的厉害。我把它与瑞美隆合用，对我有效，别的朋友别乱试，副作用大。我现...</td>\n      <td>5/9/2006 17:06:00</td>\n      <td>1.0</td>\n      <td>95018307.0</td>\n      <td>nan</td>\n      <td>nan</td>\n      <td>确实对眼不好我感到眼空的厉害我把它与瑞美隆合用对我有效别的朋友别乱试副作用大我现在急需几粒怡...</td>\n      <td>确实 对眼 不好 感到 眼空 厉害 瑞美隆 合用 有效 朋友 乱试 副作用 急需 几粒 诺思...</td>\n    </tr>\n    <tr>\n      <th>4</th>\n      <td>1175818531</td>\n      <td>14.0</td>\n      <td>资深66</td>\n      <td>tb.1.3cb7966f.G_JLsm4-cWfdqhSlWHB84A</td>\n      <td>我正在服怡诺思已5个月,感觉还可以,但还没达到最佳状态,不知是否药量不足,现服150mg</td>\n      <td>30/9/2006 00:55:00</td>\n      <td>2.0</td>\n      <td>95018307.0</td>\n      <td>nan</td>\n      <td>nan</td>\n      <td>我正在服怡诺思已个月感觉还可以但还没达到最佳状态不知是否药量不足现服mg</td>\n      <td>正在 服怡 诺思 已个 感觉 达到最佳 状态 不知 药量 不足 现服 mg</td>\n    </tr>\n    <tr>\n      <th>5</th>\n      <td>1176488192</td>\n      <td>15.0</td>\n      <td>无心无述</td>\n      <td>tb.1.1f9cd488.1Y1dxwREErfQXBuuTnd6sA</td>\n      <td>和瑞美隆比各有各和作用。药物作用机理不一，我曾想到那个“鸡尾酒”疗法，当然行不通，因为有些药...</td>\n      <td>30/9/2006 10:13:00</td>\n      <td>0.0</td>\n      <td>95018307.0</td>\n      <td>nan</td>\n      <td>nan</td>\n      <td>和瑞美隆比各有各和作用药物作用机理不一我曾想到那个鸡尾酒疗法当然行不通因为有些药合用作用好象...</td>\n      <td>瑞美隆 作用 药物 作用 机理 不一 想到 鸡尾酒 疗法 行不通 合用 作用 好象 抵肖 药...</td>\n    </tr>\n    <tr>\n      <th>6</th>\n      <td>1176689623</td>\n      <td>16.0</td>\n      <td>抑郁症狂想曲</td>\n      <td>tb.1.cfe285d3.3GD5H4nMQi2hV5EujPGx_g</td>\n      <td>一次吃10片可爽了，一整天里只想睡觉。\\n\\n是吧里有个坏蛋告诉我的�</td>\n      <td>30/9/2006 11:53:00</td>\n      <td>0.0</td>\n      <td>95018307.0</td>\n      <td>nan</td>\n      <td>nan</td>\n      <td>一次吃片可爽了一整天里只想睡觉是吧里有个坏蛋告诉我的</td>\n      <td>吃片 可爽 一整天 睡觉 坏蛋 告诉</td>\n    </tr>\n    <tr>\n      <th>7</th>\n      <td>1474589213</td>\n      <td>22.0</td>\n      <td>也看星雨</td>\n      <td>tb.1.7bb460ca.afHEiF3-e-13KKKADSgc3Q</td>\n      <td>我又被医生换了怡诺思，之前吃过百优解，喜普妙，每素玉，黛力新，都没用，我的抑郁是顽固的重性的</td>\n      <td>13/1/2007 16:48:00</td>\n      <td>1.0</td>\n      <td>95018307.0</td>\n      <td>nan</td>\n      <td>nan</td>\n      <td>我又被医生换了怡诺思之前吃过百优解喜普妙每素玉黛力新都没用我的抑郁是顽固的重性的</td>\n      <td>医生 诺思 百优解 喜普妙 每素 玉黛力 没用 抑郁 顽固 重性</td>\n    </tr>\n    <tr>\n      <th>8</th>\n      <td>1692469999</td>\n      <td>25.0</td>\n      <td>ltr859</td>\n      <td>tb.1.e93230da.qRM7kVo7fhDbj0JHav_5lw</td>\n      <td>怡诺思的治疗效果很好，就副作用大一�</td>\n      <td>17/3/2007 21:48:00</td>\n      <td>0.0</td>\n      <td>95018307.0</td>\n      <td>nan</td>\n      <td>nan</td>\n      <td>怡诺思的治疗效果很好就副作用大一</td>\n      <td>诺思 治疗 效果 副作用 大一</td>\n    </tr>\n    <tr>\n      <th>9</th>\n      <td>1693167591</td>\n      <td>26.0</td>\n      <td>连理哥哥</td>\n      <td>tb.1.edcd4a4f.BgVkWRk4SqydlDHlkeAZQw</td>\n      <td>呵呵，效果可能有一些差异，但是我要澄清的是它是一种安全的药物。副作用总体上来说是微乎其微的。...</td>\n      <td>18/3/2007 00:54:00</td>\n      <td>0.0</td>\n      <td>95018307.0</td>\n      <td>nan</td>\n      <td>nan</td>\n      <td>呵呵效果可能有一些差异但是我要澄清的是它是一种安全的药物副作用总体上来说是微乎其微的至于楼的...</td>\n      <td>呵呵 效果 差异 我要 澄清 安全 药物 副作用 总体 微乎其微 情况 觉得 药物 未免 适...</td>\n    </tr>\n    <tr>\n      <th>10</th>\n      <td>1694707908</td>\n      <td>27.0</td>\n      <td>薄冰的足迹</td>\n      <td>tb.1.712e03ec.WMST1QII_vr-tMKRmLzwGA</td>\n      <td>没用过。\\n\\n:)</td>\n      <td>18/3/2007 15:33:00</td>\n      <td>0.0</td>\n      <td>95018307.0</td>\n      <td>nan</td>\n      <td>nan</td>\n      <td>没用过</td>\n      <td>没用过</td>\n    </tr>\n    <tr>\n      <th>11</th>\n      <td>3110904051</td>\n      <td>38.0</td>\n      <td>抑郁宅男</td>\n      <td>tb.1.4aa50d6d.35Dbfy1DBRp6-f_IYPWA-Q</td>\n      <td>上去</td>\n      <td>8/1/2008 23:58:00</td>\n      <td>0.0</td>\n      <td>95018307.0</td>\n      <td>nan</td>\n      <td>nan</td>\n      <td>上去</td>\n      <td>上去</td>\n    </tr>\n    <tr>\n      <th>12</th>\n      <td>3111330288</td>\n      <td>39.0</td>\n      <td>我只看看不出声</td>\n      <td>tb.1.835ef8a4.tJi90u4R1zJMdEFbQ-f-nQ</td>\n      <td>这药好吗?\\n\\n我之前都吃的乐友~然后看了广告又吃那啥解郁丸~都觉得没用~干脆就吧药给停了~</td>\n      <td>9/1/2008 06:11:00</td>\n      <td>0.0</td>\n      <td>95018307.0</td>\n      <td>nan</td>\n      <td>nan</td>\n      <td>这药好吗我之前都吃的乐友然后看了广告又吃那啥解郁丸都觉得没用干脆就吧药给停了</td>\n      <td>这药 乐友 广告 解郁 觉得 没用 干脆</td>\n    </tr>\n    <tr>\n      <th>13</th>\n      <td>3177010177</td>\n      <td>43.0</td>\n      <td>血宝贝</td>\n      <td>tb.1.e5391e28.tqPLcd9Ap7dsLpzww7XKgg</td>\n      <td>我觉得怡诺思前10天的效果特好\\n\\n但是11天开始我又想着死了\\n\\n不知道为什�</td>\n      <td>23/1/2008 10:28:00</td>\n      <td>0.0</td>\n      <td>95018307.0</td>\n      <td>nan</td>\n      <td>nan</td>\n      <td>我觉得怡诺思前天的效果特好但是天开始我又想着死了不知道为什</td>\n      <td>觉得 诺思 前天 效果 想着 为什</td>\n    </tr>\n    <tr>\n      <th>14</th>\n      <td>4306910554</td>\n      <td>44.0</td>\n      <td>我只爱迪</td>\n      <td>tb.1.c51e5872.sVy94_RI1UkeND66ajv71g</td>\n      <td>我是用来治疗焦虑症的,刚服了两天,怎么中午不能睡,晚上也不能睡,会持续多少时间,现在用量75</td>\n      <td>4/7/2008 19:16:00</td>\n      <td>0.0</td>\n      <td>95018307.0</td>\n      <td>nan</td>\n      <td>nan</td>\n      <td>我是用来治疗焦虑症的刚服了两天怎么中午不能睡晚上也不能睡会持续多少时间现在用量</td>\n      <td>用来 治疗 焦虑症 刚服 中午 晚上 睡会 持续 时间 用量</td>\n    </tr>\n  </tbody>\n</table>\n</div>"
     },
     "execution_count": 1,
     "metadata": {},
     "output_type": "execute_result"
    }
   ],
   "source": [
    "# Title     : LDA model\n",
    "# Objective : 聚类\n",
    "# Created by: Little Jennie Fairy\n",
    "# Created on: 2020/9/10\n",
    "\n",
    "import pandas as pd\n",
    "data=pd.read_csv('../data/depression_data.csv',encoding='utf-8').astype(str)\n",
    "data[:15]"
   ]
  },
  {
   "cell_type": "code",
   "execution_count": 2,
   "outputs": [
    {
     "data": {
      "text/plain": "(318476, 12)"
     },
     "execution_count": 2,
     "metadata": {},
     "output_type": "execute_result"
    }
   ],
   "source": [
    "data.shape"
   ],
   "metadata": {
    "collapsed": false,
    "pycharm": {
     "name": "#%%\n"
    }
   }
  },
  {
   "cell_type": "code",
   "execution_count": null,
   "outputs": [],
   "source": [
    "#删除预处理后少于两个词的记录，否则效果不好\n",
    "# for i in range(len(data['space_sw'])):\n",
    "#     if len(data['space_sw'][i].split())<2:\n",
    "#         data.drop(labels=i, axis=0,inplace=True)\n",
    "# data.shape"
   ],
   "metadata": {
    "collapsed": false,
    "pycharm": {
     "name": "#%%\n"
    }
   }
  },
  {
   "cell_type": "code",
   "execution_count": 3,
   "outputs": [],
   "source": [
    "textlist=data['space_sw'].values.tolist()"
   ],
   "metadata": {
    "collapsed": false,
    "pycharm": {
     "name": "#%%\n"
    }
   }
  },
  {
   "cell_type": "code",
   "execution_count": null,
   "outputs": [],
   "source": [
    "# from sklearn.feature_extraction.text import TfidfVectorizer,CountVectorizer\n",
    "# import numpy as np\n",
    "\n",
    "# tv = TfidfVectorizer(max_df=0.4, min_df=20)   #区别CountVectorizer,以词频作为度量指标\n",
    "# matrix = tv.fit_transform(textlist)"
   ],
   "metadata": {
    "collapsed": false,
    "pycharm": {
     "name": "#%%TFIDF作为特征效果不好，困惑度上升\n"
    }
   }
  },
  {
   "cell_type": "code",
   "execution_count": 4,
   "outputs": [
    {
     "name": "stdout",
     "output_type": "stream",
     "text": [
      "抑郁症 : 22802\n",
      "感觉 : 20739\n",
      "觉得 : 18034\n",
      "抑郁 : 16742\n",
      "别人 : 13138\n",
      "不想 : 11292\n",
      "喜欢 : 10800\n",
      "生活 : 10300\n",
      "倾诉 : 10179\n",
      "问题 : 10140\n",
      "痛苦 : 9872\n",
      "加油 : 9832\n",
      "希望 : 9820\n",
      "朋友 : 9722\n",
      "工作 : 9659\n",
      "医生 : 9133\n",
      "医院 : 9079\n",
      "吃药 : 9069\n",
      "世界 : 8861\n",
      "情绪 : 8436\n",
      "每天 : 8417\n",
      "事情 : 8113\n",
      "父母 : 7777\n",
      "需要 : 7545\n",
      "活着 : 7372\n",
      "不好 : 7313\n",
      "心理 : 7177\n",
      "开心 : 7016\n",
      "一起 : 6514\n",
      "难受 : 6391\n",
      "东西 : 6179\n",
      "回复 : 6043\n",
      "快乐 : 5721\n",
      "特别 : 5520\n",
      "严重 : 5514\n",
      "看到 : 5495\n",
      "理解 : 5446\n",
      "治疗 : 5438\n",
      "时间 : 5422\n",
      "孩子 : 5333\n",
      "以后 : 5167\n",
      "心里 : 4853\n",
      "坚持 : 4785\n",
      "人生 : 4693\n",
      "身体 : 4677\n",
      "晚上 : 4601\n",
      "努力 : 4592\n",
      "焦虑 : 4561\n",
      "方法 : 4548\n",
      "想法 : 4544\n",
      "心情 : 4356\n",
      "不敢 : 4342\n",
      "大家 : 4327\n",
      "比较 : 4289\n",
      "相信 : 4239\n",
      "正常 : 4235\n",
      "哈哈哈 : 4233\n",
      "害怕 : 4198\n",
      "学校 : 4158\n",
      "慢慢 : 4154\n",
      "自杀 : 4088\n",
      "情况 : 4082\n",
      "家里 : 4072\n",
      "药物 : 3988\n",
      "患者 : 3940\n",
      "有时候 : 3920\n",
      "原因 : 3908\n",
      "抱抱 : 3906\n",
      "办法 : 3826\n",
      "说话 : 3809\n",
      "发现 : 3808\n",
      "认知 : 3750\n",
      "症状 : 3744\n",
      "能量 : 3722\n",
      "认为 : 3715\n",
      "精神 : 3648\n",
      "告诉 : 3635\n",
      "状态 : 3611\n",
      "重度 : 3587\n",
      "学习 : 3559\n",
      "容易 : 3541\n",
      "老师 : 3416\n",
      "愿意 : 3352\n",
      "家人 : 3341\n",
      "压力 : 3339\n",
      "经验 : 3297\n",
      "改变 : 3288\n",
      "总是 : 3265\n",
      "失眠 : 3200\n",
      "睡觉 : 3175\n",
      "地方 : 3174\n",
      "必须 : 3167\n",
      "越来越 : 3051\n",
      "感受 : 2996\n",
      "控制 : 2970\n",
      "上班 : 2960\n",
      "突然 : 2915\n",
      "想要 : 2893\n",
      "内心 : 2879\n",
      "经历 : 2878\n",
      "效果 : 2865\n",
      "重要 : 2825\n",
      "难过 : 2819\n",
      "经常 : 2804\n",
      "继续 : 2782\n",
      "离开 : 2781\n",
      "睡眠 : 2780\n",
      "建议 : 2776\n",
      "接受 : 2764\n",
      "无法 : 2762\n",
      "妈妈 : 2718\n",
      "放弃 : 2692\n",
      "影响 : 2683\n",
      "母亲 : 2681\n",
      "没什么 : 2664\n",
      "帮助 : 2664\n",
      "副作用 : 2634\n",
      "好多 : 2622\n",
      "检查 : 2603\n",
      "不行 : 2601\n",
      "复发 : 2580\n",
      "选择 : 2562\n",
      "伤害 : 2558\n",
      "明天 : 2550\n",
      "社会 : 2528\n",
      "最好 : 2518\n",
      "手机 : 2508\n",
      "没事 : 2486\n",
      "幸福 : 2483\n",
      "不用 : 2399\n",
      "遇到 : 2331\n",
      "面对 : 2314\n",
      "安慰 : 2306\n",
      "睡不着 : 2287\n",
      "永远 : 2279\n",
      "回来 : 2266\n",
      "讨厌 : 2225\n",
      "家庭 : 2202\n",
      "身边 : 2191\n",
      "本来 : 2190\n",
      "明白 : 2173\n",
      "意义 : 2167\n",
      "出现 : 2161\n",
      "微信 : 2161\n",
      "生命 : 2158\n",
      "同学 : 2152\n",
      "存在 : 2146\n",
      "差不多 : 2140\n",
      "导致 : 2118\n",
      "不错 : 2117\n",
      "直接 : 2112\n",
      "肯定 : 2111\n",
      "确实 : 2103\n",
      "在家 : 2101\n",
      "网上 : 2101\n",
      "未来 : 2091\n",
      "回家 : 2081\n",
      "记得 : 2078\n",
      "住院 : 2073\n",
      "吃饭 : 2058\n",
      "了解 : 2045\n",
      "错误 : 2043\n",
      "每次 : 2036\n",
      "反正 : 2024\n",
      "大学 : 1986\n",
      "能力 : 1979\n",
      "怀疑 : 1976\n",
      "绝望 : 1930\n",
      "脑子 : 1929\n",
      "担心 : 1918\n",
      "帖子 : 1915\n",
      "变成 : 1912\n",
      "往往 : 1908\n",
      "发生 : 1899\n",
      "思维 : 1895\n",
      "没用 : 1895\n",
      "停药 : 1886\n",
      "里面 : 1885\n",
      "现实 : 1881\n",
      "结婚 : 1870\n",
      "崩溃 : 1868\n",
      "失去 : 1865\n",
      "自然 : 1865\n",
      "大脑 : 1857\n",
      "变得 : 1854\n",
      "美好 : 1852\n",
      "孤独 : 1844\n",
      "想到 : 1843\n",
      "准备 : 1827\n",
      "舒服 : 1825\n",
      "早上 : 1825\n",
      "妹妹 : 1822\n",
      "休学 : 1820\n",
      "关系 : 1816\n",
      "过来 : 1813\n",
      "我妈 : 1808\n",
      "主要 : 1808\n",
      "认识 : 1806\n",
      "缓解 : 1795\n",
      "交流 : 1790\n"
     ]
    }
   ],
   "source": [
    "import numpy as np\n",
    "from sklearn.feature_extraction.text import TfidfVectorizer,CountVectorizer\n",
    "c_vectorizer = CountVectorizer(max_df=0.6, min_df=10,max_features=4000)\n",
    "cv = c_vectorizer.fit_transform(textlist)\n",
    "sums = np.array(cv.sum(axis = 0)).ravel()\n",
    "ranks = []\n",
    "for word,val in zip(c_vectorizer.get_feature_names(), sums):\n",
    "    ranks.append((word,val))\n",
    "df = pd.DataFrame(ranks , columns = ['term','count'])\n",
    "df = df.sort_values(by = 'count',ascending=False)\n",
    "df = df[:200]\n",
    "dica = {}\n",
    "for term,count in zip(df['term'].values,df['count'].values):\n",
    "    print(term + ' : '+ str(count))\n",
    "    dica[term] = count"
   ],
   "metadata": {
    "collapsed": false,
    "pycharm": {
     "name": "#%%\n"
    }
   }
  },
  {
   "cell_type": "code",
   "execution_count": null,
   "outputs": [
    {
     "name": "stdout",
     "output_type": "stream",
     "text": [
      "# of Topic: 2, \n",
      "done in 324.229s, N_iter 10, \n",
      "Perplexity Score 1596.759\n",
      "# of Topic: 4, \n",
      "done in 325.355s, N_iter 10, \n",
      "Perplexity Score 1505.455\n",
      "# of Topic: 6, \n",
      "done in 301.619s, N_iter 10, \n",
      "Perplexity Score 1469.924\n",
      "# of Topic: 8, \n",
      "done in 279.981s, N_iter 10, \n",
      "Perplexity Score 1430.608\n",
      "# of Topic: 10, \n",
      "done in 280.402s, N_iter 10, \n",
      "Perplexity Score 1453.421\n",
      "# of Topic: 12, \n",
      "done in 270.079s, N_iter 10, \n",
      "Perplexity Score 1452.191\n",
      "# of Topic: 14, \n",
      "done in 272.633s, N_iter 10, \n",
      "Perplexity Score 1484.443\n",
      "# of Topic: 16, \n",
      "done in 270.090s, N_iter 10, \n",
      "Perplexity Score 1465.649\n",
      "# of Topic: 18, \n",
      "done in 272.458s, N_iter 10, \n",
      "Perplexity Score 1454.766\n",
      "# of Topic: 20, \n",
      "done in 277.530s, N_iter 10, \n",
      "Perplexity Score 1509.289\n",
      "# of Topic: 22, \n",
      "done in 280.800s, N_iter 10, \n",
      "Perplexity Score 1504.002\n",
      "# of Topic: 24, \n",
      "done in 281.251s, N_iter 10, \n",
      "Perplexity Score 1561.250\n",
      "# of Topic: 26, \n",
      "done in 277.752s, N_iter 10, \n",
      "Perplexity Score 1557.277\n",
      "# of Topic: 28, \n",
      "done in 279.730s, N_iter 10, \n",
      "Perplexity Score 1577.443\n",
      "# of Topic: 30, \n",
      "done in 278.026s, N_iter 10, \n",
      "Perplexity Score 1605.709\n",
      "# of Topic: 32, \n",
      "done in 274.084s, N_iter 10, \n",
      "Perplexity Score 1616.799\n",
      "# of Topic: 34, \n",
      "done in 280.018s, N_iter 10, \n",
      "Perplexity Score 1660.236\n",
      "# of Topic: 36, \n",
      "done in 270.999s, N_iter 10, \n",
      "Perplexity Score 1663.649\n",
      "# of Topic: 38, \n",
      "done in 276.052s, N_iter 10, \n",
      "Perplexity Score 1687.579\n",
      "# of Topic: 40, \n",
      "done in 265.943s, N_iter 10, \n",
      "Perplexity Score 1705.161\n",
      "# of Topic: 42, \n",
      "done in 271.426s, N_iter 10, \n",
      "Perplexity Score 1749.956\n",
      "# of Topic: 44, \n",
      "done in 271.016s, N_iter 10, \n",
      "Perplexity Score 1816.193\n",
      "# of Topic: 46, \n",
      "done in 276.113s, N_iter 10, \n",
      "Perplexity Score 1744.427\n",
      "# of Topic: 48, \n",
      "done in 274.685s, N_iter 10, \n",
      "Perplexity Score 1783.525\n",
      "# of Topic: 50, \n",
      "done in 290.992s, N_iter 10, \n",
      "Perplexity Score 1821.467\n",
      "# of Topic: 52, \n",
      "done in 277.354s, N_iter 10, \n",
      "Perplexity Score 1827.104\n",
      "# of Topic: 54, \n",
      "done in 282.601s, N_iter 10, \n",
      "Perplexity Score 1869.041\n",
      "# of Topic: 56, \n",
      "done in 289.108s, N_iter 10, \n",
      "Perplexity Score 1828.508\n",
      "# of Topic: 58, \n",
      "done in 292.774s, N_iter 10, \n",
      "Perplexity Score 1909.054\n",
      "# of Topic: 60, \n",
      "done in 287.313s, N_iter 10, \n",
      "Perplexity Score 1873.610\n"
     ]
    }
   ],
   "source": [
    "from sklearn.decomposition import LatentDirichletAllocation\n",
    "from time import time\n",
    "n_topics = range(2, 100, 2)\n",
    "perplexityLst = [1.0]*len(n_topics)\n",
    "#训练LDA并打印训练时间\n",
    "lda_models = []\n",
    "for idx, n_topic in enumerate(n_topics):\n",
    "    lda = LatentDirichletAllocation(n_components=n_topic,\n",
    "                                    # max_iter=1200,\n",
    "                                    learning_method='batch',\n",
    "                                    # evaluate_every=200,\n",
    "#                                    perp_tol=0.1, #default\n",
    "#                                    doc_topic_prior=1/n_topic, #default\n",
    "#                                    topic_word_prior=1/n_topic, #default\n",
    "                                    verbose=0)\n",
    "    t0 = time()\n",
    "    lda.fit(cv)\n",
    "    perplexityLst[idx] = lda.perplexity(cv)\n",
    "    lda_models.append(lda)\n",
    "    print(\"# of Topic: %d, \" % n_topics[idx])\n",
    "    print(\"done in %0.3fs, N_iter %d, \" % ((time() - t0), lda.n_iter_))\n",
    "    print(\"Perplexity Score %0.3f\" % perplexityLst[idx])"
   ],
   "metadata": {
    "collapsed": false,
    "pycharm": {
     "name": "#%%\n",
     "is_executing": true
    }
   }
  },
  {
   "cell_type": "code",
   "execution_count": null,
   "outputs": [],
   "source": [
    "perplexitypd=pd.DataFrame(perplexityLst)\n",
    "perplexitypd.to_csv('../data/perplexity.csv',encoding='utf-8-sig')"
   ],
   "metadata": {
    "collapsed": false,
    "pycharm": {
     "name": "#%%保存困惑度\n",
     "is_executing": true
    }
   }
  },
  {
   "cell_type": "code",
   "execution_count": null,
   "outputs": [],
   "source": [
    "#打印最佳模型\n",
    "best_index = perplexityLst.index(min(perplexityLst))\n",
    "best_n_topic = n_topics[best_index]\n",
    "best_model = lda_models[best_index]\n",
    "print(\"Best # of Topic: \", best_n_topic)\n",
    "import matplotlib.pyplot as plt\n",
    "import os\n",
    "\n",
    "plt.rcParams['font.sans-serif'] = ['SimHei']\n",
    "\n",
    "#绘制不同主题数perplexity的不同\n",
    "fig = plt.figure()\n",
    "ax = fig.add_subplot(1,1,1)\n",
    "ax.plot(n_topics, perplexityLst)\n",
    "ax.set_xlabel(\"主题数量 (K)\")\n",
    "# ax.set_ylabel(\"Approximate Perplexity\")\n",
    "ax.set_ylabel(\"困惑度 (Approximate Perplexity)\")\n",
    "plt.grid(True)\n",
    "plt.savefig('perplexityTrend.png')\n",
    "plt.show()"
   ],
   "metadata": {
    "collapsed": false,
    "pycharm": {
     "name": "#%%\n",
     "is_executing": true
    }
   }
  },
  {
   "cell_type": "code",
   "execution_count": 5,
   "outputs": [],
   "source": [
    "from sklearn.decomposition import LatentDirichletAllocation\n",
    "\n",
    "# '''\n",
    "# n_components 为主题数K\n",
    "lda = LatentDirichletAllocation(n_components=8,\n",
    "                                    # max_iter=1200,\n",
    "                                    learning_method='batch',\n",
    "                                    # evaluate_every=200,\n",
    "#                                    perp_tol=0.1, #default\n",
    "#                                    doc_topic_prior=1/n_topic, #default\n",
    "#                                    topic_word_prior=1/n_topic, #default\n",
    "                                    verbose=0)\n",
    "docres = lda.fit_transform(cv)"
   ],
   "metadata": {
    "collapsed": false,
    "pycharm": {
     "name": "#%%\n"
    }
   }
  },
  {
   "cell_type": "code",
   "execution_count": 6,
   "outputs": [],
   "source": [
    "import pickle\n",
    "\n",
    "with open('lda.pickle','wb') as f:\n",
    "    pickle.dump(lda,f)"
   ],
   "metadata": {
    "collapsed": false,
    "pycharm": {
     "name": "#%%\n"
    }
   }
  },
  {
   "cell_type": "code",
   "execution_count": 7,
   "outputs": [
    {
     "name": "stdout",
     "output_type": "stream",
     "text": [
      "Topic #0:\n",
      "开心 认知 经验 朋友 必须 想法 快乐 认为 世界 情绪 错误 往往 怀疑 原因 事情 愉快 愿意 感觉 方法 信任 忧虑 常常 相信 永远 感受 比较 发泄 行为 心中 生活\n",
      "Topic #1:\n",
      "抑郁 坚持 希望 抱抱 没事 孩子 微信 差不多 幸福 女生 好看 倾诉 放弃 男人 重度 聊聊 女人 难过 以后 男朋友 我要 照顾 哈哈哈哈 男生 确实 焦虑 楼楼 分手 女朋友 活下去\n",
      "Topic #2:\n",
      "加油 喜欢 一起 看到 时间 明天 慢慢 游戏 帖子 希望 世界 人生 地方 哥哥 小姐姐 聊天 可爱 美好 快乐 倾诉 大家 小说 习惯 姐姐 发现 东西 为啥 兄弟 早安 老哥\n",
      "Topic #3:\n",
      "抑郁症 吃药 医生 治疗 抑郁 哈哈哈 症状 严重 药物 患者 副作用 情况 问题 重度 精神 建议 医院 停药 心理 效果 精神病 导致 情绪 确诊 身体 大家 了解 大脑 正常 需要\n",
      "Topic #4:\n",
      "感觉 不好 晚上 问题 特别 每天 难受 心情 情绪 身体 倾诉 东西 觉得 工作 睡觉 状态 睡不着 越来越 正常 失眠 心里 有时候 严重 控制 突然 害怕 事情 经常 舒服 生活\n",
      "Topic #5:\n",
      "别人 觉得 痛苦 不想 活着 生活 理解 世界 朋友 事情 希望 自杀 倾诉 父母 家人 内心 改变 伤害 能量 努力 需要 开心 讨厌 经历 离开 办法 告诉 选择 问题 说话\n",
      "Topic #6:\n",
      "工作 回复 父母 学校 家里 不想 上班 老师 妈妈 不敢 觉得 孩子 同学 在家 回家 大学 压力 妹妹 休学 学习 手机 我妈 每天 以后 晚安 高中 爸妈 上学 吃饭 回去\n",
      "Topic #7:\n",
      "医院 需要 心理 抑郁症 方法 母亲 网上 检查 难受 复发 安慰 记忆 推荐 多久 住院 问题 医生 效果 缓解 焦虑 抑郁 好转 本书 睡眠 厉害 自然 不安 药物 患者 避免\n",
      "#主题-词语分布矩阵: \n",
      " [[1.25020732e-01 1.25003710e-01 1.25042554e-01 ... 1.25042417e-01\n",
      "  1.25041903e-01 1.25030379e-01]\n",
      " [1.25025187e-01 3.89124978e+02 1.16970739e+02 ... 4.12570715e+02\n",
      "  4.02488516e+00 2.88208269e+00]\n",
      " [1.25014776e-01 1.25003668e-01 1.23127519e+02 ... 1.05159426e+02\n",
      "  1.25150169e-01 1.25170157e-01]\n",
      " ...\n",
      " [1.25013657e-01 1.25001320e-01 8.12761516e+01 ... 3.09699100e+02\n",
      "  5.26082542e+01 1.34727117e+00]\n",
      " [1.25031406e-01 1.25003256e-01 1.25211637e-01 ... 6.35700975e+00\n",
      "  2.55470617e+01 1.25613070e+01]\n",
      " [4.82772982e+01 1.25002370e-01 1.25159148e-01 ... 1.25071805e-01\n",
      "  6.39615305e+00 1.25132107e-01]]\n"
     ]
    }
   ],
   "source": [
    "def print_top_words(model, feature_names, n_top_words):\n",
    "    #打印每个主题下权重较高的term\n",
    "    for topic_idx, topic in enumerate(model.components_):\n",
    "        print(\"Topic #%d:\" % topic_idx)\n",
    "        print( \" \".join([feature_names[i]\n",
    "                        for i in topic.argsort()[:-n_top_words - 1:-1]]))\n",
    "\n",
    "    #打印主题-词语分布矩阵\n",
    "    print (\"#主题-词语分布矩阵: \\n\", model.components_)\n",
    "#前N个关键词\n",
    "n_top_words=30\n",
    "feature_names = c_vectorizer.get_feature_names()\n",
    "print_top_words(lda, feature_names, n_top_words)"
   ],
   "metadata": {
    "collapsed": false,
    "pycharm": {
     "name": "#%%\n"
    }
   }
  },
  {
   "cell_type": "code",
   "execution_count": 8,
   "outputs": [],
   "source": [
    "user_content = pd.read_csv('../data/user_sw.csv',encoding='utf-8')\n",
    "cv_user = c_vectorizer.transform(user_content['space_sw'].values.tolist())\n",
    "docres_user = lda.transform(cv_user)"
   ],
   "metadata": {
    "collapsed": false,
    "pycharm": {
     "name": "#%%\n"
    }
   }
  },
  {
   "cell_type": "code",
   "execution_count": 9,
   "outputs": [],
   "source": [
    "user_char = pd.DataFrame()\n",
    "user_char['portrait'] = user_content['portrait']\n",
    "user_char['topic'] = list(docres_user)\n",
    "user_char.to_csv('../data/user_character.csv',encoding='utf-8-sig',index=False)"
   ],
   "metadata": {
    "collapsed": false,
    "pycharm": {
     "name": "#%%\n"
    }
   }
  },
  {
   "cell_type": "code",
   "execution_count": 10,
   "outputs": [],
   "source": [
    "thread_content = pd.read_csv('../data/thread_sw.csv',encoding='utf-8')\n",
    "cv_thread = c_vectorizer.transform(thread_content['space_sw'].values.tolist())\n",
    "docres_thread = lda.transform(cv_thread)"
   ],
   "metadata": {
    "collapsed": false,
    "pycharm": {
     "name": "#%%\n"
    }
   }
  },
  {
   "cell_type": "code",
   "execution_count": 12,
   "outputs": [],
   "source": [
    "thread_char = pd.DataFrame()\n",
    "thread_char['thread_id'] = thread_content['thread_id']\n",
    "thread_char['topic'] = list(docres_thread)\n",
    "thread_char.to_csv('../data/thread_character.csv',encoding='utf-8-sig',index=False)"
   ],
   "metadata": {
    "collapsed": false,
    "pycharm": {
     "name": "#%%\n"
    }
   }
  },
  {
   "cell_type": "code",
   "execution_count": null,
   "outputs": [],
   "source": [
    "# label = []\n",
    "# for i in range(len(docres)):\n",
    "#     topic_most_pr = docres[i].argmax()\n",
    "#     label.append(topic_most_pr)\n",
    "# label_df=pd.DataFrame(label)"
   ],
   "metadata": {
    "collapsed": false,
    "pycharm": {
     "name": "#%%\n"
    }
   }
  },
  {
   "cell_type": "code",
   "execution_count": 11,
   "outputs": [],
   "source": [
    "# data.insert(loc=1,column='label_lda',value=label)\n",
    "# data.to_csv('data_lda_labeled.csv',encoding='utf_8_sig',index=False)\n",
    "# #保存docres方便后续可视化\n",
    "# np.save(\"docres.npy\",docres)"
   ],
   "metadata": {
    "collapsed": false,
    "pycharm": {
     "name": "#%%\n"
    }
   }
  },
  {
   "cell_type": "code",
   "execution_count": 13,
   "outputs": [],
   "source": [
    "np.save(\"docres_thread.npy\",docres_thread)\n",
    "np.save(\"docres_user.npy\",docres_user)"
   ],
   "metadata": {
    "collapsed": false,
    "pycharm": {
     "name": "#%%\n"
    }
   }
  },
  {
   "cell_type": "code",
   "execution_count": null,
   "outputs": [],
   "source": [],
   "metadata": {
    "collapsed": false,
    "pycharm": {
     "name": "#%%\n"
    }
   }
  }
 ],
 "metadata": {
  "kernelspec": {
   "display_name": "Python 3",
   "language": "python",
   "name": "python3"
  },
  "language_info": {
   "codemirror_mode": {
    "name": "ipython",
    "version": 2
   },
   "file_extension": ".py",
   "mimetype": "text/x-python",
   "name": "python",
   "nbconvert_exporter": "python",
   "pygments_lexer": "ipython2",
   "version": "2.7.6"
  }
 },
 "nbformat": 4,
 "nbformat_minor": 0
}