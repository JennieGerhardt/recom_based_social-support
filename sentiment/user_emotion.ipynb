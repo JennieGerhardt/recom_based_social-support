{
 "cells": [
  {
   "cell_type": "code",
   "execution_count": 1,
   "metadata": {
    "collapsed": true
   },
   "outputs": [],
   "source": [
    "import pandas as pd\n",
    "\n",
    "user_sentiment = pd.read_csv('../data/user_google_result400.csv',encoding='utf-8-sig')\n",
    "# thread = pd.read_csv('data/thread_wenxin.csv',encoding='utf-8-sig')"
   ]
  },
  {
   "cell_type": "code",
   "execution_count": 2,
   "outputs": [],
   "source": [
    "total = user_sentiment.groupby('portrait')['score'].apply(lambda x: x.count())\n"
   ],
   "metadata": {
    "collapsed": false,
    "pycharm": {
     "name": "#%%\n"
    }
   }
  },
  {
   "cell_type": "code",
   "execution_count": 3,
   "outputs": [],
   "source": [
    "neg = user_sentiment.groupby('portrait')['score'].apply(lambda x: x[x < -0.2].count())/user_sentiment.groupby('portrait')['score'].apply(lambda x: x.count())"
   ],
   "metadata": {
    "collapsed": false,
    "pycharm": {
     "name": "#%%\n"
    }
   }
  },
  {
   "cell_type": "code",
   "execution_count": 4,
   "outputs": [],
   "source": [
    "pos = user_sentiment.groupby('portrait')['score'].apply(lambda x: x[x > 0.2].count())/user_sentiment.groupby('portrait')['score'].apply(lambda x: x.count())\n"
   ],
   "metadata": {
    "collapsed": false,
    "pycharm": {
     "name": "#%%\n"
    }
   }
  },
  {
   "cell_type": "code",
   "execution_count": 5,
   "outputs": [],
   "source": [
    "neu = user_sentiment.groupby('portrait')['score'].apply(lambda x: x[(-0.2 <= x) & (x <= 0.2)].count())/user_sentiment.groupby('portrait')['score'].apply(lambda x: x.count())\n"
   ],
   "metadata": {
    "collapsed": false,
    "pycharm": {
     "name": "#%%\n"
    }
   }
  },
  {
   "cell_type": "code",
   "execution_count": 6,
   "outputs": [],
   "source": [
    "user_chara = pd.DataFrame()\n",
    "user_chara['portrait'] = neg.index\n",
    "user_chara['neg'] = neg.values\n",
    "user_chara['pos'] = pos.values\n",
    "user_chara['neu'] = neu.values\n",
    "user_chara['total'] = total.values"
   ],
   "metadata": {
    "collapsed": false,
    "pycharm": {
     "name": "#%%\n"
    }
   }
  },
  {
   "cell_type": "code",
   "execution_count": 7,
   "outputs": [],
   "source": [
    "topics = pd.read_csv('../data/user_biterm_topics_6.csv',encoding='utf-8')"
   ],
   "metadata": {
    "collapsed": false,
    "pycharm": {
     "name": "#%%\n"
    }
   }
  },
  {
   "cell_type": "code",
   "execution_count": 8,
   "outputs": [],
   "source": [
    "user_chara = user_chara.merge(topics, on=['portrait'], how='left')"
   ],
   "metadata": {
    "collapsed": false,
    "pycharm": {
     "name": "#%%\n"
    }
   }
  },
  {
   "cell_type": "code",
   "execution_count": 9,
   "outputs": [],
   "source": [
    "user_chara.sort_values(by=['total'],ascending=False,inplace=True)\n",
    "user_chara.to_csv('../data/user_character400.csv',encoding='utf-8-sig',index=False)"
   ],
   "metadata": {
    "collapsed": false,
    "pycharm": {
     "name": "#%%\n"
    }
   }
  },
  {
   "cell_type": "code",
   "execution_count": 1,
   "outputs": [],
   "source": [
    "import pandas as pd\n",
    "\n",
    "thread_sentiment = pd.read_csv('../data/thread_google_result2000.csv',encoding='utf-8-sig')\n",
    "topics = pd.read_csv('../data/thread_biterm_topics_6.csv',encoding='utf-8')"
   ],
   "metadata": {
    "collapsed": false,
    "pycharm": {
     "name": "#%%\n"
    }
   }
  },
  {
   "cell_type": "code",
   "execution_count": 2,
   "outputs": [],
   "source": [
    "topics.insert(1,'sentiment',thread_sentiment['score'])"
   ],
   "metadata": {
    "collapsed": false,
    "pycharm": {
     "name": "#%%\n"
    }
   }
  },
  {
   "cell_type": "code",
   "execution_count": 3,
   "outputs": [],
   "source": [
    "topics.to_csv('../data/thread_character2000.csv',encoding='utf-8-sig',index=False)\n"
   ],
   "metadata": {
    "collapsed": false,
    "pycharm": {
     "name": "#%%\n"
    }
   }
  },
  {
   "cell_type": "code",
   "execution_count": null,
   "outputs": [],
   "source": [],
   "metadata": {
    "collapsed": false,
    "pycharm": {
     "name": "#%%\n"
    }
   }
  }
 ],
 "metadata": {
  "kernelspec": {
   "display_name": "Python 3",
   "language": "python",
   "name": "python3"
  },
  "language_info": {
   "codemirror_mode": {
    "name": "ipython",
    "version": 2
   },
   "file_extension": ".py",
   "mimetype": "text/x-python",
   "name": "python",
   "nbconvert_exporter": "python",
   "pygments_lexer": "ipython2",
   "version": "2.7.6"
  }
 },
 "nbformat": 4,
 "nbformat_minor": 0
}