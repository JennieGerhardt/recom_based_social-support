{
 "cells": [
  {
   "cell_type": "code",
   "execution_count": 1,
   "metadata": {
    "collapsed": true
   },
   "outputs": [],
   "source": [
    "import re\n",
    "import pandas as pd\n",
    "from string import punctuation\n",
    "from snownlp import  SnowNLP\n",
    "import numpy as np"
   ]
  },
  {
   "cell_type": "code",
   "execution_count": 2,
   "outputs": [],
   "source": [
    "post=pd.read_csv('data/post.CSV',encoding='utf-8')#读取文件\n",
    "comment=pd.read_csv('data/comment.csv',encoding='utf-8')#读取文件"
   ],
   "metadata": {
    "collapsed": false,
    "pycharm": {
     "name": "#%%\n"
    }
   }
  },
  {
   "cell_type": "code",
   "execution_count": 3,
   "outputs": [
    {
     "data": {
      "text/plain": "(367664, 10)"
     },
     "execution_count": 3,
     "metadata": {},
     "output_type": "execute_result"
    }
   ],
   "source": [
    "data = pd.concat([post,comment])\n",
    "data.shape"
   ],
   "metadata": {
    "collapsed": false,
    "pycharm": {
     "name": "#%%\n"
    }
   }
  },
  {
   "cell_type": "code",
   "execution_count": 4,
   "outputs": [
    {
     "data": {
      "text/plain": "(365737, 10)"
     },
     "execution_count": 4,
     "metadata": {},
     "output_type": "execute_result"
    }
   ],
   "source": [
    "data.dropna(subset=['content'],inplace=True)\n",
    "data.dropna(subset=['portrait'],inplace=True)\n",
    "data.shape"
   ],
   "metadata": {
    "collapsed": false,
    "pycharm": {
     "name": "#%%\n"
    }
   }
  },
  {
   "cell_type": "code",
   "execution_count": 5,
   "outputs": [
    {
     "data": {
      "text/plain": "                  id  floor          author  \\\n188688  136222073743    NaN            为之奈何   \n188689  136222082561    NaN         lgqizi1   \n188690  136222234982    NaN            为之奈何   \n188691  136222276410    NaN            妮乐ni   \n188692  136222340489    NaN            妮乐ni   \n188693  136222365914    NaN        对我而言可爱66   \n188694  136222591983    NaN          请你别认识我   \n188695  136222747260    NaN            梓潼YL   \n188696  136222860593    NaN            灵梦幽音   \n188697  136222887130    NaN            梓潼YL   \n188698  136223156116    NaN           阿塔玛xo   \n188699  136223165980    NaN           转角-轮回   \n188700  136223189153    NaN            写诗Zz   \n188701  136223328814    NaN  君迷茫:male_sign:   \n188702  136223334940    NaN      rong810715   \n188703  136223420848    NaN          生活需要情趣   \n188704  136223462917    NaN    贴吧用户_7tX6a64   \n188705  136223478694    NaN          生活需要情趣   \n188706  136223503011    NaN            雨中浪子   \n188707  136223512095    NaN            雨中浪子   \n\n                                    portrait  \\\n188688  tb.1.67c8f5a5.TaZKAq2ajae5074Xpj46RA   \n188689  tb.1.69dfc9f2.88qj1pOJGToBad6eM-QPLA   \n188690  tb.1.67c8f5a5.TaZKAq2ajae5074Xpj46RA   \n188691  tb.1.960ad6a0.sRpAcaKF5rtdD0fNz94ERw   \n188692  tb.1.960ad6a0.sRpAcaKF5rtdD0fNz94ERw   \n188693   tb.1.7774a02.PwNn7aHtkJKRwy_1ekzMdQ   \n188694  tb.1.974f9d50.7rcIGe5pmbsdyQmfRH4zvg   \n188695  tb.1.4a0c059d.6AkNxsRUiWitsRvMGoF2rg   \n188696  tb.1.b96834de.KyQWGelEhicRk3vr7lMr-g   \n188697  tb.1.4a0c059d.6AkNxsRUiWitsRvMGoF2rg   \n188698  tb.1.d8f76ffb.70IxVlL4y4ej32RlTRt7_Q   \n188699  tb.1.be8ed4f2.0lX_E0t09rZSxj0QDQO7ew   \n188700  tb.1.af1b141a.ZFf_QoqS2kVCXFRhthpunw   \n188701  tb.1.f10e57fa.b2KpcEl1_n3oePCJzuIaXQ   \n188702  tb.1.1c960f55.aGhKAR-v0faZucejngiXzg   \n188703  tb.1.7c903dbb.lHEKrorkWAKLp4OCrEMVFA   \n188704  tb.1.16639f46.D6ai1GLFE2lKEJzXbKeEOw   \n188705  tb.1.7c903dbb.lHEKrorkWAKLp4OCrEMVFA   \n188706  tb.1.f82b59fc.2plhwdYxHBoYzv3aZqhpJQ   \n188707  tb.1.f82b59fc.2plhwdYxHBoYzv3aZqhpJQ   \n\n                                                  content                time  \\\n188688                                     留学生打零工是另一种心态吧。  6/11/2020 20:55:00   \n188689                                      你真坏，就知道馋别人的身子  6/11/2020 20:56:00   \n188690  呃，张朝阳闭关修炼一年多，白岩松看书一年多，这些人不缺钱吧。还有很多青少年抑郁患者，并不都是...  6/11/2020 21:03:00   \n188691                       回复 为之奈何 :大超市 我看有大把理货员是年轻小伙子。  6/11/2020 21:05:00   \n188692              回复 为之奈何 :如果有写作天赋，写小说也赚钱，特别是写女生爱看的那些类型  6/11/2020 21:08:00   \n188693                                        回复 妮乐ni :是呀  6/11/2020 21:10:00   \n188694                                                我也是  6/11/2020 21:21:00   \n188695                   回复 恩腻 :这样子啊，我也没吃过，所以不是很懂，看那些楼主说的  6/11/2020 21:28:00   \n188696                                               什么问题  6/11/2020 21:34:00   \n188697  回复 柏沼- :是很讨厌，可是我知道她也就是说说，她嫁的挺好的，广州市区有房有车，两个儿子也...  6/11/2020 21:35:00   \n188698                                       如你所愿一切都会好起来的  6/11/2020 21:48:00   \n188699                                              就是三甲呀  6/11/2020 21:49:00   \n188700                                 ？？？？啥意思 抑郁她都自己查出来了  6/11/2020 21:50:00   \n188701  加油啊姑娘，说说我自己吧，我身体有病，每天都要吃药才能控制病情，最近又检查出有高血压，现在吃...  6/11/2020 21:57:00   \n188702                越说越离谱 抑郁我承认 只是不知道有没有这么严重 精分狂躁症有点过了吧  6/11/2020 21:57:00   \n188703                                    回复 ◎南无阿弥陀佛 :我想醒  6/11/2020 22:01:00   \n188704                    我已经突然停药了，然后现在已经晕了3天了，该怎么办？几天会正常  6/11/2020 22:03:00   \n188705  回复 我是一只猫 :头晕与抑郁症的关系，你是什么症状就搜什么，根据视频中说的，与自己对比，好...  6/11/2020 22:04:00   \n188706                                  回复 写诗Zz :那你还有必要说？  6/11/2020 22:05:00   \n188707                 回复 写诗Zz :她都知道了。你们啥时候分手了？她是不是很快找了一个  6/11/2020 22:06:00   \n\n        comment_num  thread_id                               replied  \\\n188688          NaN        NaN  tb.1.960ad6a0.sRpAcaKF5rtdD0fNz94ERw   \n188689          NaN        NaN  tb.1.7b627d7a.S__DvW-F1NuDi9G06mE1ug   \n188690          NaN        NaN  tb.1.4e97dc04.URqRcr40eVA9faR0ieLiEA   \n188691          NaN        NaN  tb.1.67c8f5a5.TaZKAq2ajae5074Xpj46RA   \n188692          NaN        NaN  tb.1.67c8f5a5.TaZKAq2ajae5074Xpj46RA   \n188693          NaN        NaN  tb.1.960ad6a0.sRpAcaKF5rtdD0fNz94ERw   \n188694          NaN        NaN  tb.1.3e4107c4.Y2xtPv56TpaP4DukZnAApw   \n188695          NaN        NaN  tb.1.45216762.UCtTFDJSMr2JGrJ6m6F88A   \n188696          NaN        NaN   tb.1.3fbec83.zjhOCUyn7QnQJG6rvLWXbg   \n188697          NaN        NaN  tb.1.b485d16a.kLyCNYv6r8scxSDm_Gjg0w   \n188698          NaN        NaN  tb.1.a24ab04d.izXFEcC75ZUdWm9Z-LHbKA   \n188699          NaN        NaN  tb.1.69dfc9f2.88qj1pOJGToBad6eM-QPLA   \n188700          NaN        NaN  tb.1.f82b59fc.2plhwdYxHBoYzv3aZqhpJQ   \n188701          NaN        NaN   tb.1.ba0d82e.Xrbee9hSdN7gi7XQDaZ6aA   \n188702          NaN        NaN  tb.1.69dfc9f2.88qj1pOJGToBad6eM-QPLA   \n188703          NaN        NaN  tb.1.e8bf144e.CPEG0-Rcoemsmjg5e0MLGw   \n188704          NaN        NaN  tb.1.899b0683.Pjx-cX-cDCmFNhNioH7J_Q   \n188705          NaN        NaN   tb.1.9a1232e.QoX7QK8Q51mmtHyVwmYzWQ   \n188706          NaN        NaN  tb.1.af1b141a.ZFf_QoqS2kVCXFRhthpunw   \n188707          NaN        NaN  tb.1.af1b141a.ZFf_QoqS2kVCXFRhthpunw   \n\n             post_id                                        content_new  \n188688  1.355394e+11                                     留学生打零工是另一种心态吧。  \n188689  1.361963e+11                                     你真坏。就知道馋别人的身子。  \n188690  1.280392e+11  呃。张朝阳闭关修炼一年多。白岩松看书一年多。这些人不缺钱吧。还有很多青少年抑郁患者。并不都是...  \n188691  1.355394e+11                                大超市。我看有大把理货员是年轻小伙子。  \n188692  1.355394e+11                      如果有写作天赋。写小说也赚钱。特别是写女生爱看的那些类型。  \n188693  1.355394e+11                                                是呀。  \n188694  1.339095e+11                                               我也是。  \n188695  1.361468e+11                         这样子啊。我也没吃过。所以不是很懂。看那些楼主说的。  \n188696  1.362208e+11                                              什么问题。  \n188697  1.361521e+11  是很讨厌。可是我知道她也就是说说。她嫁的挺好的。广州市区有房有车。两个儿子也有房有车的。平常...  \n188698  1.362035e+11                                      如你所愿一切都会好起来的。  \n188699  1.362222e+11                                             就是三甲呀。  \n188700  1.362232e+11                                   。啥意思。抑郁她都自己查出来了。  \n188701  1.361939e+11  加油啊姑娘。说说我自己吧。我身体有病。每天都要吃药才能控制病情。最近又检查出有高血压。现在吃...  \n188702  1.362220e+11               越说越离谱。抑郁我承认。只是不知道有没有这么严重。精分狂躁症有点过了吧。  \n188703  1.361898e+11                                               我想醒。  \n188704  1.270149e+11                    我已经突然停药了。然后现在已经晕了天了。该怎么办。几天会正常。  \n188705  1.361254e+11        头晕与抑郁症的关系。你是什么症状就搜什么。根据视频中说的。与自己对比。好多都有答案的。  \n188706  1.362232e+11                                           那你还有必要说。  \n188707  1.362232e+11                         她都知道了。你们啥时候分手了。她是不是很快找了一个。  ",
      "text/html": "<div>\n<style scoped>\n    .dataframe tbody tr th:only-of-type {\n        vertical-align: middle;\n    }\n\n    .dataframe tbody tr th {\n        vertical-align: top;\n    }\n\n    .dataframe thead th {\n        text-align: right;\n    }\n</style>\n<table border=\"1\" class=\"dataframe\">\n  <thead>\n    <tr style=\"text-align: right;\">\n      <th></th>\n      <th>id</th>\n      <th>floor</th>\n      <th>author</th>\n      <th>portrait</th>\n      <th>content</th>\n      <th>time</th>\n      <th>comment_num</th>\n      <th>thread_id</th>\n      <th>replied</th>\n      <th>post_id</th>\n      <th>content_new</th>\n    </tr>\n  </thead>\n  <tbody>\n    <tr>\n      <th>188688</th>\n      <td>136222073743</td>\n      <td>NaN</td>\n      <td>为之奈何</td>\n      <td>tb.1.67c8f5a5.TaZKAq2ajae5074Xpj46RA</td>\n      <td>留学生打零工是另一种心态吧。</td>\n      <td>6/11/2020 20:55:00</td>\n      <td>NaN</td>\n      <td>NaN</td>\n      <td>tb.1.960ad6a0.sRpAcaKF5rtdD0fNz94ERw</td>\n      <td>1.355394e+11</td>\n      <td>留学生打零工是另一种心态吧。</td>\n    </tr>\n    <tr>\n      <th>188689</th>\n      <td>136222082561</td>\n      <td>NaN</td>\n      <td>lgqizi1</td>\n      <td>tb.1.69dfc9f2.88qj1pOJGToBad6eM-QPLA</td>\n      <td>你真坏，就知道馋别人的身子</td>\n      <td>6/11/2020 20:56:00</td>\n      <td>NaN</td>\n      <td>NaN</td>\n      <td>tb.1.7b627d7a.S__DvW-F1NuDi9G06mE1ug</td>\n      <td>1.361963e+11</td>\n      <td>你真坏。就知道馋别人的身子。</td>\n    </tr>\n    <tr>\n      <th>188690</th>\n      <td>136222234982</td>\n      <td>NaN</td>\n      <td>为之奈何</td>\n      <td>tb.1.67c8f5a5.TaZKAq2ajae5074Xpj46RA</td>\n      <td>呃，张朝阳闭关修炼一年多，白岩松看书一年多，这些人不缺钱吧。还有很多青少年抑郁患者，并不都是...</td>\n      <td>6/11/2020 21:03:00</td>\n      <td>NaN</td>\n      <td>NaN</td>\n      <td>tb.1.4e97dc04.URqRcr40eVA9faR0ieLiEA</td>\n      <td>1.280392e+11</td>\n      <td>呃。张朝阳闭关修炼一年多。白岩松看书一年多。这些人不缺钱吧。还有很多青少年抑郁患者。并不都是...</td>\n    </tr>\n    <tr>\n      <th>188691</th>\n      <td>136222276410</td>\n      <td>NaN</td>\n      <td>妮乐ni</td>\n      <td>tb.1.960ad6a0.sRpAcaKF5rtdD0fNz94ERw</td>\n      <td>回复 为之奈何 :大超市 我看有大把理货员是年轻小伙子。</td>\n      <td>6/11/2020 21:05:00</td>\n      <td>NaN</td>\n      <td>NaN</td>\n      <td>tb.1.67c8f5a5.TaZKAq2ajae5074Xpj46RA</td>\n      <td>1.355394e+11</td>\n      <td>大超市。我看有大把理货员是年轻小伙子。</td>\n    </tr>\n    <tr>\n      <th>188692</th>\n      <td>136222340489</td>\n      <td>NaN</td>\n      <td>妮乐ni</td>\n      <td>tb.1.960ad6a0.sRpAcaKF5rtdD0fNz94ERw</td>\n      <td>回复 为之奈何 :如果有写作天赋，写小说也赚钱，特别是写女生爱看的那些类型</td>\n      <td>6/11/2020 21:08:00</td>\n      <td>NaN</td>\n      <td>NaN</td>\n      <td>tb.1.67c8f5a5.TaZKAq2ajae5074Xpj46RA</td>\n      <td>1.355394e+11</td>\n      <td>如果有写作天赋。写小说也赚钱。特别是写女生爱看的那些类型。</td>\n    </tr>\n    <tr>\n      <th>188693</th>\n      <td>136222365914</td>\n      <td>NaN</td>\n      <td>对我而言可爱66</td>\n      <td>tb.1.7774a02.PwNn7aHtkJKRwy_1ekzMdQ</td>\n      <td>回复 妮乐ni :是呀</td>\n      <td>6/11/2020 21:10:00</td>\n      <td>NaN</td>\n      <td>NaN</td>\n      <td>tb.1.960ad6a0.sRpAcaKF5rtdD0fNz94ERw</td>\n      <td>1.355394e+11</td>\n      <td>是呀。</td>\n    </tr>\n    <tr>\n      <th>188694</th>\n      <td>136222591983</td>\n      <td>NaN</td>\n      <td>请你别认识我</td>\n      <td>tb.1.974f9d50.7rcIGe5pmbsdyQmfRH4zvg</td>\n      <td>我也是</td>\n      <td>6/11/2020 21:21:00</td>\n      <td>NaN</td>\n      <td>NaN</td>\n      <td>tb.1.3e4107c4.Y2xtPv56TpaP4DukZnAApw</td>\n      <td>1.339095e+11</td>\n      <td>我也是。</td>\n    </tr>\n    <tr>\n      <th>188695</th>\n      <td>136222747260</td>\n      <td>NaN</td>\n      <td>梓潼YL</td>\n      <td>tb.1.4a0c059d.6AkNxsRUiWitsRvMGoF2rg</td>\n      <td>回复 恩腻 :这样子啊，我也没吃过，所以不是很懂，看那些楼主说的</td>\n      <td>6/11/2020 21:28:00</td>\n      <td>NaN</td>\n      <td>NaN</td>\n      <td>tb.1.45216762.UCtTFDJSMr2JGrJ6m6F88A</td>\n      <td>1.361468e+11</td>\n      <td>这样子啊。我也没吃过。所以不是很懂。看那些楼主说的。</td>\n    </tr>\n    <tr>\n      <th>188696</th>\n      <td>136222860593</td>\n      <td>NaN</td>\n      <td>灵梦幽音</td>\n      <td>tb.1.b96834de.KyQWGelEhicRk3vr7lMr-g</td>\n      <td>什么问题</td>\n      <td>6/11/2020 21:34:00</td>\n      <td>NaN</td>\n      <td>NaN</td>\n      <td>tb.1.3fbec83.zjhOCUyn7QnQJG6rvLWXbg</td>\n      <td>1.362208e+11</td>\n      <td>什么问题。</td>\n    </tr>\n    <tr>\n      <th>188697</th>\n      <td>136222887130</td>\n      <td>NaN</td>\n      <td>梓潼YL</td>\n      <td>tb.1.4a0c059d.6AkNxsRUiWitsRvMGoF2rg</td>\n      <td>回复 柏沼- :是很讨厌，可是我知道她也就是说说，她嫁的挺好的，广州市区有房有车，两个儿子也...</td>\n      <td>6/11/2020 21:35:00</td>\n      <td>NaN</td>\n      <td>NaN</td>\n      <td>tb.1.b485d16a.kLyCNYv6r8scxSDm_Gjg0w</td>\n      <td>1.361521e+11</td>\n      <td>是很讨厌。可是我知道她也就是说说。她嫁的挺好的。广州市区有房有车。两个儿子也有房有车的。平常...</td>\n    </tr>\n    <tr>\n      <th>188698</th>\n      <td>136223156116</td>\n      <td>NaN</td>\n      <td>阿塔玛xo</td>\n      <td>tb.1.d8f76ffb.70IxVlL4y4ej32RlTRt7_Q</td>\n      <td>如你所愿一切都会好起来的</td>\n      <td>6/11/2020 21:48:00</td>\n      <td>NaN</td>\n      <td>NaN</td>\n      <td>tb.1.a24ab04d.izXFEcC75ZUdWm9Z-LHbKA</td>\n      <td>1.362035e+11</td>\n      <td>如你所愿一切都会好起来的。</td>\n    </tr>\n    <tr>\n      <th>188699</th>\n      <td>136223165980</td>\n      <td>NaN</td>\n      <td>转角-轮回</td>\n      <td>tb.1.be8ed4f2.0lX_E0t09rZSxj0QDQO7ew</td>\n      <td>就是三甲呀</td>\n      <td>6/11/2020 21:49:00</td>\n      <td>NaN</td>\n      <td>NaN</td>\n      <td>tb.1.69dfc9f2.88qj1pOJGToBad6eM-QPLA</td>\n      <td>1.362222e+11</td>\n      <td>就是三甲呀。</td>\n    </tr>\n    <tr>\n      <th>188700</th>\n      <td>136223189153</td>\n      <td>NaN</td>\n      <td>写诗Zz</td>\n      <td>tb.1.af1b141a.ZFf_QoqS2kVCXFRhthpunw</td>\n      <td>？？？？啥意思 抑郁她都自己查出来了</td>\n      <td>6/11/2020 21:50:00</td>\n      <td>NaN</td>\n      <td>NaN</td>\n      <td>tb.1.f82b59fc.2plhwdYxHBoYzv3aZqhpJQ</td>\n      <td>1.362232e+11</td>\n      <td>。啥意思。抑郁她都自己查出来了。</td>\n    </tr>\n    <tr>\n      <th>188701</th>\n      <td>136223328814</td>\n      <td>NaN</td>\n      <td>君迷茫:male_sign:</td>\n      <td>tb.1.f10e57fa.b2KpcEl1_n3oePCJzuIaXQ</td>\n      <td>加油啊姑娘，说说我自己吧，我身体有病，每天都要吃药才能控制病情，最近又检查出有高血压，现在吃...</td>\n      <td>6/11/2020 21:57:00</td>\n      <td>NaN</td>\n      <td>NaN</td>\n      <td>tb.1.ba0d82e.Xrbee9hSdN7gi7XQDaZ6aA</td>\n      <td>1.361939e+11</td>\n      <td>加油啊姑娘。说说我自己吧。我身体有病。每天都要吃药才能控制病情。最近又检查出有高血压。现在吃...</td>\n    </tr>\n    <tr>\n      <th>188702</th>\n      <td>136223334940</td>\n      <td>NaN</td>\n      <td>rong810715</td>\n      <td>tb.1.1c960f55.aGhKAR-v0faZucejngiXzg</td>\n      <td>越说越离谱 抑郁我承认 只是不知道有没有这么严重 精分狂躁症有点过了吧</td>\n      <td>6/11/2020 21:57:00</td>\n      <td>NaN</td>\n      <td>NaN</td>\n      <td>tb.1.69dfc9f2.88qj1pOJGToBad6eM-QPLA</td>\n      <td>1.362220e+11</td>\n      <td>越说越离谱。抑郁我承认。只是不知道有没有这么严重。精分狂躁症有点过了吧。</td>\n    </tr>\n    <tr>\n      <th>188703</th>\n      <td>136223420848</td>\n      <td>NaN</td>\n      <td>生活需要情趣</td>\n      <td>tb.1.7c903dbb.lHEKrorkWAKLp4OCrEMVFA</td>\n      <td>回复 ◎南无阿弥陀佛 :我想醒</td>\n      <td>6/11/2020 22:01:00</td>\n      <td>NaN</td>\n      <td>NaN</td>\n      <td>tb.1.e8bf144e.CPEG0-Rcoemsmjg5e0MLGw</td>\n      <td>1.361898e+11</td>\n      <td>我想醒。</td>\n    </tr>\n    <tr>\n      <th>188704</th>\n      <td>136223462917</td>\n      <td>NaN</td>\n      <td>贴吧用户_7tX6a64</td>\n      <td>tb.1.16639f46.D6ai1GLFE2lKEJzXbKeEOw</td>\n      <td>我已经突然停药了，然后现在已经晕了3天了，该怎么办？几天会正常</td>\n      <td>6/11/2020 22:03:00</td>\n      <td>NaN</td>\n      <td>NaN</td>\n      <td>tb.1.899b0683.Pjx-cX-cDCmFNhNioH7J_Q</td>\n      <td>1.270149e+11</td>\n      <td>我已经突然停药了。然后现在已经晕了天了。该怎么办。几天会正常。</td>\n    </tr>\n    <tr>\n      <th>188705</th>\n      <td>136223478694</td>\n      <td>NaN</td>\n      <td>生活需要情趣</td>\n      <td>tb.1.7c903dbb.lHEKrorkWAKLp4OCrEMVFA</td>\n      <td>回复 我是一只猫 :头晕与抑郁症的关系，你是什么症状就搜什么，根据视频中说的，与自己对比，好...</td>\n      <td>6/11/2020 22:04:00</td>\n      <td>NaN</td>\n      <td>NaN</td>\n      <td>tb.1.9a1232e.QoX7QK8Q51mmtHyVwmYzWQ</td>\n      <td>1.361254e+11</td>\n      <td>头晕与抑郁症的关系。你是什么症状就搜什么。根据视频中说的。与自己对比。好多都有答案的。</td>\n    </tr>\n    <tr>\n      <th>188706</th>\n      <td>136223503011</td>\n      <td>NaN</td>\n      <td>雨中浪子</td>\n      <td>tb.1.f82b59fc.2plhwdYxHBoYzv3aZqhpJQ</td>\n      <td>回复 写诗Zz :那你还有必要说？</td>\n      <td>6/11/2020 22:05:00</td>\n      <td>NaN</td>\n      <td>NaN</td>\n      <td>tb.1.af1b141a.ZFf_QoqS2kVCXFRhthpunw</td>\n      <td>1.362232e+11</td>\n      <td>那你还有必要说。</td>\n    </tr>\n    <tr>\n      <th>188707</th>\n      <td>136223512095</td>\n      <td>NaN</td>\n      <td>雨中浪子</td>\n      <td>tb.1.f82b59fc.2plhwdYxHBoYzv3aZqhpJQ</td>\n      <td>回复 写诗Zz :她都知道了。你们啥时候分手了？她是不是很快找了一个</td>\n      <td>6/11/2020 22:06:00</td>\n      <td>NaN</td>\n      <td>NaN</td>\n      <td>tb.1.af1b141a.ZFf_QoqS2kVCXFRhthpunw</td>\n      <td>1.362232e+11</td>\n      <td>她都知道了。你们啥时候分手了。她是不是很快找了一个。</td>\n    </tr>\n  </tbody>\n</table>\n</div>"
     },
     "execution_count": 5,
     "metadata": {},
     "output_type": "execute_result"
    }
   ],
   "source": [
    "punc = punctuation + u',-.＋;′▽づ《》？！“”＂‘’@#￥%…&×（）�⊙o⊙―－——▋·〈〉↖→ω↗+【】{};；●，。&～、|\\s:：「」［］／ง•∀╯□╰づ'\n",
    "\n",
    "p1='\\d*'#数字\n",
    "p2=\"(http|ftp|https):\\/\\/[\\w\\-_]+(\\.[\\w\\-_]+)+([\\w\\-\\.,@?^=%&:/~\\+#]*[\\w\\-\\@?^=%&/~\\+#])?\"#链接\n",
    "p4=':.*?:'#表情\n",
    "p5=\"回复.* (:|：)\"#回复：\n",
    "p6 = r\"[{}]+\".format(punc)\n",
    "p7 = r'(。.?)(?=\\1)'\n",
    "\n",
    "content_new=[]\n",
    "for c in data['content']:\n",
    "    c = c+'。'\n",
    "    c=re.sub(p1,'',c).strip()\n",
    "    c=re.sub(p2,'',c)\n",
    "    c=re.sub(p4,'',c)\n",
    "    c=re.sub(p5,'',c)\n",
    "    c=re.sub(p6,'。',c).replace('。倾诉。','倾诉。')\n",
    "    c=c.replace('\\n','。').replace('\\r','')\n",
    "    if c !='':\n",
    "        c = SnowNLP(str(c))\n",
    "        c = re.sub(p7,'',c.han)#繁体字简化+去标点字简化+去标点\n",
    "    else:\n",
    "        c = None\n",
    "    content_new.append(c)\n",
    "\n",
    "data['content_new']=content_new\n",
    "data[-100:-80]"
   ],
   "metadata": {
    "collapsed": false,
    "pycharm": {
     "name": "#%%\n"
    }
   }
  },
  {
   "cell_type": "code",
   "execution_count": 6,
   "outputs": [
    {
     "data": {
      "text/plain": "(365737, 11)"
     },
     "execution_count": 6,
     "metadata": {},
     "output_type": "execute_result"
    }
   ],
   "source": [
    "data.replace(to_replace=r'^\\s*$',value=np.nan,regex=True,inplace=True)\n",
    "data.dropna(subset=['content_new'],inplace=True)\n",
    "data.shape"
   ],
   "metadata": {
    "collapsed": false,
    "pycharm": {
     "name": "#%%\n"
    }
   }
  },
  {
   "cell_type": "code",
   "execution_count": 7,
   "outputs": [
    {
     "name": "stderr",
     "output_type": "stream",
     "text": [
      "Building prefix dict from the default dictionary ...\n",
      "Loading model from cache C:\\Users\\XG\\AppData\\Local\\Temp\\jieba.cache\n",
      "Loading model cost 0.479 seconds.\n",
      "Prefix dict has been built successfully.\n"
     ]
    },
    {
     "name": "stdout",
     "output_type": "stream",
     "text": [
      "10000 2.7342051802251346\n",
      "20000 5.468410360450269\n",
      "30000 8.202615540675403\n",
      "40000 10.936820720900538\n",
      "50000 13.671025901125672\n",
      "60000 16.405231081350806\n",
      "70000 19.13943626157594\n",
      "80000 21.873641441801077\n",
      "90000 24.607846622026212\n",
      "100000 27.342051802251344\n",
      "110000 30.07625698247648\n",
      "120000 32.81046216270161\n",
      "130000 35.54466734292675\n",
      "140000 38.27887252315188\n",
      "150000 41.013077703377014\n",
      "160000 43.74728288360215\n",
      "170000 46.481488063827285\n",
      "180000 49.215693244052424\n",
      "190000 51.94989842427755\n",
      "200000 54.68410360450269\n",
      "210000 57.41830878472782\n",
      "220000 60.15251396495296\n",
      "230000 62.88671914517809\n",
      "240000 65.62092432540322\n",
      "250000 68.35512950562837\n",
      "260000 71.0893346858535\n",
      "270000 73.82353986607863\n",
      "280000 76.55774504630376\n",
      "290000 79.2919502265289\n",
      "300000 82.02615540675403\n",
      "310000 84.76036058697916\n",
      "320000 87.4945657672043\n",
      "330000 90.22877094742944\n",
      "340000 92.96297612765457\n",
      "350000 95.6971813078797\n",
      "360000 98.43138648810485\n"
     ]
    }
   ],
   "source": [
    "import jieba\n",
    "\n",
    "#分词\n",
    "fenci_list=[]\n",
    "i=0\n",
    "#加载自定义字典，可以不加载，注销即可\n",
    "# jieba.load_userdict(\"../data/keywords.txt\")\n",
    "\n",
    "for line in data['content_new']:\n",
    "    list_a=jieba.cut(line)\n",
    "    fenci_list.append(list(list_a))\n",
    "    i+=1\n",
    "    #标注进度\n",
    "    if i%10000==0:\n",
    "        print(i,(i/len(data['content_new']))*100)"
   ],
   "metadata": {
    "collapsed": false,
    "pycharm": {
     "name": "#%%\n"
    }
   }
  },
  {
   "cell_type": "code",
   "execution_count": 8,
   "outputs": [],
   "source": [
    "def stopwordslist():\n",
    "    stopwords = [line.strip() for line in open('哈工大停用词表.txt',encoding='UTF-8').readlines()]\n",
    "    return stopwords\n",
    "\n",
    "def is_number(s):\n",
    "    try:\n",
    "        float(s)\n",
    "        return True\n",
    "    except ValueError:\n",
    "        pass\n",
    "    try:\n",
    "        import unicodedata\n",
    "        unicodedata.numeric(s)\n",
    "        return True\n",
    "    except (TypeError, ValueError):\n",
    "        pass\n",
    "    return False\n",
    "\n",
    "def move_stopwords(sentence, stopwords_list):\n",
    "    # 去停用词\n",
    "    out_list = []\n",
    "    for word in sentence:\n",
    "        if word not in stopwords_list:\n",
    "            if is_number(word):\n",
    "                continue\n",
    "            if word != '\\t' and (10 > len(word) > 1):\n",
    "                out_list.append(word)\n",
    "    return out_list"
   ],
   "metadata": {
    "collapsed": false,
    "pycharm": {
     "name": "#%%\n"
    }
   }
  },
  {
   "cell_type": "code",
   "execution_count": 9,
   "outputs": [],
   "source": [
    "stopwords = stopwordslist()"
   ],
   "metadata": {
    "collapsed": false,
    "pycharm": {
     "name": "#%%\n"
    }
   }
  },
  {
   "cell_type": "code",
   "execution_count": 10,
   "outputs": [
    {
     "name": "stdout",
     "output_type": "stream",
     "text": [
      "10000 2.7342051802251346\n",
      "20000 5.468410360450269\n",
      "30000 8.202615540675403\n",
      "40000 10.936820720900538\n",
      "50000 13.671025901125672\n",
      "60000 16.405231081350806\n",
      "70000 19.13943626157594\n",
      "80000 21.873641441801077\n",
      "90000 24.607846622026212\n",
      "100000 27.342051802251344\n",
      "110000 30.07625698247648\n",
      "120000 32.81046216270161\n",
      "130000 35.54466734292675\n",
      "140000 38.27887252315188\n",
      "150000 41.013077703377014\n",
      "160000 43.74728288360215\n",
      "170000 46.481488063827285\n",
      "180000 49.215693244052424\n",
      "190000 51.94989842427755\n",
      "200000 54.68410360450269\n",
      "210000 57.41830878472782\n",
      "220000 60.15251396495296\n",
      "230000 62.88671914517809\n",
      "240000 65.62092432540322\n",
      "250000 68.35512950562837\n",
      "260000 71.0893346858535\n",
      "270000 73.82353986607863\n",
      "280000 76.55774504630376\n",
      "290000 79.2919502265289\n",
      "300000 82.02615540675403\n",
      "310000 84.76036058697916\n",
      "320000 87.4945657672043\n",
      "330000 90.22877094742944\n",
      "340000 92.96297612765457\n",
      "350000 95.6971813078797\n",
      "360000 98.43138648810485\n"
     ]
    }
   ],
   "source": [
    "move_sw=[]\n",
    "space_sw=[]\n",
    "i=0\n",
    "for sentence in fenci_list:\n",
    "    s = move_stopwords(sentence,stopwords)\n",
    "    move_sw.append(s)\n",
    "    space_sw.append(' '.join(s))\n",
    "    i+=1\n",
    "    if i%10000==0:\n",
    "        print(i,(i/len(fenci_list))*100)\n"
   ],
   "metadata": {
    "collapsed": false,
    "pycharm": {
     "name": "#%%\n"
    }
   }
  },
  {
   "cell_type": "code",
   "execution_count": 11,
   "outputs": [
    {
     "data": {
      "text/plain": "                  id  floor            author  \\\n188785  136240717114    NaN           死亡如风720   \n188786  136241745266    NaN           精神病人玩同花   \n188787  136241837142    NaN  水无痕:female_sign:   \n188788  136242076444    NaN              她她爱钱   \n188789  136244089389    NaN             女娲涂口红   \n\n                                    portrait  \\\n188785   tb.1.3200576.lqSrt1k0NkJOrnZKS0sc1A   \n188786  tb.1.a74346e7.WTGggSgczGJuhK0Nru2m1g   \n188787  tb.1.2b5d0890.eUHgAn63wgs06hBeAEqCng   \n188788  tb.1.66e80471.nm3s5B9fzKqV6Bxb1AuaOg   \n188789  tb.1.1e30e21c.ZDppgYNDpHxHGn-RgosaRQ   \n\n                                    content                time  comment_num  \\\n188785                          海明威用猎枪自杀的。。  7/11/2020 16:43:00          NaN   \n188786                     回复 沉睡森林的王子 :一般一般  7/11/2020 17:33:00          NaN   \n188787                       羡慕啊，我痛苦的怎么都睡不着  7/11/2020 17:38:00          NaN   \n188788  回复 小白菜 :她为什么那么注重我买衣服，又不是她的钱，她为什么还控制  7/11/2020 17:50:00          NaN   \n188789   回复 是糖糖大魔王:female_sign: :40毫克，也就是2粒  7/11/2020 19:30:00          NaN   \n\n        thread_id                               replied       post_id  \\\n188785        NaN  tb.1.c540d30c.ifucNyMnd9-vnrWAFfzp5A  1.216895e+11   \n188786        NaN  tb.1.9e148ba9.9YhQxce8TZLZUjJss_MRhw  1.280281e+11   \n188787        NaN   tb.1.f98ba34.EdhdUqbNgSiLiCRgTvXTYQ  1.129868e+11   \n188788        NaN  tb.1.57dcf974.cuFka5IMT6oxPZRP49l04Q  1.362189e+11   \n188789        NaN  tb.1.b387b5e1.htSjpEKRL6ysYbsoarK4yw  1.316592e+11   \n\n                         content_new   space_sw  \n188785                    海明威用猎枪自杀的。  海明威 猎枪 自杀  \n188786                         一般一般。             \n188787               羡慕啊。我痛苦的怎么都睡不着。  羡慕 痛苦 睡不着  \n188788  她为什么那么注重我买衣服。又不是她的钱。她为什么还控制。   注重 衣服 控制  \n188789                      毫克。也就是粒。         毫克  ",
      "text/html": "<div>\n<style scoped>\n    .dataframe tbody tr th:only-of-type {\n        vertical-align: middle;\n    }\n\n    .dataframe tbody tr th {\n        vertical-align: top;\n    }\n\n    .dataframe thead th {\n        text-align: right;\n    }\n</style>\n<table border=\"1\" class=\"dataframe\">\n  <thead>\n    <tr style=\"text-align: right;\">\n      <th></th>\n      <th>id</th>\n      <th>floor</th>\n      <th>author</th>\n      <th>portrait</th>\n      <th>content</th>\n      <th>time</th>\n      <th>comment_num</th>\n      <th>thread_id</th>\n      <th>replied</th>\n      <th>post_id</th>\n      <th>content_new</th>\n      <th>space_sw</th>\n    </tr>\n  </thead>\n  <tbody>\n    <tr>\n      <th>188785</th>\n      <td>136240717114</td>\n      <td>NaN</td>\n      <td>死亡如风720</td>\n      <td>tb.1.3200576.lqSrt1k0NkJOrnZKS0sc1A</td>\n      <td>海明威用猎枪自杀的。。</td>\n      <td>7/11/2020 16:43:00</td>\n      <td>NaN</td>\n      <td>NaN</td>\n      <td>tb.1.c540d30c.ifucNyMnd9-vnrWAFfzp5A</td>\n      <td>1.216895e+11</td>\n      <td>海明威用猎枪自杀的。</td>\n      <td>海明威 猎枪 自杀</td>\n    </tr>\n    <tr>\n      <th>188786</th>\n      <td>136241745266</td>\n      <td>NaN</td>\n      <td>精神病人玩同花</td>\n      <td>tb.1.a74346e7.WTGggSgczGJuhK0Nru2m1g</td>\n      <td>回复 沉睡森林的王子 :一般一般</td>\n      <td>7/11/2020 17:33:00</td>\n      <td>NaN</td>\n      <td>NaN</td>\n      <td>tb.1.9e148ba9.9YhQxce8TZLZUjJss_MRhw</td>\n      <td>1.280281e+11</td>\n      <td>一般一般。</td>\n      <td></td>\n    </tr>\n    <tr>\n      <th>188787</th>\n      <td>136241837142</td>\n      <td>NaN</td>\n      <td>水无痕:female_sign:</td>\n      <td>tb.1.2b5d0890.eUHgAn63wgs06hBeAEqCng</td>\n      <td>羡慕啊，我痛苦的怎么都睡不着</td>\n      <td>7/11/2020 17:38:00</td>\n      <td>NaN</td>\n      <td>NaN</td>\n      <td>tb.1.f98ba34.EdhdUqbNgSiLiCRgTvXTYQ</td>\n      <td>1.129868e+11</td>\n      <td>羡慕啊。我痛苦的怎么都睡不着。</td>\n      <td>羡慕 痛苦 睡不着</td>\n    </tr>\n    <tr>\n      <th>188788</th>\n      <td>136242076444</td>\n      <td>NaN</td>\n      <td>她她爱钱</td>\n      <td>tb.1.66e80471.nm3s5B9fzKqV6Bxb1AuaOg</td>\n      <td>回复 小白菜 :她为什么那么注重我买衣服，又不是她的钱，她为什么还控制</td>\n      <td>7/11/2020 17:50:00</td>\n      <td>NaN</td>\n      <td>NaN</td>\n      <td>tb.1.57dcf974.cuFka5IMT6oxPZRP49l04Q</td>\n      <td>1.362189e+11</td>\n      <td>她为什么那么注重我买衣服。又不是她的钱。她为什么还控制。</td>\n      <td>注重 衣服 控制</td>\n    </tr>\n    <tr>\n      <th>188789</th>\n      <td>136244089389</td>\n      <td>NaN</td>\n      <td>女娲涂口红</td>\n      <td>tb.1.1e30e21c.ZDppgYNDpHxHGn-RgosaRQ</td>\n      <td>回复 是糖糖大魔王:female_sign: :40毫克，也就是2粒</td>\n      <td>7/11/2020 19:30:00</td>\n      <td>NaN</td>\n      <td>NaN</td>\n      <td>tb.1.b387b5e1.htSjpEKRL6ysYbsoarK4yw</td>\n      <td>1.316592e+11</td>\n      <td>毫克。也就是粒。</td>\n      <td>毫克</td>\n    </tr>\n  </tbody>\n</table>\n</div>"
     },
     "execution_count": 11,
     "metadata": {},
     "output_type": "execute_result"
    }
   ],
   "source": [
    "data['space_sw'] = space_sw\n",
    "data[-5:]"
   ],
   "metadata": {
    "collapsed": false,
    "pycharm": {
     "name": "#%%\n"
    }
   }
  },
  {
   "cell_type": "code",
   "execution_count": 12,
   "outputs": [
    {
     "data": {
      "text/plain": "(249696, 12)"
     },
     "execution_count": 12,
     "metadata": {},
     "output_type": "execute_result"
    }
   ],
   "source": [
    "data.replace(to_replace=r'^\\s*$',value=np.nan,regex=True,inplace=True)\n",
    "data.dropna(subset=['space_sw'],inplace=True)\n",
    "\n",
    "long_list = []\n",
    "for r in data.iterrows():\n",
    "    row = r[1]\n",
    "    if len(row['space_sw'].split())>1:\n",
    "        long_list.append(row['id'])\n",
    "data = data[data['id'].isin(long_list)]\n",
    "data.shape"
   ],
   "metadata": {
    "collapsed": false,
    "pycharm": {
     "name": "#%%\n"
    }
   }
  },
  {
   "cell_type": "code",
   "execution_count": 13,
   "outputs": [],
   "source": [
    "user_sw = data.groupby('portrait')['space_sw'].apply(lambda x:x.str.cat(sep=' ')).reset_index()\n",
    "user_list = []\n",
    "for r in user_sw.iterrows():\n",
    "    row = r[1]\n",
    "    if len(row['space_sw'].split())>2:\n",
    "        user_list.append(row['portrait'])"
   ],
   "metadata": {
    "collapsed": false,
    "pycharm": {
     "name": "#%%删除聚合后总发帖长度小于4的用户\n"
    }
   }
  },
  {
   "cell_type": "code",
   "execution_count": 14,
   "outputs": [
    {
     "data": {
      "text/plain": "(245081, 12)"
     },
     "execution_count": 14,
     "metadata": {},
     "output_type": "execute_result"
    }
   ],
   "source": [
    "data = data[data['portrait'].isin(user_list)]\n",
    "data.shape"
   ],
   "metadata": {
    "collapsed": false,
    "pycharm": {
     "name": "#%%\n"
    }
   }
  },
  {
   "cell_type": "code",
   "execution_count": 15,
   "outputs": [],
   "source": [
    "data.to_csv('data/depression_data.csv',encoding=\"utf_8_sig\",index=False)"
   ],
   "metadata": {
    "collapsed": false,
    "pycharm": {
     "name": "#%%清洗后的所有数据\n"
    }
   }
  },
  {
   "cell_type": "code",
   "execution_count": 16,
   "outputs": [],
   "source": [
    "# all_user_sw = data.groupby('portrait')['space_sw'].apply(lambda x:x.str.cat(sep=' ')).reset_index()\n",
    "# all_user_sw.to_csv('data/user_sw.csv',encoding='utf-8-sig',index=False)"
   ],
   "metadata": {
    "collapsed": false,
    "pycharm": {
     "name": "#%%\n"
    }
   }
  },
  {
   "cell_type": "code",
   "execution_count": 17,
   "outputs": [],
   "source": [
    "users =  data['portrait'].drop_duplicates().sample(n=400,random_state=123)"
   ],
   "metadata": {
    "collapsed": false,
    "pycharm": {
     "name": "#%%\n"
    }
   }
  },
  {
   "cell_type": "code",
   "execution_count": 18,
   "outputs": [
    {
     "data": {
      "text/plain": "(2601, 12)"
     },
     "execution_count": 18,
     "metadata": {},
     "output_type": "execute_result"
    }
   ],
   "source": [
    "data_sample = data[data['portrait'].isin(users)]\n",
    "data_sample.loc[:,['portrait','content_new']].to_csv('data/user_content400_46.csv',encoding='utf-8-sig',index=False)\n",
    "data_sample.shape"
   ],
   "metadata": {
    "collapsed": false,
    "pycharm": {
     "name": "#%%用户-发帖，用于情感分析\n"
    }
   }
  },
  {
   "cell_type": "code",
   "execution_count": 19,
   "outputs": [],
   "source": [
    "user_sw = data_sample.groupby('portrait')['space_sw'].apply(lambda x:x.str.cat(sep=' ')).reset_index()\n",
    "user_sw.to_csv('data/user_sw400_46.csv',encoding='utf-8-sig',index=False)\n",
    "\n"
   ],
   "metadata": {
    "collapsed": false,
    "pycharm": {
     "name": "#%%用户-用户发布的所有内容，用于主题建模\n"
    }
   }
  },
  {
   "cell_type": "code",
   "execution_count": 20,
   "outputs": [
    {
     "name": "stdout",
     "output_type": "stream",
     "text": [
      "all threads 13064\n",
      "threads+post (129723, 12)\n"
     ]
    }
   ],
   "source": [
    "post = data.dropna(subset=['thread_id'])\n",
    "all_threads_set = set(post['thread_id'])\n",
    "print('all threads',len(all_threads_set))\n",
    "print('threads+post',post.shape)"
   ],
   "metadata": {
    "collapsed": false,
    "pycharm": {
     "name": "#%%按照thread进行聚合\n"
    }
   }
  },
  {
   "cell_type": "code",
   "execution_count": 21,
   "outputs": [
    {
     "name": "stdout",
     "output_type": "stream",
     "text": [
      "his_thread_set 723\n",
      "post_sample (1375, 12)\n"
     ]
    }
   ],
   "source": [
    "post_sample = data_sample.dropna(subset=['thread_id'])\n",
    "his_thread_set = set(post_sample['thread_id'])\n",
    "print('his_thread_set',len(his_thread_set))\n",
    "print('post_sample',post_sample.shape)"
   ],
   "metadata": {
    "collapsed": false,
    "pycharm": {
     "name": "#%%\n"
    }
   }
  },
  {
   "cell_type": "code",
   "execution_count": 22,
   "outputs": [
    {
     "name": "stdout",
     "output_type": "stream",
     "text": [
      "new_threads_set 1277\n"
     ]
    },
    {
     "name": "stderr",
     "output_type": "stream",
     "text": [
      "<ipython-input-22-bfe539881ad4>:3: DeprecationWarning: Sampling from a set deprecated\n",
      "since Python 3.9 and will be removed in a subsequent version.\n",
      "  new_threads_set = random.sample(all_threads_set.difference(his_thread_set) , 2000-len(his_thread_set))\n"
     ]
    }
   ],
   "source": [
    "import random\n",
    "\n",
    "new_threads_set = random.sample(all_threads_set.difference(his_thread_set) , 2000-len(his_thread_set))\n",
    "print('new_threads_set',len(new_threads_set))"
   ],
   "metadata": {
    "collapsed": false,
    "pycharm": {
     "name": "#%%\n"
    }
   }
  },
  {
   "cell_type": "code",
   "execution_count": 23,
   "outputs": [
    {
     "name": "stdout",
     "output_type": "stream",
     "text": [
      "threads_sample 2000\n"
     ]
    }
   ],
   "source": [
    "threads_sample = his_thread_set.union(new_threads_set)\n",
    "print('threads_sample',len(threads_sample))"
   ],
   "metadata": {
    "collapsed": false,
    "pycharm": {
     "name": "#%%\n"
    }
   }
  },
  {
   "cell_type": "code",
   "execution_count": 24,
   "outputs": [],
   "source": [
    "threads = post[post['thread_id'].isin(threads_sample)]"
   ],
   "metadata": {
    "collapsed": false,
    "pycharm": {
     "name": "#%%\n"
    }
   }
  },
  {
   "cell_type": "code",
   "execution_count": 25,
   "outputs": [],
   "source": [
    "threads_df = threads.groupby('thread_id')['content_new'].apply(lambda x:x.str.cat(sep=' ')).reset_index()\n",
    "threads_sw = threads.groupby('thread_id')['space_sw'].apply(lambda x:x.str.cat(sep=' ')).reset_index()"
   ],
   "metadata": {
    "collapsed": false,
    "pycharm": {
     "name": "#%%\n"
    }
   }
  },
  {
   "cell_type": "code",
   "execution_count": 26,
   "outputs": [],
   "source": [
    "threads_sw.to_csv('data/thread_sw2000_46.csv',encoding='utf-8-sig',index=False)\n",
    "threads_df.to_csv('data/thread_content2000_46.csv',encoding='utf-8-sig',index=False)"
   ],
   "metadata": {
    "collapsed": false,
    "pycharm": {
     "name": "#%%\n"
    }
   }
  },
  {
   "cell_type": "code",
   "execution_count": 27,
   "outputs": [
    {
     "name": "stdout",
     "output_type": "stream",
     "text": [
      "threads 13064\n",
      "posts 128446\n",
      "comment 115358\n",
      "users 35234\n",
      "threads_sample 1277\n",
      "history_threads 723\n"
     ]
    }
   ],
   "source": [
    "print('threads',len(all_threads_set))\n",
    "print('posts',len(post['thread_id'])-len(new_threads_set))\n",
    "print('comment',len(data['id'])-len(post['thread_id']))\n",
    "print('users',len(user_list))\n",
    "print('threads_sample',len(new_threads_set))\n",
    "print('history_threads',len(his_thread_set))"
   ],
   "metadata": {
    "collapsed": false,
    "pycharm": {
     "name": "#%%\n"
    }
   }
  },
  {
   "cell_type": "code",
   "execution_count": null,
   "outputs": [],
   "source": [
    "# a = pd.read_csv('data/user_content_emotion.csv',encoding='utf-8')\n",
    "# a.loc[:,['portrait','content_new','sentiment']].to_csv('data/user_emotion.csv',encoding='utf-8-sig',index=False)"
   ],
   "metadata": {
    "collapsed": false,
    "pycharm": {
     "name": "#%%\n"
    }
   }
  },
  {
   "cell_type": "code",
   "execution_count": 22,
   "outputs": [],
   "source": [
    "# thread_emotion = pd.read_csv('data/thread_wenxin.csv',encoding='utf-8-sig')"
   ],
   "metadata": {
    "collapsed": false,
    "pycharm": {
     "name": "#%%\n"
    }
   }
  },
  {
   "cell_type": "code",
   "execution_count": 23,
   "outputs": [],
   "source": [
    "# threads_df['PosEmo'] = thread_emotion['PosEmo']\n",
    "# threads_df['NegEmo'] = thread_emotion['NegEmo']"
   ],
   "metadata": {
    "collapsed": false,
    "pycharm": {
     "name": "#%%\n"
    }
   }
  },
  {
   "cell_type": "code",
   "execution_count": 24,
   "outputs": [],
   "source": [
    "# threads_df.to_csv('data/thread_wenxin.csv',encoding='utf-8-sig',index=False)\n"
   ],
   "metadata": {
    "collapsed": false,
    "pycharm": {
     "name": "#%%\n"
    }
   }
  },
  {
   "cell_type": "code",
   "execution_count": 1,
   "outputs": [],
   "source": [
    "import pandas as pd\n",
    "import time\n",
    "train_threads = pd.read_csv('data/thread_character2000.csv',encoding='utf-8')\n",
    "posts = pd.read_csv('data/post.csv',encoding='utf-8')"
   ],
   "metadata": {
    "collapsed": false,
    "pycharm": {
     "name": "#%%\n"
    }
   }
  },
  {
   "cell_type": "code",
   "execution_count": 2,
   "outputs": [],
   "source": [
    "posts['timestamp'] = posts['time'].apply(lambda x:time.mktime(time.strptime(x,\"%d/%m/%Y %H:%M:%S\")))"
   ],
   "metadata": {
    "collapsed": false,
    "pycharm": {
     "name": "#%%\n"
    }
   }
  },
  {
   "cell_type": "code",
   "execution_count": 3,
   "outputs": [],
   "source": [
    "timestamp = []\n",
    "for t in train_threads['thread_id']:\n",
    "    t_max = posts['timestamp'][posts['thread_id']==t].max()\n",
    "    timestamp.append(t_max)"
   ],
   "metadata": {
    "collapsed": false,
    "pycharm": {
     "name": "#%%\n"
    }
   }
  },
  {
   "cell_type": "code",
   "execution_count": 4,
   "outputs": [],
   "source": [
    "train_threads['timestamp_new'] = timestamp\n",
    "train_threads.to_csv('data/thread_character2000.csv',encoding='utf-8-sig',index=False)\n"
   ],
   "metadata": {
    "collapsed": false,
    "pycharm": {
     "name": "#%%\n"
    }
   }
  },
  {
   "cell_type": "code",
   "execution_count": null,
   "outputs": [],
   "source": [],
   "metadata": {
    "collapsed": false,
    "pycharm": {
     "name": "#%%\n"
    }
   }
  }
 ],
 "metadata": {
  "kernelspec": {
   "display_name": "Python 3",
   "language": "python",
   "name": "python3"
  },
  "language_info": {
   "codemirror_mode": {
    "name": "ipython",
    "version": 2
   },
   "file_extension": ".py",
   "mimetype": "text/x-python",
   "name": "python",
   "nbconvert_exporter": "python",
   "pygments_lexer": "ipython2",
   "version": "2.7.6"
  }
 },
 "nbformat": 4,
 "nbformat_minor": 0
}