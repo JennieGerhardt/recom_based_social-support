{
 "cells": [
  {
   "cell_type": "code",
   "execution_count": 1,
   "metadata": {
    "collapsed": true
   },
   "outputs": [],
   "source": [
    "import numpy as np\n",
    "import matplotlib.pyplot as plt\n",
    "from mpl_toolkits.mplot3d import Axes3D\n",
    "import pandas as pd"
   ]
  },
  {
   "cell_type": "code",
   "execution_count": 2,
   "outputs": [],
   "source": [
    "thread_char = pd.read_csv('../data/thread_character2000.csv',encoding='utf-8')\n"
   ],
   "metadata": {
    "collapsed": false,
    "pycharm": {
     "name": "#%%\n"
    }
   }
  },
  {
   "cell_type": "code",
   "execution_count": 3,
   "outputs": [],
   "source": [
    "data = np.array(thread_char['sentiment']).reshape(-1, 1)\n",
    "# for r in user_char.iterrows():\n",
    "#     row = r[1]\n",
    "#     d = [row['neg'],row['pos']]\n",
    "#     data.append(d)"
   ],
   "metadata": {
    "collapsed": false,
    "pycharm": {
     "name": "#%%\n"
    }
   }
  },
  {
   "cell_type": "code",
   "execution_count": 4,
   "outputs": [],
   "source": [
    "from sklearn.cluster import KMeans\n",
    "import numpy as np\n",
    "\n",
    "model = KMeans(n_clusters=3)\n",
    "model.fit(data)\n",
    "# 分类中心点坐标\n",
    "centers = model.cluster_centers_\n",
    "# 预测结果\n",
    "result = model.predict(data)"
   ],
   "metadata": {
    "collapsed": false,
    "pycharm": {
     "name": "#%%\n"
    }
   }
  },
  {
   "cell_type": "code",
   "execution_count": 6,
   "outputs": [
    {
     "name": "stdout",
     "output_type": "stream",
     "text": [
      "clu_result\n",
      "0    0.004442\n",
      "1   -0.169636\n",
      "2    0.222730\n",
      "Name: sentiment, dtype: float64\n"
     ]
    }
   ],
   "source": [
    "thread_char['clu_result'] = result\n",
    "sentiment_mean = thread_char.groupby('clu_result')['sentiment'].mean()\n",
    "print(sentiment_mean)"
   ],
   "metadata": {
    "collapsed": false,
    "pycharm": {
     "name": "#%%\n"
    }
   }
  },
  {
   "cell_type": "code",
   "execution_count": 7,
   "outputs": [],
   "source": [
    "thread_char.loc[thread_char['clu_result'] == 1,'clu_result'] = -1"
   ],
   "metadata": {
    "collapsed": false,
    "pycharm": {
     "name": "#%%\n"
    }
   }
  },
  {
   "cell_type": "code",
   "execution_count": 8,
   "outputs": [],
   "source": [
    "thread_char.loc[thread_char['clu_result'] == 2,'clu_result'] = 1"
   ],
   "metadata": {
    "collapsed": false,
    "pycharm": {
     "name": "#%%\n"
    }
   }
  },
  {
   "cell_type": "code",
   "execution_count": 9,
   "outputs": [
    {
     "data": {
      "text/plain": "      thread_id  sentiment                                              topic  \\\n0  6.868138e+08  -0.050000  (0.16898956399095352, 0.029981381422936028, 0....   \n1  7.266243e+08  -0.028986  (0.2322326619959942, 0.044607274191338496, 0.1...   \n2  7.305036e+08  -0.160000  (0.18630630209299476, 0.15930861700179608, 0.0...   \n3  9.008748e+08  -0.050000  (0.2315189573528051, 0.0013847677808659577, 0....   \n4  9.157761e+08  -0.017327  (0.06874931519761564, 0.1333018552918629, 0.00...   \n5  9.230414e+08   0.134831  (0.281052167261216, 0.08767921800321728, 0.053...   \n6  1.233548e+09  -0.145000  (0.20981591489266888, 0.00290429451845226, 0.0...   \n7  1.239983e+09   0.200000  (0.5695579439297189, 0.00038485364639194897, 0...   \n8  1.526386e+09  -0.168519  (0.14733216552216066, 0.04017410572248606, 0.0...   \n9  1.538466e+09   0.183333  (0.18851802053384778, 0.16645897009253105, 0.0...   \n\n   clu_result  \n0           0  \n1           0  \n2          -1  \n3           0  \n4           0  \n5           1  \n6          -1  \n7           1  \n8          -1  \n9           1  ",
      "text/html": "<div>\n<style scoped>\n    .dataframe tbody tr th:only-of-type {\n        vertical-align: middle;\n    }\n\n    .dataframe tbody tr th {\n        vertical-align: top;\n    }\n\n    .dataframe thead th {\n        text-align: right;\n    }\n</style>\n<table border=\"1\" class=\"dataframe\">\n  <thead>\n    <tr style=\"text-align: right;\">\n      <th></th>\n      <th>thread_id</th>\n      <th>sentiment</th>\n      <th>topic</th>\n      <th>clu_result</th>\n    </tr>\n  </thead>\n  <tbody>\n    <tr>\n      <th>0</th>\n      <td>6.868138e+08</td>\n      <td>-0.050000</td>\n      <td>(0.16898956399095352, 0.029981381422936028, 0....</td>\n      <td>0</td>\n    </tr>\n    <tr>\n      <th>1</th>\n      <td>7.266243e+08</td>\n      <td>-0.028986</td>\n      <td>(0.2322326619959942, 0.044607274191338496, 0.1...</td>\n      <td>0</td>\n    </tr>\n    <tr>\n      <th>2</th>\n      <td>7.305036e+08</td>\n      <td>-0.160000</td>\n      <td>(0.18630630209299476, 0.15930861700179608, 0.0...</td>\n      <td>-1</td>\n    </tr>\n    <tr>\n      <th>3</th>\n      <td>9.008748e+08</td>\n      <td>-0.050000</td>\n      <td>(0.2315189573528051, 0.0013847677808659577, 0....</td>\n      <td>0</td>\n    </tr>\n    <tr>\n      <th>4</th>\n      <td>9.157761e+08</td>\n      <td>-0.017327</td>\n      <td>(0.06874931519761564, 0.1333018552918629, 0.00...</td>\n      <td>0</td>\n    </tr>\n    <tr>\n      <th>5</th>\n      <td>9.230414e+08</td>\n      <td>0.134831</td>\n      <td>(0.281052167261216, 0.08767921800321728, 0.053...</td>\n      <td>1</td>\n    </tr>\n    <tr>\n      <th>6</th>\n      <td>1.233548e+09</td>\n      <td>-0.145000</td>\n      <td>(0.20981591489266888, 0.00290429451845226, 0.0...</td>\n      <td>-1</td>\n    </tr>\n    <tr>\n      <th>7</th>\n      <td>1.239983e+09</td>\n      <td>0.200000</td>\n      <td>(0.5695579439297189, 0.00038485364639194897, 0...</td>\n      <td>1</td>\n    </tr>\n    <tr>\n      <th>8</th>\n      <td>1.526386e+09</td>\n      <td>-0.168519</td>\n      <td>(0.14733216552216066, 0.04017410572248606, 0.0...</td>\n      <td>-1</td>\n    </tr>\n    <tr>\n      <th>9</th>\n      <td>1.538466e+09</td>\n      <td>0.183333</td>\n      <td>(0.18851802053384778, 0.16645897009253105, 0.0...</td>\n      <td>1</td>\n    </tr>\n  </tbody>\n</table>\n</div>"
     },
     "execution_count": 9,
     "metadata": {},
     "output_type": "execute_result"
    }
   ],
   "source": [
    "thread_char[:10]"
   ],
   "metadata": {
    "collapsed": false,
    "pycharm": {
     "name": "#%%\n"
    }
   }
  },
  {
   "cell_type": "code",
   "execution_count": 10,
   "outputs": [],
   "source": [
    "thread_char.to_csv('../data/thread_character2000.csv',encoding='utf-8',index=False)"
   ],
   "metadata": {
    "collapsed": false,
    "pycharm": {
     "name": "#%%\n"
    }
   }
  },
  {
   "cell_type": "code",
   "execution_count": 15,
   "outputs": [
    {
     "data": {
      "text/plain": "<Figure size 432x288 with 1 Axes>",
      "image/png": "[encoded data removed]"
     },
     "metadata": {
      "needs_background": "light"
     },
     "output_type": "display_data"
    }
   ],
   "source": [
    "df = pd.DataFrame()\n",
    "df['sentiment'] = thread_char['sentiment']\n",
    "df['clu_result'] = thread_char['clu_result']\n",
    "df.loc[df['clu_result'] == 1,'clu_result'] = 'positive'\n",
    "df.loc[df['clu_result'] == 0,'clu_result'] = 'neural'\n",
    "df.loc[df['clu_result'] == -1,'clu_result'] = 'negative'\n",
    "boxplot=df.boxplot(by='clu_result')"
   ],
   "metadata": {
    "collapsed": false,
    "pycharm": {
     "name": "#%%\n"
    }
   }
  },
  {
   "cell_type": "code",
   "execution_count": 16,
   "outputs": [
    {
     "data": {
      "text/plain": "           sentiment                                                    \\\n               count      mean       std       min       25%       50%   \nclu_result                                                               \nnegative       613.0 -0.169636  0.090955 -0.800000 -0.194444 -0.144444   \nneural        1069.0  0.004442  0.053266 -0.081967 -0.040217  0.000000   \npositive       318.0  0.222730  0.105504  0.114159  0.147570  0.191667   \n\n                                \n                 75%       max  \nclu_result                      \nnegative   -0.109211 -0.082192  \nneural      0.047619  0.113793  \npositive    0.262500  0.700000  ",
      "text/html": "<div>\n<style scoped>\n    .dataframe tbody tr th:only-of-type {\n        vertical-align: middle;\n    }\n\n    .dataframe tbody tr th {\n        vertical-align: top;\n    }\n\n    .dataframe thead tr th {\n        text-align: left;\n    }\n\n    .dataframe thead tr:last-of-type th {\n        text-align: right;\n    }\n</style>\n<table border=\"1\" class=\"dataframe\">\n  <thead>\n    <tr>\n      <th></th>\n      <th colspan=\"8\" halign=\"left\">sentiment</th>\n    </tr>\n    <tr>\n      <th></th>\n      <th>count</th>\n      <th>mean</th>\n      <th>std</th>\n      <th>min</th>\n      <th>25%</th>\n      <th>50%</th>\n      <th>75%</th>\n      <th>max</th>\n    </tr>\n    <tr>\n      <th>clu_result</th>\n      <th></th>\n      <th></th>\n      <th></th>\n      <th></th>\n      <th></th>\n      <th></th>\n      <th></th>\n      <th></th>\n    </tr>\n  </thead>\n  <tbody>\n    <tr>\n      <th>negative</th>\n      <td>613.0</td>\n      <td>-0.169636</td>\n      <td>0.090955</td>\n      <td>-0.800000</td>\n      <td>-0.194444</td>\n      <td>-0.144444</td>\n      <td>-0.109211</td>\n      <td>-0.082192</td>\n    </tr>\n    <tr>\n      <th>neural</th>\n      <td>1069.0</td>\n      <td>0.004442</td>\n      <td>0.053266</td>\n      <td>-0.081967</td>\n      <td>-0.040217</td>\n      <td>0.000000</td>\n      <td>0.047619</td>\n      <td>0.113793</td>\n    </tr>\n    <tr>\n      <th>positive</th>\n      <td>318.0</td>\n      <td>0.222730</td>\n      <td>0.105504</td>\n      <td>0.114159</td>\n      <td>0.147570</td>\n      <td>0.191667</td>\n      <td>0.262500</td>\n      <td>0.700000</td>\n    </tr>\n  </tbody>\n</table>\n</div>"
     },
     "execution_count": 16,
     "metadata": {},
     "output_type": "execute_result"
    }
   ],
   "source": [
    "df.groupby(by = 'clu_result').describe()\n"
   ],
   "metadata": {
    "collapsed": false,
    "pycharm": {
     "name": "#%%\n"
    }
   }
  },
  {
   "cell_type": "code",
   "execution_count": null,
   "outputs": [],
   "source": [],
   "metadata": {
    "collapsed": false,
    "pycharm": {
     "name": "#%%\n"
    }
   }
  }
 ],
 "metadata": {
  "kernelspec": {
   "display_name": "Python 3",
   "language": "python",
   "name": "python3"
  },
  "language_info": {
   "codemirror_mode": {
    "name": "ipython",
    "version": 2
   },
   "file_extension": ".py",
   "mimetype": "text/x-python",
   "name": "python",
   "nbconvert_exporter": "python",
   "pygments_lexer": "ipython2",
   "version": "2.7.6"
  }
 },
 "nbformat": 4,
 "nbformat_minor": 0
}