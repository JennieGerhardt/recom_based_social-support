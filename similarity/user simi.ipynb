{
 "cells": [
  {
   "cell_type": "code",
   "execution_count": 8,
   "metadata": {
    "collapsed": true
   },
   "outputs": [],
   "source": [
    "import pandas as pd\n",
    "\n",
    "# thread_char = pd.read_csv('../data/thread_character.csv',encoding='utf-8-sig')\n",
    "usr_char = pd.read_csv('../data/user_character400.csv',encoding='utf-8-sig')\n",
    "# usr_char = usr_char.sample(n=1000,random_state=1)\n",
    "# usr_char =usr_char.reset_index(drop=True)"
   ]
  },
  {
   "cell_type": "code",
   "execution_count": 9,
   "outputs": [],
   "source": [
    "def emotion_sim(px,py):\n",
    "    s1 = 0\n",
    "    sx = 0\n",
    "    sy = 0\n",
    "    for i in range(3):\n",
    "        s1 = s1+px[i]*py[i]\n",
    "        sx = sx+px[i]**2\n",
    "        sy = sy+py[i]**2\n",
    "    sx = sx**0.5\n",
    "    sy = sy**0.5\n",
    "    user_emotion_sim = s1/(sx*sy)\n",
    "    return float(user_emotion_sim)"
   ],
   "metadata": {
    "collapsed": false,
    "pycharm": {
     "name": "#%%用户情感相似度\n"
    }
   }
  },
  {
   "cell_type": "code",
   "execution_count": 10,
   "outputs": [],
   "source": [
    "def thread_emotion(px,py):\n",
    "    s1 = 0\n",
    "    for i in range(2):\n",
    "        s1 = s1 + (px[i]-py[i])**2\n",
    "    thread_emotion = s1**0.5\n",
    "    return float(thread_emotion)"
   ],
   "metadata": {
    "collapsed": false,
    "pycharm": {
     "name": "#%%\n"
    }
   }
  },
  {
   "cell_type": "code",
   "execution_count": 11,
   "outputs": [],
   "source": [
    "def topic_sim(kx,ky):\n",
    "    kx = [float(x) for x in kx]\n",
    "    ky = [float(y) for y in ky]\n",
    "    d = 0\n",
    "    for i in range(len(kx)):\n",
    "        d = d+(kx[i]-ky[i])**2\n",
    "    d = d**0.5\n",
    "    user_topic_sim = 1/(1+d)\n",
    "    return user_topic_sim"
   ],
   "metadata": {
    "collapsed": false,
    "pycharm": {
     "name": "#%%\n"
    }
   }
  },
  {
   "cell_type": "code",
   "execution_count": 12,
   "outputs": [
    {
     "name": "stdout",
     "output_type": "stream",
     "text": [
      "0 / 400\n"
     ]
    }
   ],
   "source": [
    "# edges = pd.DataFrame(columns=['source','target','weight'])\n",
    "length = len(usr_char['portrait']) #\n",
    "# a = 0.6\n",
    "e_min = 1\n",
    "e_max = 0\n",
    "t_min = 1\n",
    "t_max = 0\n",
    "File = open(\"../data/user_similarity_uns400.txt\",'a+')\n",
    "File.write('source,target,weight'+'\\n')\n",
    "for i in range(length):\n",
    "    if i%500 == 0:\n",
    "        print(i,'/',length)\n",
    "    px = [usr_char['neg'][i],usr_char['pos'][i],usr_char['neu'][i]]#\n",
    "    kx = usr_char['topic'][i].replace('(','').replace(')','').split(', ')\n",
    "    for j in range(length):\n",
    "        if i > j:\n",
    "            py = [usr_char['neg'][j],usr_char['pos'][j],usr_char['neu'][j]] #\n",
    "            ky = usr_char['topic'][j].replace('(','').replace(')','').split(', ')\n",
    "            e_sim = emotion_sim(px,py) # emotion_sim\n",
    "            t_sim = topic_sim(kx,ky)\n",
    "            # w = a*e_sim+(1-a)*t_sim\n",
    "            if e_sim< e_min:\n",
    "                e_min = e_sim\n",
    "            if e_sim> e_max:\n",
    "                e_max = e_sim\n",
    "            if t_sim< t_min:\n",
    "                t_min = t_sim\n",
    "            if t_sim> t_max:\n",
    "                t_max = t_sim\n",
    "            File.write(str(i)+','+str(j)+','+str(e_sim)+','+str(t_sim)+'\\n')\n",
    "            File.flush()\n",
    "        else:\n",
    "            break\n",
    "File.close()"
   ],
   "metadata": {
    "collapsed": false,
    "pycharm": {
     "name": "#%%\n"
    }
   }
  },
  {
   "cell_type": "code",
   "execution_count": 13,
   "outputs": [],
   "source": [
    "def normalize(max,min,x):\n",
    "    y = (x-min)/(max-min)\n",
    "    return y"
   ],
   "metadata": {
    "collapsed": false,
    "pycharm": {
     "name": "#%%\n"
    }
   }
  },
  {
   "cell_type": "code",
   "execution_count": 14,
   "outputs": [
    {
     "name": "stdout",
     "output_type": "stream",
     "text": [
      "source,target,weight\n",
      "\n",
      "\n",
      "source,target,weight\n",
      "\n",
      "\n",
      "source,target,weight\n",
      "\n",
      "\n",
      "source,target,weight\n",
      "\n",
      "\n"
     ]
    }
   ],
   "source": [
    "for a in {0.2,0.4,0.6,0.8}:\n",
    "    F2 = open(\"../data/user_similarity400_{}.txt\".format(a),'a+',encoding='utf-8')\n",
    "    F2.write('source,target,weight'+'\\n')\n",
    "    F2.flush()\n",
    "    F1 = open(\"../data/user_similarity_uns400.txt\",'r')\n",
    "    while 1:\n",
    "        line = F1.readline()\n",
    "        try:\n",
    "            i,j,e,t = line.split(',')\n",
    "            e_sim = normalize(e_max,e_min,float(e))\n",
    "            t_sim = normalize(t_max,t_min,float(t))\n",
    "            w =  a*e_sim+(1-a)*t_sim\n",
    "            F2.write(str(i)+','+str(j)+','+str(w)+'\\n')\n",
    "            F2.flush()\n",
    "        except:\n",
    "            print(line)\n",
    "            pass\n",
    "        if not line:\n",
    "            break\n",
    "    F1.close()\n",
    "    F2.close()"
   ],
   "metadata": {
    "collapsed": false,
    "pycharm": {
     "name": "#%%\n"
    }
   }
  },
  {
   "cell_type": "code",
   "execution_count": 10,
   "outputs": [],
   "source": [
    "# edges.to_csv('../data/user_similarity.csv',encoding='utf-8',index=False)"
   ],
   "metadata": {
    "collapsed": false,
    "pycharm": {
     "name": "#%%\n"
    }
   }
  },
  {
   "cell_type": "code",
   "execution_count": 5,
   "outputs": [],
   "source": [
    "# def inimatrix(matrix, dic, length):\n",
    "#     matrix[0][0] = '+'\n",
    "#     for i in range(1, length):\n",
    "#         matrix[0][i] = dic[i]\n",
    "#     for i in range(1, length):\n",
    "#         matrix[i][0] = dic[i]\n",
    "#     # pt(matrix)\n",
    "#     return matrix\n",
    "\n",
    "# def dic(keylist):\n",
    "#     keydic = {}\n",
    "#     pos = 0\n",
    "#     for i in keylist:\n",
    "#         pos = pos+1\n",
    "#         keydic[pos] = str(i)\n",
    "#     return keydic\n",
    "\n",
    "# length = len(usr_char['portrait']) # +1\n",
    "# user_similarity = [[0 for col in range(length)] for row in range(length)]\n",
    "\n",
    "# user_similarity = inimatrix(user_similarity,dic(usr_char['portrait']),length)\n",
    "\n",
    "# a = 0.6\n",
    "# min = 1\n",
    "# max = 0\n",
    "# for i in range(length): # 1,\n",
    "#     # r = i-1\n",
    "#     if i%1000 == 0:\n",
    "#         print(i,'/',length)\n",
    "#     px = [usr_char['neg'][i],usr_char['pos'][i],usr_char['neu'][i]]#\n",
    "#     kx = usr_char['topic'][i].replace('[','').replace(']','').split()\n",
    "#     for j in range(length): # 1,\n",
    "#         # z = j-1\n",
    "#         if i == j:\n",
    "#             user_similarity[i][j] = 1\n",
    "#         elif i < j:\n",
    "#             py = [usr_char['neg'][j],usr_char['pos'][j],usr_char['neu'][j]] #\n",
    "#             ky = usr_char['topic'][j].replace('[','').replace(']','').split()\n",
    "#             e_sim = emotion_sim(px,py) # emotion_sim\n",
    "#             t_sim = topic_sim(kx,ky)\n",
    "#             user_similarity[i][j] = a*e_sim+(1-a)*t_sim\n",
    "#             if user_similarity[i][j]< min:\n",
    "#                 min = user_similarity[i][j]\n",
    "#             if user_similarity[i][j]> max:\n",
    "#                 max = user_similarity[i][j]\n",
    "#         elif i > j:\n",
    "#             user_similarity[i][j] = user_similarity[j][i]"
   ],
   "metadata": {
    "collapsed": false,
    "pycharm": {
     "name": "#%%\n"
    }
   }
  },
  {
   "cell_type": "code",
   "execution_count": null,
   "outputs": [],
   "source": [
    "# import csv\n",
    "# #读取csv文件\n",
    "# user_similarity =[]\n",
    "# with open(\"../data/user_similarity_unstandize.csv\", \"r\",encoding='utf-8') as f:\n",
    "# \treader = csv.reader(f)\n",
    "# \tfor row in reader:\n",
    "# \t\tuser_similarity.append(row)"
   ],
   "metadata": {
    "collapsed": false,
    "pycharm": {
     "name": "#%%\n"
    }
   }
  },
  {
   "cell_type": "code",
   "execution_count": null,
   "outputs": [],
   "source": [
    "# import csv\n",
    "# with open('../data/user_similarity.csv','w',newline='',encoding='utf-8-sig') as myFile:\n",
    "#     myWriter = csv.writer(myFile)\n",
    "#     myWriter.writerows(user_similarity)\n",
    "#"
   ],
   "metadata": {
    "collapsed": false,
    "pycharm": {
     "name": "#%%\n"
    }
   }
  },
  {
   "cell_type": "code",
   "execution_count": null,
   "outputs": [],
   "source": [
    "# def convert_csv(matrix,path):\n",
    "#     i = 0\n",
    "#     df = pd.DataFrame(columns=['Source','Target','Weight'])\n",
    "#     for row in range(1, len(matrix)):\n",
    "#         if row%100==0:\n",
    "#             print(row)\n",
    "#         for col in range(1, len(matrix)):\n",
    "#             if col >= row:\n",
    "#                 if matrix[col][row] != '0':\n",
    "#                     df.loc[i] = [matrix[0][row],matrix[col][0],matrix[col][row]]\n",
    "#                     i += 1\n",
    "#     df.to_csv(path,index=False,encoding='utf-8-sig')"
   ],
   "metadata": {
    "collapsed": false,
    "pycharm": {
     "name": "#%%\n"
    }
   }
  },
  {
   "cell_type": "code",
   "execution_count": null,
   "outputs": [],
   "source": [
    "# convert_csv(user_similarity,\"../data/st_thread.csv\")"
   ],
   "metadata": {
    "collapsed": false,
    "pycharm": {
     "name": "#%%\n"
    }
   }
  },
  {
   "cell_type": "code",
   "execution_count": null,
   "outputs": [],
   "source": [
    "# import csv\n",
    "# #读取csv文件\n",
    "# user_similarity =[]\n",
    "# with open(\"../data/thread_similarity.csv\", \"r\",encoding='utf-8') as f:\n",
    "# \treader = csv.reader(f)\n",
    "# \tfor row in reader:\n",
    "# \t\tuser_similarity.append(row)"
   ],
   "metadata": {
    "collapsed": false,
    "pycharm": {
     "name": "#%%\n"
    }
   }
  },
  {
   "cell_type": "code",
   "execution_count": null,
   "outputs": [],
   "source": [],
   "metadata": {
    "collapsed": false,
    "pycharm": {
     "name": "#%%\n"
    }
   }
  }
 ],
 "metadata": {
  "kernelspec": {
   "display_name": "Python 3",
   "language": "python",
   "name": "python3"
  },
  "language_info": {
   "codemirror_mode": {
    "name": "ipython",
    "version": 2
   },
   "file_extension": ".py",
   "mimetype": "text/x-python",
   "name": "python",
   "nbconvert_exporter": "python",
   "pygments_lexer": "ipython2",
   "version": "2.7.6"
  }
 },
 "nbformat": 4,
 "nbformat_minor": 0
}