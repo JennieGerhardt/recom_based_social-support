{
 "cells": [
  {
   "cell_type": "code",
   "execution_count": 1,
   "metadata": {
    "collapsed": true
   },
   "outputs": [],
   "source": [
    "import numpy as np\n",
    "import matplotlib.pyplot as plt\n",
    "from mpl_toolkits.mplot3d import Axes3D\n",
    "import pandas as pd"
   ]
  },
  {
   "cell_type": "code",
   "execution_count": 2,
   "outputs": [],
   "source": [
    "user_char = pd.read_csv('../data/user_character400.csv',encoding='utf-8')\n"
   ],
   "metadata": {
    "collapsed": false,
    "pycharm": {
     "name": "#%%\n"
    }
   }
  },
  {
   "cell_type": "code",
   "execution_count": 3,
   "outputs": [],
   "source": [
    "data = []\n",
    "for r in user_char.iterrows():\n",
    "    row = r[1]\n",
    "    d = [row['neg'],row['pos'],row['neu']]\n",
    "    data.append(d)"
   ],
   "metadata": {
    "collapsed": false,
    "pycharm": {
     "name": "#%%\n"
    }
   }
  },
  {
   "cell_type": "code",
   "execution_count": 4,
   "outputs": [],
   "source": [
    "from sklearn.cluster import KMeans\n",
    "\n",
    "model = KMeans(n_clusters=3)\n",
    "model.fit(data)\n",
    "# 分类中心点坐标\n",
    "centers = model.cluster_centers_\n",
    "# 预测结果\n",
    "result = model.predict(data)"
   ],
   "metadata": {
    "collapsed": false,
    "pycharm": {
     "name": "#%%\n"
    }
   }
  },
  {
   "cell_type": "code",
   "execution_count": 5,
   "outputs": [
    {
     "name": "stdout",
     "output_type": "stream",
     "text": [
      "clu_result\n",
      "0    0.074559\n",
      "1    0.656767\n",
      "2    0.043663\n",
      "Name: neg, dtype: float64 clu_result\n",
      "0    0.063187\n",
      "1    0.102887\n",
      "2    0.766098\n",
      "Name: pos, dtype: float64 clu_result\n",
      "0    0.862253\n",
      "1    0.240346\n",
      "2    0.190239\n",
      "Name: neu, dtype: float64\n"
     ]
    }
   ],
   "source": [
    "user_char['clu_result'] = result\n",
    "neg_mean = user_char.groupby('clu_result')['neg'].mean()\n",
    "pos_mean = user_char.groupby('clu_result')['pos'].mean()\n",
    "neu_mean =user_char.groupby('clu_result')['neu'].mean()\n",
    "print(neg_mean,pos_mean,neu_mean)"
   ],
   "metadata": {
    "collapsed": false,
    "pycharm": {
     "name": "#%%\n"
    }
   }
  },
  {
   "cell_type": "code",
   "execution_count": 6,
   "outputs": [],
   "source": [
    "user_char.loc[user_char['clu_result'] == 1,'clu_result'] = -1"
   ],
   "metadata": {
    "collapsed": false,
    "pycharm": {
     "name": "#%%\n"
    }
   }
  },
  {
   "cell_type": "code",
   "execution_count": 7,
   "outputs": [],
   "source": [
    "user_char.loc[user_char['clu_result'] == 2,'clu_result'] = 1"
   ],
   "metadata": {
    "collapsed": false,
    "pycharm": {
     "name": "#%%\n"
    }
   }
  },
  {
   "cell_type": "code",
   "execution_count": 8,
   "outputs": [
    {
     "data": {
      "text/plain": "                               portrait       neg       pos       neu  total  \\\n0  tb.1.225b909b.j-KMbfnKUjVoksaJCqZZ6Q  0.181102  0.174803  0.644094    635   \n1  tb.1.6be57e9d.F2fkk-Cm6I8V4WL23ex56w  0.204861  0.243056  0.552083    288   \n2  tb.1.7ceb4216.7qz6hLqkUgbGmX0ceEld_A  0.431452  0.221774  0.346774    248   \n3  tb.1.b0e06cc0.PQvHYrNMVczY_jFEdgMHjQ  0.058559  0.621622  0.319820    222   \n4  tb.1.f072c039.gBSorBxdgO6l35A2ao3q9Q  0.281879  0.120805  0.597315    149   \n5  tb.1.33f04bd0.4hC4FbKVO9Vouc0rENIjGQ  0.312500  0.241071  0.446429    112   \n6  tb.1.851fc9b1.GqqIFUNwvKciulc-kvuEdA  0.265823  0.202532  0.531646     79   \n7  tb.1.e9b1be6b.owTpithgI6SFqUELz_xAdQ  0.200000  0.369231  0.430769     65   \n8  tb.1.b534e864.snS1QP8fx7_AY9A8e3q5oQ  0.517241  0.086207  0.396552     58   \n9  tb.1.e4d69428.0cGlHDk1Td9DD5-sLETF0w  0.396552  0.224138  0.379310     58   \n\n                                               topic  clu_result  \n0  (0.11721858689214, 0.06206196841289886, 0.0738...           0  \n1  (0.16886174041750357, 0.2992308412410692, 0.15...           0  \n2  (0.18161645154022316, 0.1089308643235764, 0.17...          -1  \n3  (0.008103267550440517, 0.018436867372107885, 0...           1  \n4  (0.15680010792931406, 0.15870686087200525, 0.1...           0  \n5  (0.0770397784845803, 0.16946891713617943, 0.15...          -1  \n6  (0.16984194680995135, 0.08634767455654445, 0.2...           0  \n7  (0.24648747897778683, 0.12158566591519424, 0.1...           1  \n8  (0.18800209279944424, 0.3038451395129657, 0.20...          -1  \n9  (0.11231961974928109, 0.2843751247366755, 0.20...          -1  ",
      "text/html": "<div>\n<style scoped>\n    .dataframe tbody tr th:only-of-type {\n        vertical-align: middle;\n    }\n\n    .dataframe tbody tr th {\n        vertical-align: top;\n    }\n\n    .dataframe thead th {\n        text-align: right;\n    }\n</style>\n<table border=\"1\" class=\"dataframe\">\n  <thead>\n    <tr style=\"text-align: right;\">\n      <th></th>\n      <th>portrait</th>\n      <th>neg</th>\n      <th>pos</th>\n      <th>neu</th>\n      <th>total</th>\n      <th>topic</th>\n      <th>clu_result</th>\n    </tr>\n  </thead>\n  <tbody>\n    <tr>\n      <th>0</th>\n      <td>tb.1.225b909b.j-KMbfnKUjVoksaJCqZZ6Q</td>\n      <td>0.181102</td>\n      <td>0.174803</td>\n      <td>0.644094</td>\n      <td>635</td>\n      <td>(0.11721858689214, 0.06206196841289886, 0.0738...</td>\n      <td>0</td>\n    </tr>\n    <tr>\n      <th>1</th>\n      <td>tb.1.6be57e9d.F2fkk-Cm6I8V4WL23ex56w</td>\n      <td>0.204861</td>\n      <td>0.243056</td>\n      <td>0.552083</td>\n      <td>288</td>\n      <td>(0.16886174041750357, 0.2992308412410692, 0.15...</td>\n      <td>0</td>\n    </tr>\n    <tr>\n      <th>2</th>\n      <td>tb.1.7ceb4216.7qz6hLqkUgbGmX0ceEld_A</td>\n      <td>0.431452</td>\n      <td>0.221774</td>\n      <td>0.346774</td>\n      <td>248</td>\n      <td>(0.18161645154022316, 0.1089308643235764, 0.17...</td>\n      <td>-1</td>\n    </tr>\n    <tr>\n      <th>3</th>\n      <td>tb.1.b0e06cc0.PQvHYrNMVczY_jFEdgMHjQ</td>\n      <td>0.058559</td>\n      <td>0.621622</td>\n      <td>0.319820</td>\n      <td>222</td>\n      <td>(0.008103267550440517, 0.018436867372107885, 0...</td>\n      <td>1</td>\n    </tr>\n    <tr>\n      <th>4</th>\n      <td>tb.1.f072c039.gBSorBxdgO6l35A2ao3q9Q</td>\n      <td>0.281879</td>\n      <td>0.120805</td>\n      <td>0.597315</td>\n      <td>149</td>\n      <td>(0.15680010792931406, 0.15870686087200525, 0.1...</td>\n      <td>0</td>\n    </tr>\n    <tr>\n      <th>5</th>\n      <td>tb.1.33f04bd0.4hC4FbKVO9Vouc0rENIjGQ</td>\n      <td>0.312500</td>\n      <td>0.241071</td>\n      <td>0.446429</td>\n      <td>112</td>\n      <td>(0.0770397784845803, 0.16946891713617943, 0.15...</td>\n      <td>-1</td>\n    </tr>\n    <tr>\n      <th>6</th>\n      <td>tb.1.851fc9b1.GqqIFUNwvKciulc-kvuEdA</td>\n      <td>0.265823</td>\n      <td>0.202532</td>\n      <td>0.531646</td>\n      <td>79</td>\n      <td>(0.16984194680995135, 0.08634767455654445, 0.2...</td>\n      <td>0</td>\n    </tr>\n    <tr>\n      <th>7</th>\n      <td>tb.1.e9b1be6b.owTpithgI6SFqUELz_xAdQ</td>\n      <td>0.200000</td>\n      <td>0.369231</td>\n      <td>0.430769</td>\n      <td>65</td>\n      <td>(0.24648747897778683, 0.12158566591519424, 0.1...</td>\n      <td>1</td>\n    </tr>\n    <tr>\n      <th>8</th>\n      <td>tb.1.b534e864.snS1QP8fx7_AY9A8e3q5oQ</td>\n      <td>0.517241</td>\n      <td>0.086207</td>\n      <td>0.396552</td>\n      <td>58</td>\n      <td>(0.18800209279944424, 0.3038451395129657, 0.20...</td>\n      <td>-1</td>\n    </tr>\n    <tr>\n      <th>9</th>\n      <td>tb.1.e4d69428.0cGlHDk1Td9DD5-sLETF0w</td>\n      <td>0.396552</td>\n      <td>0.224138</td>\n      <td>0.379310</td>\n      <td>58</td>\n      <td>(0.11231961974928109, 0.2843751247366755, 0.20...</td>\n      <td>-1</td>\n    </tr>\n  </tbody>\n</table>\n</div>"
     },
     "execution_count": 8,
     "metadata": {},
     "output_type": "execute_result"
    }
   ],
   "source": [
    "user_char[:10]"
   ],
   "metadata": {
    "collapsed": false,
    "pycharm": {
     "name": "#%%\n"
    }
   }
  },
  {
   "cell_type": "code",
   "execution_count": 9,
   "outputs": [],
   "source": [
    "user_char.to_csv('../data/user_character400.csv',encoding='utf-8',index=False)"
   ],
   "metadata": {
    "collapsed": false,
    "pycharm": {
     "name": "#%%\n"
    }
   }
  },
  {
   "cell_type": "code",
   "execution_count": 2,
   "outputs": [
    {
     "data": {
      "text/plain": "            count      mean       std       min  25%  50%       75%    max\nclu_result                                                                \n-1          141.0  0.656767  0.260587  0.264151  0.5  0.5  1.000000  1.000\n 0          169.0  0.074559  0.120155  0.000000  0.0  0.0  0.166667  0.400\n 1           90.0  0.043663  0.095806  0.000000  0.0  0.0  0.000000  0.375",
      "text/html": "<div>\n<style scoped>\n    .dataframe tbody tr th:only-of-type {\n        vertical-align: middle;\n    }\n\n    .dataframe tbody tr th {\n        vertical-align: top;\n    }\n\n    .dataframe thead th {\n        text-align: right;\n    }\n</style>\n<table border=\"1\" class=\"dataframe\">\n  <thead>\n    <tr style=\"text-align: right;\">\n      <th></th>\n      <th>count</th>\n      <th>mean</th>\n      <th>std</th>\n      <th>min</th>\n      <th>25%</th>\n      <th>50%</th>\n      <th>75%</th>\n      <th>max</th>\n    </tr>\n    <tr>\n      <th>clu_result</th>\n      <th></th>\n      <th></th>\n      <th></th>\n      <th></th>\n      <th></th>\n      <th></th>\n      <th></th>\n      <th></th>\n    </tr>\n  </thead>\n  <tbody>\n    <tr>\n      <th>-1</th>\n      <td>141.0</td>\n      <td>0.656767</td>\n      <td>0.260587</td>\n      <td>0.264151</td>\n      <td>0.5</td>\n      <td>0.5</td>\n      <td>1.000000</td>\n      <td>1.000</td>\n    </tr>\n    <tr>\n      <th>0</th>\n      <td>169.0</td>\n      <td>0.074559</td>\n      <td>0.120155</td>\n      <td>0.000000</td>\n      <td>0.0</td>\n      <td>0.0</td>\n      <td>0.166667</td>\n      <td>0.400</td>\n    </tr>\n    <tr>\n      <th>1</th>\n      <td>90.0</td>\n      <td>0.043663</td>\n      <td>0.095806</td>\n      <td>0.000000</td>\n      <td>0.0</td>\n      <td>0.0</td>\n      <td>0.000000</td>\n      <td>0.375</td>\n    </tr>\n  </tbody>\n</table>\n</div>"
     },
     "execution_count": 2,
     "metadata": {},
     "output_type": "execute_result"
    }
   ],
   "source": [
    "import pandas as pd\n",
    "df = pd.read_csv('../data/user_character400.csv',encoding='utf-8')\n",
    "df.groupby(by = 'clu_result')['neg'].describe()"
   ],
   "metadata": {
    "collapsed": false,
    "pycharm": {
     "name": "#%%\n"
    }
   }
  },
  {
   "cell_type": "code",
   "execution_count": 3,
   "outputs": [
    {
     "data": {
      "text/plain": "            count      mean       std       min  25%  50%       75%       max\nclu_result                                                                   \n-1          141.0  0.102887  0.160788  0.000000  0.0  0.0  0.200000  0.500000\n 0          169.0  0.063187  0.110386  0.000000  0.0  0.0  0.111111  0.352941\n 1           90.0  0.766098  0.248969  0.369231  0.5  1.0  1.000000  1.000000",
      "text/html": "<div>\n<style scoped>\n    .dataframe tbody tr th:only-of-type {\n        vertical-align: middle;\n    }\n\n    .dataframe tbody tr th {\n        vertical-align: top;\n    }\n\n    .dataframe thead th {\n        text-align: right;\n    }\n</style>\n<table border=\"1\" class=\"dataframe\">\n  <thead>\n    <tr style=\"text-align: right;\">\n      <th></th>\n      <th>count</th>\n      <th>mean</th>\n      <th>std</th>\n      <th>min</th>\n      <th>25%</th>\n      <th>50%</th>\n      <th>75%</th>\n      <th>max</th>\n    </tr>\n    <tr>\n      <th>clu_result</th>\n      <th></th>\n      <th></th>\n      <th></th>\n      <th></th>\n      <th></th>\n      <th></th>\n      <th></th>\n      <th></th>\n    </tr>\n  </thead>\n  <tbody>\n    <tr>\n      <th>-1</th>\n      <td>141.0</td>\n      <td>0.102887</td>\n      <td>0.160788</td>\n      <td>0.000000</td>\n      <td>0.0</td>\n      <td>0.0</td>\n      <td>0.200000</td>\n      <td>0.500000</td>\n    </tr>\n    <tr>\n      <th>0</th>\n      <td>169.0</td>\n      <td>0.063187</td>\n      <td>0.110386</td>\n      <td>0.000000</td>\n      <td>0.0</td>\n      <td>0.0</td>\n      <td>0.111111</td>\n      <td>0.352941</td>\n    </tr>\n    <tr>\n      <th>1</th>\n      <td>90.0</td>\n      <td>0.766098</td>\n      <td>0.248969</td>\n      <td>0.369231</td>\n      <td>0.5</td>\n      <td>1.0</td>\n      <td>1.000000</td>\n      <td>1.000000</td>\n    </tr>\n  </tbody>\n</table>\n</div>"
     },
     "execution_count": 3,
     "metadata": {},
     "output_type": "execute_result"
    }
   ],
   "source": [
    "df.groupby(by = 'clu_result')['pos'].describe()"
   ],
   "metadata": {
    "collapsed": false,
    "pycharm": {
     "name": "#%%\n"
    }
   }
  },
  {
   "cell_type": "code",
   "execution_count": 4,
   "outputs": [
    {
     "data": {
      "text/plain": "            count      mean       std       min       25%   50%       75%  \\\nclu_result                                                                  \n-1          141.0  0.240346  0.220662  0.000000  0.000000  0.28  0.500000   \n 0          169.0  0.862253  0.187694  0.469388  0.666667  1.00  1.000000   \n 1           90.0  0.190239  0.218143  0.000000  0.000000  0.00  0.428571   \n\n                 max  \nclu_result            \n-1          0.571429  \n 0          1.000000  \n 1          0.500000  ",
      "text/html": "<div>\n<style scoped>\n    .dataframe tbody tr th:only-of-type {\n        vertical-align: middle;\n    }\n\n    .dataframe tbody tr th {\n        vertical-align: top;\n    }\n\n    .dataframe thead th {\n        text-align: right;\n    }\n</style>\n<table border=\"1\" class=\"dataframe\">\n  <thead>\n    <tr style=\"text-align: right;\">\n      <th></th>\n      <th>count</th>\n      <th>mean</th>\n      <th>std</th>\n      <th>min</th>\n      <th>25%</th>\n      <th>50%</th>\n      <th>75%</th>\n      <th>max</th>\n    </tr>\n    <tr>\n      <th>clu_result</th>\n      <th></th>\n      <th></th>\n      <th></th>\n      <th></th>\n      <th></th>\n      <th></th>\n      <th></th>\n      <th></th>\n    </tr>\n  </thead>\n  <tbody>\n    <tr>\n      <th>-1</th>\n      <td>141.0</td>\n      <td>0.240346</td>\n      <td>0.220662</td>\n      <td>0.000000</td>\n      <td>0.000000</td>\n      <td>0.28</td>\n      <td>0.500000</td>\n      <td>0.571429</td>\n    </tr>\n    <tr>\n      <th>0</th>\n      <td>169.0</td>\n      <td>0.862253</td>\n      <td>0.187694</td>\n      <td>0.469388</td>\n      <td>0.666667</td>\n      <td>1.00</td>\n      <td>1.000000</td>\n      <td>1.000000</td>\n    </tr>\n    <tr>\n      <th>1</th>\n      <td>90.0</td>\n      <td>0.190239</td>\n      <td>0.218143</td>\n      <td>0.000000</td>\n      <td>0.000000</td>\n      <td>0.00</td>\n      <td>0.428571</td>\n      <td>0.500000</td>\n    </tr>\n  </tbody>\n</table>\n</div>"
     },
     "execution_count": 4,
     "metadata": {},
     "output_type": "execute_result"
    }
   ],
   "source": [
    "df.groupby(by = 'clu_result')['neu'].describe()"
   ],
   "metadata": {
    "collapsed": false,
    "pycharm": {
     "name": "#%%\n"
    }
   }
  },
  {
   "cell_type": "code",
   "execution_count": 5,
   "outputs": [
    {
     "data": {
      "text/plain": "            count       mean        std  min  25%  50%  75%    max\nclu_result                                                        \n-1          141.0   7.971631  24.198566  1.0  1.0  2.0  5.0  248.0\n 0          169.0  11.343195  54.862062  1.0  1.0  2.0  5.0  635.0\n 1           90.0   6.277778  24.400234  1.0  1.0  2.0  3.0  222.0",
      "text/html": "<div>\n<style scoped>\n    .dataframe tbody tr th:only-of-type {\n        vertical-align: middle;\n    }\n\n    .dataframe tbody tr th {\n        vertical-align: top;\n    }\n\n    .dataframe thead th {\n        text-align: right;\n    }\n</style>\n<table border=\"1\" class=\"dataframe\">\n  <thead>\n    <tr style=\"text-align: right;\">\n      <th></th>\n      <th>count</th>\n      <th>mean</th>\n      <th>std</th>\n      <th>min</th>\n      <th>25%</th>\n      <th>50%</th>\n      <th>75%</th>\n      <th>max</th>\n    </tr>\n    <tr>\n      <th>clu_result</th>\n      <th></th>\n      <th></th>\n      <th></th>\n      <th></th>\n      <th></th>\n      <th></th>\n      <th></th>\n      <th></th>\n    </tr>\n  </thead>\n  <tbody>\n    <tr>\n      <th>-1</th>\n      <td>141.0</td>\n      <td>7.971631</td>\n      <td>24.198566</td>\n      <td>1.0</td>\n      <td>1.0</td>\n      <td>2.0</td>\n      <td>5.0</td>\n      <td>248.0</td>\n    </tr>\n    <tr>\n      <th>0</th>\n      <td>169.0</td>\n      <td>11.343195</td>\n      <td>54.862062</td>\n      <td>1.0</td>\n      <td>1.0</td>\n      <td>2.0</td>\n      <td>5.0</td>\n      <td>635.0</td>\n    </tr>\n    <tr>\n      <th>1</th>\n      <td>90.0</td>\n      <td>6.277778</td>\n      <td>24.400234</td>\n      <td>1.0</td>\n      <td>1.0</td>\n      <td>2.0</td>\n      <td>3.0</td>\n      <td>222.0</td>\n    </tr>\n  </tbody>\n</table>\n</div>"
     },
     "execution_count": 5,
     "metadata": {},
     "output_type": "execute_result"
    }
   ],
   "source": [
    "df.groupby(by = 'clu_result')['total'].describe()"
   ],
   "metadata": {
    "collapsed": false,
    "pycharm": {
     "name": "#%%\n"
    }
   }
  },
  {
   "cell_type": "code",
   "execution_count": null,
   "outputs": [],
   "source": [
    "# colors = ['g','r','b']\n",
    "# fig = plt.figure(figsize=(8, 6), dpi=800)\n",
    "# ax = fig.add_subplot(111,projection = '3d')\n",
    "#\n",
    "# for p in range(len(user_char['clu_result'])):\n",
    "#     ax.scatter(data[p][0],data[p][1],data[p][2],c = colors[user_char['clu_result'][p]])\n",
    "# ax.set_xlabel('negative')\n",
    "# ax.set_ylabel('positive')\n",
    "# ax.set_zlabel('neural')\n",
    "# plt.savefig('user_clustering.png')\n",
    "# plt.show()"
   ],
   "metadata": {
    "collapsed": false,
    "pycharm": {
     "name": "#%%\n"
    }
   }
  },
  {
   "cell_type": "code",
   "execution_count": null,
   "outputs": [],
   "source": [],
   "metadata": {
    "collapsed": false,
    "pycharm": {
     "name": "#%%\n"
    }
   }
  }
 ],
 "metadata": {
  "kernelspec": {
   "display_name": "Python 3",
   "language": "python",
   "name": "python3"
  },
  "language_info": {
   "codemirror_mode": {
    "name": "ipython",
    "version": 2
   },
   "file_extension": ".py",
   "mimetype": "text/x-python",
   "name": "python",
   "nbconvert_exporter": "python",
   "pygments_lexer": "ipython2",
   "version": "2.7.6"
  }
 },
 "nbformat": 4,
 "nbformat_minor": 0
}