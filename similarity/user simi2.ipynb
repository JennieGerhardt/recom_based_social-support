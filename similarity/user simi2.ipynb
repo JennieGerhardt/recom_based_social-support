{
 "cells": [
  {
   "cell_type": "code",
   "execution_count": 1,
   "metadata": {
    "collapsed": true
   },
   "outputs": [],
   "source": [
    "import pandas as pd\n",
    "\n",
    "# thread_char = pd.read_csv('../data/thread_character.csv',encoding='utf-8-sig')\n",
    "thread_char = pd.read_csv('../data/thread_character2000.csv',encoding='utf-8-sig')\n",
    "# usr_char = usr_char.sample(n=1000,random_state=1)\n",
    "# usr_char =usr_char.reset_index(drop=True)"
   ]
  },
  {
   "cell_type": "code",
   "execution_count": 2,
   "outputs": [],
   "source": [
    "def thread_emotion(px,py):\n",
    "    s1 = (px-py)**2\n",
    "    thread_emo = s1**0.5\n",
    "    return float(thread_emo)"
   ],
   "metadata": {
    "collapsed": false,
    "pycharm": {
     "name": "#%%\n"
    }
   }
  },
  {
   "cell_type": "code",
   "execution_count": 3,
   "outputs": [],
   "source": [
    "def topic_sim(kx,ky):\n",
    "    kx = [float(x) for x in kx]\n",
    "    ky = [float(y) for y in ky]\n",
    "    d = 0\n",
    "    for i in range(len(kx)):\n",
    "        d = d+(kx[i]-ky[i])**2\n",
    "    d = d**0.5\n",
    "    user_topic_sim = 1/(1+d)\n",
    "    return user_topic_sim"
   ],
   "metadata": {
    "collapsed": false,
    "pycharm": {
     "name": "#%%\n"
    }
   }
  },
  {
   "cell_type": "code",
   "execution_count": 6,
   "outputs": [
    {
     "name": "stdout",
     "output_type": "stream",
     "text": [
      "0 / 2000\n",
      "500 / 2000\n",
      "1000 / 2000\n",
      "1500 / 2000\n"
     ]
    }
   ],
   "source": [
    "# edges = pd.DataFrame(columns=['source','target','weight'])\n",
    "length = len(thread_char['thread_id']) #\n",
    "# a = 0.5\n",
    "e_min = 1\n",
    "e_max = 0\n",
    "t_min = 1\n",
    "t_max = 0\n",
    "fo = open(\"../data/thread_similarity_uns2000.txt\",'a+')\n",
    "fo.write('source,target,weight'+'\\n')\n",
    "for i in range(length):\n",
    "    if i%500 == 0:\n",
    "        print(i,'/',length)\n",
    "    px = thread_char['sentiment'][i] #,usr_char['neu'][i]\n",
    "    kx = thread_char['topic'][i].replace('(','').replace(')','').split(', ')\n",
    "    for j in range(length):\n",
    "        if i > j:\n",
    "            py = thread_char['sentiment'][j] #,usr_char['neu'][j]\n",
    "            ky = thread_char['topic'][j].replace('(','').replace(')','').split(', ')\n",
    "            e_sim = thread_emotion(px,py) # emotion_sim\n",
    "            t_sim = topic_sim(kx,ky)\n",
    "            # w =  a*e_sim+(1-a)*t_sim\n",
    "            if e_sim< e_min:\n",
    "                e_min = e_sim\n",
    "            if e_sim> e_max:\n",
    "                e_max = e_sim\n",
    "            if t_sim< t_min:\n",
    "                t_min = t_sim\n",
    "            if t_sim> t_max:\n",
    "                t_max = t_sim\n",
    "            fo.write(str(i)+','+str(j)+','+str(e_sim)+','+str(t_sim)+'\\n')\n",
    "            fo.flush()\n",
    "        else:\n",
    "            break\n",
    "fo.close()"
   ],
   "metadata": {
    "collapsed": false,
    "pycharm": {
     "name": "#%%\n"
    }
   }
  },
  {
   "cell_type": "code",
   "execution_count": 7,
   "outputs": [],
   "source": [
    "def normalize(max,min,x):\n",
    "    y = (x-min)/(max-min)\n",
    "    return y"
   ],
   "metadata": {
    "collapsed": false,
    "pycharm": {
     "name": "#%%\n"
    }
   }
  },
  {
   "cell_type": "code",
   "execution_count": 8,
   "outputs": [
    {
     "name": "stdout",
     "output_type": "stream",
     "text": [
      "source,target,weight\n",
      "\n",
      "source,target,weight\n",
      "\n",
      "\n",
      "source,target,weight\n",
      "\n",
      "source,target,weight\n",
      "\n",
      "\n",
      "source,target,weight\n",
      "\n",
      "source,target,weight\n",
      "\n",
      "\n",
      "source,target,weight\n",
      "\n",
      "source,target,weight\n",
      "\n",
      "\n"
     ]
    }
   ],
   "source": [
    "for b in {0.2,0.4,0.6,0.8}:\n",
    "    F2 = open(\"../data/thread_similarity2000_{}.txt\".format(b),'a+')\n",
    "    F2.write('source,target,weight'+'\\n')\n",
    "    F2.flush()\n",
    "    F1 = open(\"../data/thread_similarity_uns2000.txt\",'r')\n",
    "    while 1:\n",
    "        line = F1.readline()\n",
    "        try:\n",
    "            i,j,e,t = line.split(',')\n",
    "            e_sim = normalize(e_max,e_min,float(e))\n",
    "            t_sim = normalize(t_max,t_min,float(t))\n",
    "            w =  b*e_sim+(1-b)*t_sim\n",
    "            F2.write(str(i)+','+str(j)+','+str(w)+'\\n')\n",
    "            F2.flush()\n",
    "        except:\n",
    "            print(line)\n",
    "            pass\n",
    "        if not line:\n",
    "            break\n",
    "    F1.close()\n",
    "    F2.close()"
   ],
   "metadata": {
    "collapsed": false,
    "pycharm": {
     "name": "#%%\n"
    }
   }
  },
  {
   "cell_type": "code",
   "execution_count": 8,
   "outputs": [],
   "source": [],
   "metadata": {
    "collapsed": false,
    "pycharm": {
     "name": "#%%\n"
    }
   }
  }
 ],
 "metadata": {
  "kernelspec": {
   "display_name": "Python 3",
   "language": "python",
   "name": "python3"
  },
  "language_info": {
   "codemirror_mode": {
    "name": "ipython",
    "version": 2
   },
   "file_extension": ".py",
   "mimetype": "text/x-python",
   "name": "python",
   "nbconvert_exporter": "python",
   "pygments_lexer": "ipython2",
   "version": "2.7.6"
  }
 },
 "nbformat": 4,
 "nbformat_minor": 0
}