{
 "cells": [
  {
   "cell_type": "code",
   "execution_count": 1,
   "metadata": {
    "collapsed": true,
    "pycharm": {
     "name": "#%%\n"
    }
   },
   "outputs": [],
   "source": [
    "import pandas as pd\n",
    "import json\n",
    "\n",
    "#用户发帖纪录\n",
    "user_content = pd.read_csv('data/user_content400.csv',encoding='utf-8')\n",
    "user_content = user_content.groupby('portrait')['content_new'].apply(lambda x:x.str.cat(sep=' ')).reset_index()\n",
    "\n",
    "#用户特征\n",
    "user_char = pd.read_csv('data/user_character400.csv',encoding='utf-8')\n",
    "\n",
    "#推荐结果\n",
    "file = open('data/result.txt', 'r')\n",
    "js = file.read()\n",
    "result = json.loads(js)\n",
    "file.close()\n",
    "\n",
    "#thread内容\n",
    "thread_content = pd.read_csv('data/thread_content2000.csv',encoding='utf-8')\n",
    "#帖子特征\n",
    "thread_char = pd.read_csv('data/thread_character2000.csv',encoding='utf-8')"
   ]
  },
  {
   "cell_type": "code",
   "execution_count": 2,
   "outputs": [],
   "source": [
    "Thread_Role = []\n",
    "for u,r_list in result.items():\n",
    "    r_list = r_list[:50]\n",
    "    result[u] = r_list\n",
    "    thread_role = []\n",
    "    for r in r_list:\n",
    "        r[1] = thread_content['content_new'][thread_content['thread_id']==int(r[0])].values[0][:100]\n",
    "        thread_role.append(thread_char['clu_result'][thread_char['thread_id']==int(r[0])].values[0])\n",
    "    Thread_Role.append(thread_role)"
   ],
   "metadata": {
    "collapsed": false,
    "pycharm": {
     "name": "#%%\n"
    }
   }
  },
  {
   "cell_type": "code",
   "execution_count": 3,
   "outputs": [],
   "source": [
    "User_Roles = []\n",
    "User_Content = []\n",
    "\n",
    "for u in result.keys():\n",
    "    u_role = user_char['clu_result'][user_char['portrait']==u].values[0]\n",
    "    u_con = user_content['content_new'][user_content['portrait']==u].values[0]\n",
    "    User_Roles.append(u_role)\n",
    "    User_Content.append(u_con)"
   ],
   "metadata": {
    "collapsed": false,
    "pycharm": {
     "name": "#%%\n"
    }
   }
  },
  {
   "cell_type": "code",
   "execution_count": 4,
   "outputs": [],
   "source": [
    "r = []\n",
    "for i in result.values():\n",
    "    r.append(str(i))"
   ],
   "metadata": {
    "collapsed": false,
    "pycharm": {
     "name": "#%%\n"
    }
   }
  },
  {
   "cell_type": "code",
   "execution_count": 5,
   "outputs": [
    {
     "data": {
      "text/plain": "                               Portrait  User_Roles  \\\n0  tb.1.225b909b.j-KMbfnKUjVoksaJCqZZ6Q           0   \n1  tb.1.6be57e9d.F2fkk-Cm6I8V4WL23ex56w           0   \n2  tb.1.7ceb4216.7qz6hLqkUgbGmX0ceEld_A          -1   \n3  tb.1.b0e06cc0.PQvHYrNMVczY_jFEdgMHjQ           1   \n4  tb.1.f072c039.gBSorBxdgO6l35A2ao3q9Q           0   \n5  tb.1.33f04bd0.4hC4FbKVO9Vouc0rENIjGQ          -1   \n6  tb.1.851fc9b1.GqqIFUNwvKciulc-kvuEdA           0   \n7  tb.1.e9b1be6b.owTpithgI6SFqUELz_xAdQ           1   \n8  tb.1.b534e864.snS1QP8fx7_AY9A8e3q5oQ          -1   \n9  tb.1.e4d69428.0cGlHDk1Td9DD5-sLETF0w          -1   \n\n                                        User_Content  \\\n0  这是个长期帖。记录我每天的抑郁症治疗生活。我年龄不大。初中生。女。大家也可以进来聊聊。平常我...   \n1  。倾诉。今天让大家见识见识。什么叫亲。死亲孩子。年形影不离。不让自己出去。不让自己见朋友。不...   \n2  什么来的。没有。就是检查脑袋有没有问题吗。 都不喜欢啊。白天要干活。晚上又失眠。 针对这种情...   \n3  好可怜。摸摸头。 逃出太阳系嘛。 胖虎很痛苦。 特别漂亮。 。倾诉。早。今天也是美好的一天。...   \n4  楼主现在。恢复的怎么样了。 楼主今天恢复怎么样。 楼主失忆了么。 你吃药感觉如何。 这是。森...   \n5  。生命不过是食物。用来喂养死亡。这是我在中度抑郁症的时候的感觉。虽然处在深渊的边缘。随时可能...   \n6  现在正在一个人坐公交去医院的路上。从预约开始期待了好几天。但是到了去的路上突然就觉得有点害怕...   \n7  春天最容易复发了。试试多锻炼一下。心情朝好的方面看。 。倾诉。每天鼓励一下自己。 开开心心地...   \n8  。倾诉。我像个变态一下。 不想别人联系我。也不想联系别人。除了床哪里都不想去。又怕死。真。有...   \n9  。吧友互动。因为抑郁休学一年了。估计好不了了。不过还是要挺着上学了。有没有差不多。同龄的大学...   \n\n                                         Thread_Role  \\\n0  [1, 1, 1, 1, -1, -1, -1, -1, -1, 1, 0, 1, 1, -...   \n1  [1, -1, -1, 0, 1, 1, -1, -1, -1, -1, 1, 1, 1, ...   \n2  [1, 1, 1, 1, 1, 1, 1, -1, 1, 1, 1, 1, 1, 1, 1,...   \n3  [1, -1, 1, 1, -1, 1, -1, -1, 1, 1, -1, -1, -1,...   \n4  [1, -1, -1, 1, 0, 1, -1, -1, -1, 1, -1, 1, 1, ...   \n5  [1, 1, 1, 1, 1, 1, 1, -1, 1, -1, 1, 1, -1, 1, ...   \n6  [1, -1, -1, 1, 1, 0, -1, -1, -1, -1, 1, 1, 1, ...   \n7  [1, 1, 1, 1, 1, 1, 1, -1, -1, -1, -1, -1, -1, ...   \n8  [1, 1, 1, -1, -1, -1, -1, 1, -1, 1, 1, -1, 1, ...   \n9  [1, -1, -1, 1, 1, -1, -1, -1, 1, 1, -1, 1, 1, ...   \n\n                                           Recommend  \n0  [['6922569834', '不想死。也不想活。做一只四处游荡的咸鱼。 能聊聊吗。 看到...  \n1  [['6922569834', '不想死。也不想活。做一只四处游荡的咸鱼。 能聊聊吗。 看到...  \n2  [['7070804329', '一切会如期而至的到来。 感谢一路以来的坚持努力以及付出。'...  \n3  [['7070804329', '一切会如期而至的到来。 感谢一路以来的坚持努力以及付出。'...  \n4  [['6922569834', '不想死。也不想活。做一只四处游荡的咸鱼。 能聊聊吗。 看到...  \n5  [['7070804329', '一切会如期而至的到来。 感谢一路以来的坚持努力以及付出。'...  \n6  [['6922569834', '不想死。也不想活。做一只四处游荡的咸鱼。 能聊聊吗。 看到...  \n7  [['7070804329', '一切会如期而至的到来。 感谢一路以来的坚持努力以及付出。'...  \n8  [['6922569834', '不想死。也不想活。做一只四处游荡的咸鱼。 能聊聊吗。 看到...  \n9  [['6922569834', '不想死。也不想活。做一只四处游荡的咸鱼。 能聊聊吗。 看到...  ",
      "text/html": "<div>\n<style scoped>\n    .dataframe tbody tr th:only-of-type {\n        vertical-align: middle;\n    }\n\n    .dataframe tbody tr th {\n        vertical-align: top;\n    }\n\n    .dataframe thead th {\n        text-align: right;\n    }\n</style>\n<table border=\"1\" class=\"dataframe\">\n  <thead>\n    <tr style=\"text-align: right;\">\n      <th></th>\n      <th>Portrait</th>\n      <th>User_Roles</th>\n      <th>User_Content</th>\n      <th>Thread_Role</th>\n      <th>Recommend</th>\n    </tr>\n  </thead>\n  <tbody>\n    <tr>\n      <th>0</th>\n      <td>tb.1.225b909b.j-KMbfnKUjVoksaJCqZZ6Q</td>\n      <td>0</td>\n      <td>这是个长期帖。记录我每天的抑郁症治疗生活。我年龄不大。初中生。女。大家也可以进来聊聊。平常我...</td>\n      <td>[1, 1, 1, 1, -1, -1, -1, -1, -1, 1, 0, 1, 1, -...</td>\n      <td>[['6922569834', '不想死。也不想活。做一只四处游荡的咸鱼。 能聊聊吗。 看到...</td>\n    </tr>\n    <tr>\n      <th>1</th>\n      <td>tb.1.6be57e9d.F2fkk-Cm6I8V4WL23ex56w</td>\n      <td>0</td>\n      <td>。倾诉。今天让大家见识见识。什么叫亲。死亲孩子。年形影不离。不让自己出去。不让自己见朋友。不...</td>\n      <td>[1, -1, -1, 0, 1, 1, -1, -1, -1, -1, 1, 1, 1, ...</td>\n      <td>[['6922569834', '不想死。也不想活。做一只四处游荡的咸鱼。 能聊聊吗。 看到...</td>\n    </tr>\n    <tr>\n      <th>2</th>\n      <td>tb.1.7ceb4216.7qz6hLqkUgbGmX0ceEld_A</td>\n      <td>-1</td>\n      <td>什么来的。没有。就是检查脑袋有没有问题吗。 都不喜欢啊。白天要干活。晚上又失眠。 针对这种情...</td>\n      <td>[1, 1, 1, 1, 1, 1, 1, -1, 1, 1, 1, 1, 1, 1, 1,...</td>\n      <td>[['7070804329', '一切会如期而至的到来。 感谢一路以来的坚持努力以及付出。'...</td>\n    </tr>\n    <tr>\n      <th>3</th>\n      <td>tb.1.b0e06cc0.PQvHYrNMVczY_jFEdgMHjQ</td>\n      <td>1</td>\n      <td>好可怜。摸摸头。 逃出太阳系嘛。 胖虎很痛苦。 特别漂亮。 。倾诉。早。今天也是美好的一天。...</td>\n      <td>[1, -1, 1, 1, -1, 1, -1, -1, 1, 1, -1, -1, -1,...</td>\n      <td>[['7070804329', '一切会如期而至的到来。 感谢一路以来的坚持努力以及付出。'...</td>\n    </tr>\n    <tr>\n      <th>4</th>\n      <td>tb.1.f072c039.gBSorBxdgO6l35A2ao3q9Q</td>\n      <td>0</td>\n      <td>楼主现在。恢复的怎么样了。 楼主今天恢复怎么样。 楼主失忆了么。 你吃药感觉如何。 这是。森...</td>\n      <td>[1, -1, -1, 1, 0, 1, -1, -1, -1, 1, -1, 1, 1, ...</td>\n      <td>[['6922569834', '不想死。也不想活。做一只四处游荡的咸鱼。 能聊聊吗。 看到...</td>\n    </tr>\n    <tr>\n      <th>5</th>\n      <td>tb.1.33f04bd0.4hC4FbKVO9Vouc0rENIjGQ</td>\n      <td>-1</td>\n      <td>。生命不过是食物。用来喂养死亡。这是我在中度抑郁症的时候的感觉。虽然处在深渊的边缘。随时可能...</td>\n      <td>[1, 1, 1, 1, 1, 1, 1, -1, 1, -1, 1, 1, -1, 1, ...</td>\n      <td>[['7070804329', '一切会如期而至的到来。 感谢一路以来的坚持努力以及付出。'...</td>\n    </tr>\n    <tr>\n      <th>6</th>\n      <td>tb.1.851fc9b1.GqqIFUNwvKciulc-kvuEdA</td>\n      <td>0</td>\n      <td>现在正在一个人坐公交去医院的路上。从预约开始期待了好几天。但是到了去的路上突然就觉得有点害怕...</td>\n      <td>[1, -1, -1, 1, 1, 0, -1, -1, -1, -1, 1, 1, 1, ...</td>\n      <td>[['6922569834', '不想死。也不想活。做一只四处游荡的咸鱼。 能聊聊吗。 看到...</td>\n    </tr>\n    <tr>\n      <th>7</th>\n      <td>tb.1.e9b1be6b.owTpithgI6SFqUELz_xAdQ</td>\n      <td>1</td>\n      <td>春天最容易复发了。试试多锻炼一下。心情朝好的方面看。 。倾诉。每天鼓励一下自己。 开开心心地...</td>\n      <td>[1, 1, 1, 1, 1, 1, 1, -1, -1, -1, -1, -1, -1, ...</td>\n      <td>[['7070804329', '一切会如期而至的到来。 感谢一路以来的坚持努力以及付出。'...</td>\n    </tr>\n    <tr>\n      <th>8</th>\n      <td>tb.1.b534e864.snS1QP8fx7_AY9A8e3q5oQ</td>\n      <td>-1</td>\n      <td>。倾诉。我像个变态一下。 不想别人联系我。也不想联系别人。除了床哪里都不想去。又怕死。真。有...</td>\n      <td>[1, 1, 1, -1, -1, -1, -1, 1, -1, 1, 1, -1, 1, ...</td>\n      <td>[['6922569834', '不想死。也不想活。做一只四处游荡的咸鱼。 能聊聊吗。 看到...</td>\n    </tr>\n    <tr>\n      <th>9</th>\n      <td>tb.1.e4d69428.0cGlHDk1Td9DD5-sLETF0w</td>\n      <td>-1</td>\n      <td>。吧友互动。因为抑郁休学一年了。估计好不了了。不过还是要挺着上学了。有没有差不多。同龄的大学...</td>\n      <td>[1, -1, -1, 1, 1, -1, -1, -1, 1, 1, -1, 1, 1, ...</td>\n      <td>[['6922569834', '不想死。也不想活。做一只四处游荡的咸鱼。 能聊聊吗。 看到...</td>\n    </tr>\n  </tbody>\n</table>\n</div>"
     },
     "execution_count": 5,
     "metadata": {},
     "output_type": "execute_result"
    }
   ],
   "source": [
    "result_view = pd.DataFrame()\n",
    "result_view['Portrait'] = result.keys()\n",
    "result_view['User_Roles'] = User_Roles\n",
    "result_view['User_Content'] = User_Content\n",
    "result_view['Thread_Role'] = Thread_Role\n",
    "result_view['Recommend'] = r\n",
    "result_view[:10]\n"
   ],
   "metadata": {
    "collapsed": false,
    "pycharm": {
     "name": "#%%\n"
    }
   }
  },
  {
   "cell_type": "code",
   "execution_count": 6,
   "outputs": [
    {
     "data": {
      "text/plain": "                                 Portrait  User_Roles  \\\n390   tb.1.83ad6cf.oTB0UQrQMfjb7xV8RlkyWg           0   \n391   tb.1.8565552.j7gaPUD55kG1d7RqG3co4Q           0   \n392  tb.1.86af11c3.BT3foROxRbvqHPS0kzkFVg           1   \n393  tb.1.8854128d.5uA0wB2MF1GjXvMfmzAC5w           0   \n394  tb.1.88cdc772.7b8MVBbzD81zefPbKeHhUg           1   \n395  tb.1.8ac082b2.Tsrie500-irD63Ez65F23w           0   \n396  tb.1.8d82e2d5.s0Mg8nHf-gQDgsIalv0HwQ           0   \n397  tb.1.90aa2ee8.BQsw1wZW3S81gLnMl94_CA          -1   \n398  tb.1.91339f5c.68wGhL6J3CXWJfF5I7LdOw           0   \n399  tb.1.804f0bcf.N-g39lGJ1KQo0Cf2O3Lezw           0   \n\n                                          User_Content  \\\n390  从年看过来的。姑娘好好活着。这几年都过来了。说明没什么事情了。这半个月压的我想过自杀。因为没...   \n391                                    有的会的。但这点副作用重要吗。   \n392                 借楼一下下。有个抑郁症扣扣群病友都可以来。我们互相帮助共同摆脱病痛。   \n393                              我中度抑郁。没吃过药。一直自愈现在好多了。   \n394                                          一瞬间人生圆满了。   \n395           楼主。如果是重度抑郁症。但是思维与逻辑完全没有问题。心理辅导为主不吃药能不能行。   \n396                          \\。▔□▔。想问一下挂的什么科呀。精神还是心理啊。   \n397  我觉得我可能深有体会。所以比较了解这种症状吧。她可能对很多东西都失去兴趣。有时会焦躁不安。渐...   \n398                 世界只有自己。平静安逸。有时会很难过。但日子还要继续过。我们还活着。   \n399                      。倾诉。啥时候我才能有对象。都了连女生手都没牵过。抑郁了。   \n\n                                           Thread_Role  \\\n390  [1, 0, 1, -1, 1, 1, -1, -1, 1, -1, -1, -1, 1, ...   \n391  [1, 1, 1, 1, 1, -1, -1, -1, -1, 0, 1, 1, 1, 1,...   \n392  [1, -1, -1, 1, -1, -1, 1, -1, -1, -1, -1, -1, ...   \n393  [1, 1, 1, 1, -1, 1, -1, -1, -1, 1, 1, 1, 1, 0,...   \n394  [1, -1, -1, 1, -1, 1, -1, -1, -1, -1, -1, -1, ...   \n395  [1, 1, 1, 1, 0, -1, -1, -1, -1, 1, 1, -1, 1, 1...   \n396  [1, 1, 1, 1, -1, 1, -1, -1, -1, 1, 1, 1, 1, 1,...   \n397  [1, 1, 1, 1, 1, 1, 1, 1, 1, 1, 1, 1, 1, 1, -1,...   \n398  [1, 1, 1, 1, -1, 1, -1, -1, -1, 1, 1, 0, 1, 1,...   \n399  [1, 1, 1, 1, -1, 1, -1, -1, -1, 1, 1, 1, 0, 1,...   \n\n                                             Recommend  \n390  [['6922569834', '不想死。也不想活。做一只四处游荡的咸鱼。 能聊聊吗。 看到...  \n391  [['6922569834', '不想死。也不想活。做一只四处游荡的咸鱼。 能聊聊吗。 看到...  \n392  [['6922569834', '不想死。也不想活。做一只四处游荡的咸鱼。 能聊聊吗。 看到...  \n393  [['6922569834', '不想死。也不想活。做一只四处游荡的咸鱼。 能聊聊吗。 看到...  \n394  [['6922569834', '不想死。也不想活。做一只四处游荡的咸鱼。 能聊聊吗。 看到...  \n395  [['6922569834', '不想死。也不想活。做一只四处游荡的咸鱼。 能聊聊吗。 看到...  \n396  [['6922569834', '不想死。也不想活。做一只四处游荡的咸鱼。 能聊聊吗。 看到...  \n397  [['6922569834', '不想死。也不想活。做一只四处游荡的咸鱼。 能聊聊吗。 看到...  \n398  [['6922569834', '不想死。也不想活。做一只四处游荡的咸鱼。 能聊聊吗。 看到...  \n399  [['6922569834', '不想死。也不想活。做一只四处游荡的咸鱼。 能聊聊吗。 看到...  ",
      "text/html": "<div>\n<style scoped>\n    .dataframe tbody tr th:only-of-type {\n        vertical-align: middle;\n    }\n\n    .dataframe tbody tr th {\n        vertical-align: top;\n    }\n\n    .dataframe thead th {\n        text-align: right;\n    }\n</style>\n<table border=\"1\" class=\"dataframe\">\n  <thead>\n    <tr style=\"text-align: right;\">\n      <th></th>\n      <th>Portrait</th>\n      <th>User_Roles</th>\n      <th>User_Content</th>\n      <th>Thread_Role</th>\n      <th>Recommend</th>\n    </tr>\n  </thead>\n  <tbody>\n    <tr>\n      <th>390</th>\n      <td>tb.1.83ad6cf.oTB0UQrQMfjb7xV8RlkyWg</td>\n      <td>0</td>\n      <td>从年看过来的。姑娘好好活着。这几年都过来了。说明没什么事情了。这半个月压的我想过自杀。因为没...</td>\n      <td>[1, 0, 1, -1, 1, 1, -1, -1, 1, -1, -1, -1, 1, ...</td>\n      <td>[['6922569834', '不想死。也不想活。做一只四处游荡的咸鱼。 能聊聊吗。 看到...</td>\n    </tr>\n    <tr>\n      <th>391</th>\n      <td>tb.1.8565552.j7gaPUD55kG1d7RqG3co4Q</td>\n      <td>0</td>\n      <td>有的会的。但这点副作用重要吗。</td>\n      <td>[1, 1, 1, 1, 1, -1, -1, -1, -1, 0, 1, 1, 1, 1,...</td>\n      <td>[['6922569834', '不想死。也不想活。做一只四处游荡的咸鱼。 能聊聊吗。 看到...</td>\n    </tr>\n    <tr>\n      <th>392</th>\n      <td>tb.1.86af11c3.BT3foROxRbvqHPS0kzkFVg</td>\n      <td>1</td>\n      <td>借楼一下下。有个抑郁症扣扣群病友都可以来。我们互相帮助共同摆脱病痛。</td>\n      <td>[1, -1, -1, 1, -1, -1, 1, -1, -1, -1, -1, -1, ...</td>\n      <td>[['6922569834', '不想死。也不想活。做一只四处游荡的咸鱼。 能聊聊吗。 看到...</td>\n    </tr>\n    <tr>\n      <th>393</th>\n      <td>tb.1.8854128d.5uA0wB2MF1GjXvMfmzAC5w</td>\n      <td>0</td>\n      <td>我中度抑郁。没吃过药。一直自愈现在好多了。</td>\n      <td>[1, 1, 1, 1, -1, 1, -1, -1, -1, 1, 1, 1, 1, 0,...</td>\n      <td>[['6922569834', '不想死。也不想活。做一只四处游荡的咸鱼。 能聊聊吗。 看到...</td>\n    </tr>\n    <tr>\n      <th>394</th>\n      <td>tb.1.88cdc772.7b8MVBbzD81zefPbKeHhUg</td>\n      <td>1</td>\n      <td>一瞬间人生圆满了。</td>\n      <td>[1, -1, -1, 1, -1, 1, -1, -1, -1, -1, -1, -1, ...</td>\n      <td>[['6922569834', '不想死。也不想活。做一只四处游荡的咸鱼。 能聊聊吗。 看到...</td>\n    </tr>\n    <tr>\n      <th>395</th>\n      <td>tb.1.8ac082b2.Tsrie500-irD63Ez65F23w</td>\n      <td>0</td>\n      <td>楼主。如果是重度抑郁症。但是思维与逻辑完全没有问题。心理辅导为主不吃药能不能行。</td>\n      <td>[1, 1, 1, 1, 0, -1, -1, -1, -1, 1, 1, -1, 1, 1...</td>\n      <td>[['6922569834', '不想死。也不想活。做一只四处游荡的咸鱼。 能聊聊吗。 看到...</td>\n    </tr>\n    <tr>\n      <th>396</th>\n      <td>tb.1.8d82e2d5.s0Mg8nHf-gQDgsIalv0HwQ</td>\n      <td>0</td>\n      <td>\\。▔□▔。想问一下挂的什么科呀。精神还是心理啊。</td>\n      <td>[1, 1, 1, 1, -1, 1, -1, -1, -1, 1, 1, 1, 1, 1,...</td>\n      <td>[['6922569834', '不想死。也不想活。做一只四处游荡的咸鱼。 能聊聊吗。 看到...</td>\n    </tr>\n    <tr>\n      <th>397</th>\n      <td>tb.1.90aa2ee8.BQsw1wZW3S81gLnMl94_CA</td>\n      <td>-1</td>\n      <td>我觉得我可能深有体会。所以比较了解这种症状吧。她可能对很多东西都失去兴趣。有时会焦躁不安。渐...</td>\n      <td>[1, 1, 1, 1, 1, 1, 1, 1, 1, 1, 1, 1, 1, 1, -1,...</td>\n      <td>[['6922569834', '不想死。也不想活。做一只四处游荡的咸鱼。 能聊聊吗。 看到...</td>\n    </tr>\n    <tr>\n      <th>398</th>\n      <td>tb.1.91339f5c.68wGhL6J3CXWJfF5I7LdOw</td>\n      <td>0</td>\n      <td>世界只有自己。平静安逸。有时会很难过。但日子还要继续过。我们还活着。</td>\n      <td>[1, 1, 1, 1, -1, 1, -1, -1, -1, 1, 1, 0, 1, 1,...</td>\n      <td>[['6922569834', '不想死。也不想活。做一只四处游荡的咸鱼。 能聊聊吗。 看到...</td>\n    </tr>\n    <tr>\n      <th>399</th>\n      <td>tb.1.804f0bcf.N-g39lGJ1KQo0Cf2O3Lezw</td>\n      <td>0</td>\n      <td>。倾诉。啥时候我才能有对象。都了连女生手都没牵过。抑郁了。</td>\n      <td>[1, 1, 1, 1, -1, 1, -1, -1, -1, 1, 1, 1, 0, 1,...</td>\n      <td>[['6922569834', '不想死。也不想活。做一只四处游荡的咸鱼。 能聊聊吗。 看到...</td>\n    </tr>\n  </tbody>\n</table>\n</div>"
     },
     "execution_count": 6,
     "metadata": {},
     "output_type": "execute_result"
    }
   ],
   "source": [
    "result_view[-10:]\n"
   ],
   "metadata": {
    "collapsed": false,
    "pycharm": {
     "name": "#%%\n"
    }
   }
  },
  {
   "cell_type": "code",
   "execution_count": 7,
   "outputs": [],
   "source": [
    "result_view.to_csv('data/result_view50.csv',encoding='utf-8-sig',index=False)\n",
    "\n"
   ],
   "metadata": {
    "collapsed": false,
    "pycharm": {
     "name": "#%%\n"
    }
   }
  },
  {
   "cell_type": "code",
   "execution_count": 1,
   "outputs": [],
   "source": [
    "import pandas as pd\n",
    "result_view = pd.read_csv('data/result_view.csv',encoding='utf-8-sig')\n",
    "negative_con = result_view['Recommend'][result_view['User_Roles'] == 1]\n",
    "positive_con = result_view['Recommend'][result_view['User_Roles'] == -1]\n",
    "negative_con.to_csv('data/negative_con.csv',index=False,encoding='utf-8-sig')\n",
    "positive_con.to_csv('data/positive_con.csv',index=False,encoding='utf-8-sig')"
   ],
   "metadata": {
    "collapsed": false,
    "pycharm": {
     "name": "#%%\n"
    }
   }
  },
  {
   "cell_type": "code",
   "execution_count": null,
   "outputs": [],
   "source": [],
   "metadata": {
    "collapsed": false,
    "pycharm": {
     "name": "#%%"
    }
   }
  }
 ],
 "metadata": {
  "kernelspec": {
   "display_name": "Python 3",
   "language": "python",
   "name": "python3"
  },
  "language_info": {
   "codemirror_mode": {
    "name": "ipython",
    "version": 2
   },
   "file_extension": ".py",
   "mimetype": "text/x-python",
   "name": "python",
   "nbconvert_exporter": "python",
   "pygments_lexer": "ipython2",
   "version": "2.7.6"
  }
 },
 "nbformat": 4,
 "nbformat_minor": 0
}