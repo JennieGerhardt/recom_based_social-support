{
 "cells": [
  {
   "cell_type": "code",
   "execution_count": 1,
   "metadata": {
    "collapsed": true
   },
   "outputs": [],
   "source": [
    "import pandas as pd\n",
    "import networkx as nx"
   ]
  },
  {
   "cell_type": "code",
   "execution_count": 3,
   "outputs": [],
   "source": [
    "thread_char = pd.read_csv('data/thread_character2000.csv',encoding='utf-8-sig')\n",
    "thread_char['thread_id'] = thread_char['thread_id'].astype('int64').astype(str)\n",
    "user_char = pd.read_csv('data/user_character400.csv',encoding='utf-8-sig')"
   ],
   "metadata": {
    "collapsed": false,
    "pycharm": {
     "name": "#%%\n"
    }
   }
  },
  {
   "cell_type": "code",
   "execution_count": null,
   "outputs": [],
   "source": [
    "# G_user = nx.Graph()\n",
    "# G_user.add_nodes_from(range(len(user_char['portrait'])),type = 'user')\n",
    "# F1 = open(\"data/user_similarity_400.csv\",'r',encoding='utf-8')\n",
    "# while 1:\n",
    "#     line = F1.readline()\n",
    "#     i,j,w = line.split(',')\n",
    "#     try:\n",
    "#         G_user.add_edge(int(i),int(j),weight = w)\n",
    "#     except:\n",
    "#         print(i,j,w)\n",
    "#         pass\n",
    "#     if not line:\n",
    "#         break\n",
    "# F1.close()"
   ],
   "metadata": {
    "collapsed": false,
    "pycharm": {
     "name": "#%%\n"
    }
   }
  },
  {
   "cell_type": "code",
   "execution_count": 4,
   "outputs": [],
   "source": [
    "def construct_network(type,data):\n",
    "    G_old = nx.from_pandas_edgelist(\n",
    "        data,\n",
    "        edge_attr=[\"weight\"],\n",
    "        create_using=nx.MultiDiGraph,\n",
    "    )\n",
    "    for i in range(len(G_old.nodes)):\n",
    "        G_old.nodes[i][\"type\"] = type\n",
    "\n",
    "    data_new = pd.DataFrame()\n",
    "    data_new['source'] = data['target']\n",
    "    data_new['target'] = data['source']\n",
    "    data_new['weight'] = data['weight']\n",
    "    G_new = nx.from_pandas_edgelist(\n",
    "        data_new,\n",
    "        edge_attr=[\"weight\"],\n",
    "        create_using=nx.MultiDiGraph,\n",
    "    )\n",
    "    for i in range(len(G_new.nodes)):\n",
    "        G_new.nodes[i][\"type\"] = type\n",
    "    G = nx.compose(G_old,G_new)\n",
    "    return G"
   ],
   "metadata": {
    "collapsed": false,
    "pycharm": {
     "name": "#%%\n"
    }
   }
  },
  {
   "cell_type": "code",
   "execution_count": 5,
   "outputs": [],
   "source": [
    "def normalize(max,min,x):\n",
    "    y = (x-min)/(max-min)\n",
    "    return y"
   ],
   "metadata": {
    "collapsed": false,
    "pycharm": {
     "name": "#%%\n"
    }
   }
  },
  {
   "cell_type": "code",
   "execution_count": 6,
   "outputs": [
    {
     "data": {
      "text/plain": "0.47266024048701355"
     },
     "execution_count": 6,
     "metadata": {},
     "output_type": "execute_result"
    }
   ],
   "source": [
    "users = pd.read_csv('data/user_similarity400_0.6.txt')\n",
    "standard_w = []\n",
    "users_max = users['weight'].max()\n",
    "users_min = users['weight'].min()\n",
    "for w in users['weight']:\n",
    "    standard_w.append(normalize(users_max,users_min,w))\n",
    "users['weight'] = standard_w\n",
    "users['weight'].mean()"
   ],
   "metadata": {
    "collapsed": false,
    "pycharm": {
     "name": "#%%\n"
    }
   }
  },
  {
   "cell_type": "code",
   "execution_count": 7,
   "outputs": [],
   "source": [
    "G_user = construct_network('user', users)\n",
    "del users"
   ],
   "metadata": {
    "collapsed": false,
    "pycharm": {
     "name": "#%%\n"
    }
   }
  },
  {
   "cell_type": "code",
   "execution_count": 8,
   "outputs": [
    {
     "data": {
      "text/plain": "0.34741967583451117"
     },
     "execution_count": 8,
     "metadata": {},
     "output_type": "execute_result"
    }
   ],
   "source": [
    "threads = pd.read_csv('data/thread_similarity2000_0.4.txt')\n",
    "standard_w = []\n",
    "threads_max = threads['weight'].max()\n",
    "threads_min = threads['weight'].min()\n",
    "for w in threads['weight']:\n",
    "    standard_w.append(normalize(threads_max,threads_min,w))\n",
    "threads['weight'] = standard_w\n",
    "threads['weight'].mean()"
   ],
   "metadata": {
    "collapsed": false,
    "pycharm": {
     "name": "#%%\n"
    }
   }
  },
  {
   "cell_type": "code",
   "execution_count": 9,
   "outputs": [],
   "source": [
    "G_thread = construct_network('thread', threads)\n",
    "del threads"
   ],
   "metadata": {
    "collapsed": false,
    "pycharm": {
     "name": "#%%\n"
    }
   }
  },
  {
   "cell_type": "code",
   "execution_count": 10,
   "outputs": [
    {
     "data": {
      "text/plain": "0.1730248406743711"
     },
     "execution_count": 10,
     "metadata": {},
     "output_type": "execute_result"
    }
   ],
   "source": [
    "u_t = pd.read_csv('data/user_thread_character400_2000_180_60.csv',encoding='utf-8')\n",
    "user_thread = pd.DataFrame()\n",
    "user_thread['source'] = u_t['portrait']\n",
    "user_thread['target'] = u_t['thread_id'].astype('int64').astype(str)\n",
    "user_thread['weight'] = u_t['weight']\n",
    "user_thread['weight'].mean()"
   ],
   "metadata": {
    "collapsed": false,
    "pycharm": {
     "name": "#%%\n"
    }
   }
  },
  {
   "cell_type": "code",
   "execution_count": 11,
   "outputs": [],
   "source": [
    "G_ut = nx.from_pandas_edgelist(\n",
    "        user_thread,\n",
    "        edge_attr=[\"weight\"],\n",
    "        create_using=nx.MultiDiGraph,\n",
    "    )\n",
    "del u_t"
   ],
   "metadata": {
    "collapsed": false,
    "pycharm": {
     "name": "#%%\n"
    }
   }
  },
  {
   "cell_type": "code",
   "execution_count": 12,
   "outputs": [],
   "source": [
    "user_mapping={}\n",
    "for i in range(len(user_char['portrait'])):\n",
    "    user_mapping[i] = user_char['portrait'][i]\n",
    "\n",
    "thread_mapping={}\n",
    "for i in range(len(thread_char['thread_id'])):\n",
    "    thread_mapping[i] = str(thread_char['thread_id'][i])"
   ],
   "metadata": {
    "collapsed": false,
    "pycharm": {
     "name": "#%%\n"
    }
   }
  },
  {
   "cell_type": "code",
   "execution_count": 13,
   "outputs": [],
   "source": [
    "G_user = nx.relabel_nodes(G_user, user_mapping)\n",
    "G_thread = nx.relabel_nodes(G_thread, thread_mapping)"
   ],
   "metadata": {
    "collapsed": false,
    "pycharm": {
     "name": "#%%\n"
    }
   }
  },
  {
   "cell_type": "code",
   "execution_count": 14,
   "outputs": [],
   "source": [
    "G_tem = nx.compose(G_user,G_thread)\n",
    "G = nx.compose(G_ut,G_tem)"
   ],
   "metadata": {
    "collapsed": false,
    "pycharm": {
     "name": "#%%\n"
    }
   }
  },
  {
   "cell_type": "code",
   "execution_count": 15,
   "outputs": [],
   "source": [
    "adj = {}\n",
    "for n, nbrdict in G.adjacency():\n",
    "    n_e = {}\n",
    "    for node,d in nbrdict.items():\n",
    "        n_e[node] = d[0]['weight']\n",
    "    res = {k: v for k, v in n_e.items()if v > 0.3}\n",
    "    adj[n] = res"
   ],
   "metadata": {
    "collapsed": false,
    "pycharm": {
     "name": "#%%\n"
    }
   }
  },
  {
   "cell_type": "code",
   "execution_count": 16,
   "outputs": [],
   "source": [
    "def metapath_weight(path):\n",
    "    #p = [u,t,t]\n",
    "    path = path.split(' ')\n",
    "    sum_of_w = 0\n",
    "    pl = len(path)-1\n",
    "    for i in range(pl):\n",
    "        w = G[path[i]][path[i+1]][0]['weight']\n",
    "        sum_of_w += w\n",
    "    weight = sum_of_w/pl\n",
    "    return weight"
   ],
   "metadata": {
    "collapsed": false,
    "pycharm": {
     "name": "#%%\n"
    }
   }
  },
  {
   "cell_type": "code",
   "execution_count": 17,
   "outputs": [],
   "source": [
    "def int_float(v):\n",
    "    if type(v) is float:\n",
    "        v = int(v)\n",
    "    return str(v)"
   ],
   "metadata": {
    "collapsed": false,
    "pycharm": {
     "name": "#%%\n"
    }
   }
  },
  {
   "cell_type": "code",
   "execution_count": 18,
   "outputs": [],
   "source": [
    "def all_meta_paths(user,lmax,e):\n",
    "    # O = set()\n",
    "    P = set()\n",
    "    M = {}\n",
    "    Ptem = set()\n",
    "    # wp_list = []\n",
    "    for i in range(1,lmax+2):\n",
    "        if i==1:\n",
    "            # O.add(user)\n",
    "            # print('o只包含user',O)\n",
    "            for v,w in adj[user].items():\n",
    "                P.add(' '.join([user,v]))\n",
    "                # O.add(v)\n",
    "        else:\n",
    "            # print('当i=',i)\n",
    "            Ptem = set()\n",
    "            for pc in P.copy():\n",
    "                pc_list = pc.split(' ')\n",
    "                vc = pc_list[-1]\n",
    "                mw = metapath_weight(pc)\n",
    "                if G.nodes[vc]['type'] == 'thread' and mw >e:\n",
    "                    # wp_list.append(mw)\n",
    "                    # print('添加metapath:',pc)\n",
    "                    M[pc] = mw\n",
    "                    # M.append([pc,mw])\n",
    "                if i != lmax+1:\n",
    "                    C = set(adj[vc].keys())-set(pc_list)\n",
    "                    if len(C) != 0:\n",
    "                        for v in C:\n",
    "                            new_pc = pc+' '+v\n",
    "                            Ptem.add(new_pc)\n",
    "                            # O.add(v)\n",
    "                        # print('新增后临时路径数：',len(Ptem))\n",
    "                P.remove(pc)\n",
    "            P = Ptem\n",
    "            # print('目前路径数：',len(P))\n",
    "            # print('目前元路径数：',len(M))\n",
    "    return M\n"
   ],
   "metadata": {
    "collapsed": false,
    "pycharm": {
     "name": "#%%\n"
    }
   }
  },
  {
   "cell_type": "code",
   "execution_count": 19,
   "outputs": [
    {
     "name": "stdout",
     "output_type": "stream",
     "text": [
      "100\n",
      "200\n",
      "300\n",
      "400\n"
     ]
    }
   ],
   "source": [
    "import json\n",
    "lmax = 3\n",
    "e = 0.6\n",
    "lalala = 0\n",
    "file = open('data/metapath.txt','a+')\n",
    "for user in user_char['portrait']:\n",
    "    meta_path = {}\n",
    "    M = all_meta_paths(user,lmax,e)\n",
    "    meta_path[user] = M\n",
    "    js = json.dumps(meta_path)\n",
    "    lalala += 1\n",
    "    if lalala%100 == 0:\n",
    "        print(lalala)\n",
    "    file.write(js)\n",
    "    file.flush()\n",
    "file.close()"
   ],
   "metadata": {
    "collapsed": false,
    "pycharm": {
     "name": "#%%\n"
    }
   }
  },
  {
   "cell_type": "code",
   "execution_count": 20,
   "outputs": [],
   "source": [
    "import json\n",
    "import pandas as pd\n",
    "\n",
    "file = open('data/metapath.txt', 'r')\n",
    "js = file.read()\n",
    "js = js.replace(\"}{\",\", \")\n",
    "dic = json.loads(js)\n",
    "file.close()"
   ],
   "metadata": {
    "collapsed": false,
    "pycharm": {
     "name": "#%%读取\n"
    }
   }
  },
  {
   "cell_type": "code",
   "execution_count": 21,
   "outputs": [],
   "source": [
    "def normalize(max,min,x):\n",
    "    y = (x-min)/(max-min)\n",
    "    return y"
   ],
   "metadata": {
    "collapsed": false,
    "pycharm": {
     "name": "#%%\n"
    }
   }
  },
  {
   "cell_type": "code",
   "execution_count": 22,
   "outputs": [],
   "source": [
    "threads_meta = {}\n",
    "for user,paths in dic.items():\n",
    "    threads_temp = {}\n",
    "    for p,w in paths.items():\n",
    "        node_list = p.split()\n",
    "        thread = node_list[-1]\n",
    "        k = len(node_list)\n",
    "        path_weight = w/(k-1)\n",
    "        if thread not in threads_temp.keys():\n",
    "            threads_temp[thread] = path_weight\n",
    "        else:\n",
    "            threads_temp[thread] += path_weight\n",
    "    max_value = max(threads_temp.values())\n",
    "    min_value = min(threads_temp.values())\n",
    "    for k,v in threads_temp.items():\n",
    "        threads_temp[k] = normalize(max_value,min_value,v)\n",
    "    threads_meta[user] = threads_temp"
   ],
   "metadata": {
    "collapsed": false,
    "pycharm": {
     "name": "#%%\n"
    }
   }
  },
  {
   "cell_type": "code",
   "execution_count": 24,
   "outputs": [],
   "source": [
    "thread_char = pd.read_csv('data/thread_character2000.csv',encoding='utf-8')\n",
    "threads_time = {}\n",
    "for user,thread in threads_meta.items():\n",
    "    threads_temp= {}\n",
    "    for t in thread.keys():\n",
    "        w = thread_char['timestamp_new'][thread_char['thread_id']==int(t)].values[0]\n",
    "        threads_temp[t] = w\n",
    "    max_value = max(threads_temp.values())\n",
    "    min_value = min(threads_temp.values())\n",
    "    for k,v in threads_temp.items():\n",
    "        threads_temp[k] = normalize(max_value,min_value,v)\n",
    "    threads_time[user] = threads_temp"
   ],
   "metadata": {
    "collapsed": false,
    "pycharm": {
     "name": "#%%\n"
    }
   }
  },
  {
   "cell_type": "code",
   "execution_count": 25,
   "outputs": [],
   "source": [
    "final_recommend = {}\n",
    "time_tune = 0.5\n",
    "for user,thread in threads_meta.items():\n",
    "    threads_temp= {}\n",
    "    for t,mw in thread.items():\n",
    "        w = time_tune*threads_time[user][t]+(1-time_tune)*mw\n",
    "        threads_temp[t] = w\n",
    "    max_value = max(threads_temp.values())\n",
    "    min_value = min(threads_temp.values())\n",
    "    for k,v in threads_temp.items():\n",
    "        threads_temp[k] = normalize(max_value,min_value,v)\n",
    "    final_recommend[user] = sorted(threads_temp.items(), key = lambda kv:(kv[1], kv[0]),reverse=True)"
   ],
   "metadata": {
    "collapsed": false,
    "pycharm": {
     "name": "#%%\n"
    }
   }
  },
  {
   "cell_type": "code",
   "execution_count": 26,
   "outputs": [],
   "source": [
    "file = open('data/result.txt','a+')\n",
    "js = json.dumps(final_recommend)\n",
    "file.write(js)\n",
    "file.close()\n"
   ],
   "metadata": {
    "collapsed": false,
    "pycharm": {
     "name": "#%%\n"
    }
   }
  },
  {
   "cell_type": "code",
   "execution_count": null,
   "outputs": [],
   "source": [],
   "metadata": {
    "collapsed": false,
    "pycharm": {
     "name": "#%%\n"
    }
   }
  }
 ],
 "metadata": {
  "kernelspec": {
   "display_name": "Python 3",
   "language": "python",
   "name": "python3"
  },
  "language_info": {
   "codemirror_mode": {
    "name": "ipython",
    "version": 2
   },
   "file_extension": ".py",
   "mimetype": "text/x-python",
   "name": "python",
   "nbconvert_exporter": "python",
   "pygments_lexer": "ipython2",
   "version": "2.7.6"
  }
 },
 "nbformat": 4,
 "nbformat_minor": 0
}